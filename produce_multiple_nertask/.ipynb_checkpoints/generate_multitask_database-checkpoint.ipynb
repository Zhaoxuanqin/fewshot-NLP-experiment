{
 "cells": [
  {
   "cell_type": "code",
   "execution_count": 1,
   "metadata": {
    "id": "GOe_2tttDx75"
   },
   "outputs": [],
   "source": [
    "import datasets\n",
    "import torch\n",
    "import pandas as pd\n",
    "import json\n",
    "import copy\n",
    "import os\n",
    "import logging"
   ]
  },
  {
   "cell_type": "code",
   "execution_count": 2,
   "metadata": {},
   "outputs": [],
   "source": [
    "logging.basicConfig(level=logging.INFO)"
   ]
  },
  {
   "cell_type": "code",
   "execution_count": 3,
   "metadata": {
    "colab": {
     "base_uri": "https://localhost:8080/",
     "height": 81,
     "referenced_widgets": [
      "4e6de5c89c074e868b4f5495045d0f5a",
      "3f59891fb1814adb956bd5c8dfa79f3b",
      "f6a650d0121448feb009fccc5a8d71c5",
      "70d4a0613c2e484f8525b6d73e37ff4a",
      "33e5e37aae44479fabe8a0ba5611a97a",
      "b76ea5613bb94f0ab41306e25b914350",
      "a36b02f1670540dda73fd217cb4a3c6d",
      "27aed1713ab7481b8dbe2ed2f75edebe",
      "2344c8d366cc4f45a3137b91fee3dd9b",
      "580a0987cf264102b89c364d0da47509",
      "66b5c12d1c754602ba0049bb15200972",
      "2851085bcada45d08ba1b95875304dbf",
      "71022d3b51d245cab7fd2f6b5015c825",
      "a7ba013d201548fc82f2baa46dce6d00",
      "24ac48ded68d40cbb931b126f972f583",
      "88f0fc86ea354b54bc55943a3536dd6e",
      "6fe18371778c4cf3b25397d46f7d651d",
      "6ea597389ea14542958c13e93204153b",
      "47d0fbdf318a40769abcbaa9aa588af0",
      "54ce053ba80d44d7988b2dac7450997d",
      "20341133aa2a441bb530be04484fae74",
      "8c59ca00e89f4dad909eab2fad74d06d"
     ]
    },
    "id": "pWUpXV5xHjp8",
    "outputId": "80399ee1-70d4-4990-b056-6abefe6d9a9f"
   },
   "outputs": [],
   "source": [
    "#load original dataset\n",
    "train_dataset = datasets.load_dataset(path='nlpaueb/finer-139', split='train',streaming = True)\n",
    "test_dataset = datasets.load_dataset(path='nlpaueb/finer-139', split='test',streaming = True)\n",
    "validation_dataset = datasets.load_dataset(path='nlpaueb/finer-139', split='validation',streaming = True)"
   ]
  },
  {
   "cell_type": "code",
   "execution_count": 4,
   "metadata": {
    "id": "VHsxBjeRKUGQ"
   },
   "outputs": [],
   "source": [
    "# enumerate dataset, each value is a dict data type, each value has to keys which are tokens and ner_tags\n",
    "# i extract the tokens and ner_tags from dataset and put them in two lists.\n",
    "def get_fulldata(dataset):\n",
    "    tokens = []\n",
    "    ner_tags = []\n",
    "    for idx,value in enumerate(dataset):\n",
    "        tokens.append(value['tokens'])\n",
    "        ner_tags.append(value['ner_tags'])\n",
    "    return tokens,ner_tags"
   ]
  },
  {
   "cell_type": "code",
   "execution_count": null,
   "metadata": {
    "id": "7vC4SGctKVmx"
   },
   "outputs": [
    {
     "name": "stderr",
     "output_type": "stream",
     "text": [
      "INFO:datasets_modules.datasets.nlpaueb--finer-139.5f5a8eb2a38e8b142bb8ca63f3f9600634cc6c8963e4c982926cf2b48e4e55ff.finer-139:⏳ Generating examples from = zip://train.jsonl::https://huggingface.co/datasets/nlpaueb/finer-139/resolve/main/finer139.zip\n"
     ]
    }
   ],
   "source": [
    "train_tokens,train_ner_tags = get_fulldata(train_dataset)\n",
    "test_tokens,test_ner_tags = get_fulldata(test_dataset)\n",
    "validation_tokens,validation_ner_tags = get_fulldata(validation_dataset)"
   ]
  },
  {
   "cell_type": "code",
   "execution_count": null,
   "metadata": {
    "id": "B4Q_l68vKXl0"
   },
   "outputs": [],
   "source": [
    "def load_dataset_tags():\n",
    "    dataset = datasets.load_dataset('nlpaueb/finer-139', split='train', streaming=True)\n",
    "    dataset_tags = dataset.features['ner_tags'].feature.names\n",
    "    tag2idx = {tag: int(i) for i, tag in enumerate(dataset_tags)}\n",
    "    idx2tag = {idx: tag for tag, idx in tag2idx.items()}\n",
    "\n",
    "    return tag2idx, idx2tag"
   ]
  },
  {
   "cell_type": "code",
   "execution_count": null,
   "metadata": {
    "id": "RIrtygtUKZpP"
   },
   "outputs": [],
   "source": [
    "tag2idx, idx2tag = load_dataset_tags()"
   ]
  },
  {
   "cell_type": "code",
   "execution_count": null,
   "metadata": {
    "id": "AsMFbXmDKcht"
   },
   "outputs": [],
   "source": [
    "multi_task_dataset = ['ShareBasedCompensation','Amortization','BusinessCombination','Stock','DebtInstrument','EmployeeServiceShareBasedCompensation','EquityMethodInvestment',\n",
    "'LineOfCredit','LossContingency','OperatingLease','Revenue','Tax','Equity','BusinessAcquisition','Transaction','Loss']"
   ]
  },
  {
   "cell_type": "code",
   "execution_count": null,
   "metadata": {
    "id": "-3Yk5d-VKeah"
   },
   "outputs": [],
   "source": [
    "def produce_new_label(tag2idx,new_dataset_name:str):\n",
    "    new_label_list = [0]\n",
    "    new_label_dict = {'O': 0}\n",
    "    \n",
    "    for key in tag2idx.keys():\n",
    "        if new_dataset_name in key:\n",
    "            new_label_list.append(tag2idx[key])\n",
    "            new_label_dict[key] = tag2idx[key]\n",
    "    a = sorted(new_label_dict.items(), key=lambda x: x[1])\n",
    "    label_dict = new_label_dict.copy()\n",
    "    new = [x for x in range(len(new_label_list)+1)]\n",
    "    for i,j in zip(a,new):\n",
    "        label_dict[i[0]] = j\n",
    "    converter = {}\n",
    "    for key in new_label_dict.keys():\n",
    "        converter[new_label_dict[key]] = label_dict[key]\n",
    "        \n",
    "    return new_label_list,new_label_dict,label_dict,converter"
   ]
  },
  {
   "cell_type": "code",
   "execution_count": null,
   "metadata": {},
   "outputs": [],
   "source": [
    "def sampling_data(label_list,sample_num ,ner_tags,tokens):\n",
    "    new_tokens = []\n",
    "    new_tags = []\n",
    "    index_save = []\n",
    "    for i in label_list:\n",
    "        calculator = 0\n",
    "        if i != 0:\n",
    "            for index,value in enumerate(ner_tags):\n",
    "                if calculator == sample_num:\n",
    "                    break\n",
    "                if i in value:\n",
    "                    if calculator !=sample_num:\n",
    "                        if index not in index_save:\n",
    "                            new_tokens.append(tokens[index])\n",
    "                            new_tags.append(ner_tags[index])\n",
    "                            calculator = calculator+1\n",
    "                            index_save.append(index)\n",
    "            \n",
    "    ner_tags_sampl = convert_labels(new_tags,idx2tag)\n",
    "    for idx,va in enumerate(ner_tags_sampl):\n",
    "        for index,value in enumerate(va):\n",
    "            if value != 'O':\n",
    "                new_tokens[idx][index] = '******'+new_tokens[idx][index]+'******'\n",
    "            \n",
    "    \n",
    "    \n",
    "    return {'tokens':new_tokens,'ner_tags':ner_tags_sampl}\n",
    "                \n",
    "                \n",
    "    "
   ]
  },
  {
   "cell_type": "code",
   "execution_count": null,
   "metadata": {
    "id": "UjoJ3BpyKjgI"
   },
   "outputs": [],
   "source": [
    "def produce_multitask_data(ner_tags,tokens,dataset_name:str,learning_process:str):\n",
    "    print(\"Get \" + learning_process +\" \"+dataset_name+\" data\")\n",
    "\n",
    "    new_ner_tags = []\n",
    "    new_tokens = []\n",
    "    save_index = []\n",
    "    tmp_ner_tags = []\n",
    "\n",
    "    index_save = []\n",
    "    \n",
    "    relative_label = {}\n",
    "\n",
    "  \n",
    "    \n",
    "    new_label_list,new_label_dict,label_dict,converter = produce_new_label(tag2idx,dataset_name)\n",
    "    print(\"Label for dataset \"+ dataset_name)\n",
    "    print(new_label_list)\n",
    "    print(\"Total number of labels \"+ str(len(new_label_list)))\n",
    "    print('Original database label and idx')\n",
    "    \n",
    "    for key in new_label_dict.keys():\n",
    "        print(key+\": \"+ str(new_label_dict[key]))\n",
    "   \n",
    "    tmp_ner_tags = copy.deepcopy(ner_tags) \n",
    "    \n",
    "    for i in new_label_list:\n",
    "        for j in tmp_ner_tags:\n",
    "            if i in j:\n",
    "                for value in j:\n",
    "                    if value != 0:\n",
    "                        if value not in new_label_list:\n",
    "                            relative_label[idx2tag[value]] = relative_label.get(idx2tag[value], 0.0) + 1.0\n",
    "                            \n",
    "    for i in tmp_ner_tags: \n",
    "        for index,value in enumerate(i):\n",
    "            if value not in new_label_list:\n",
    "                i[index] = 0\n",
    "                \n",
    " \n",
    "    for i in new_label_list:\n",
    "        for index,value in enumerate(tmp_ner_tags):\n",
    "            if (i in value)&(i!=0):\n",
    "                if index not in index_save:\n",
    "                    new_ner_tags.append(tmp_ner_tags[index])\n",
    "                    new_tokens.append(tokens[index])\n",
    "                    index_save.append(index)\n",
    "\n",
    "\n",
    "    a = []\n",
    "    for i in new_ner_tags:\n",
    "        for j in i:\n",
    "            a.append(j)\n",
    "    print('New label contain in this dataset')\n",
    "    print(set(a))\n",
    "    final_label_list = list(set(a))\n",
    "\n",
    "    for key in new_label_dict.keys():\n",
    "        new_label_dict[key] = new_label_list.index(new_label_dict[key])\n",
    "\n",
    "    a = sorted(new_label_dict.items(), key=lambda x: x[1])\n",
    "    new = [x for x in range(len(new_label_list)+1)]\n",
    "    for i,j in zip(a,new):\n",
    "        new_label_dict[i[0]] = j\n",
    "    print(\"New label for dataset \"+ dataset_name)\n",
    "    print('New database label and idx')\n",
    "    for key in new_label_dict.keys():\n",
    "        print(key+\": \"+ str(new_label_dict[key]))\n",
    "    print('Total number of this database '+ str(len(index_save)))\n",
    "    print('=============================================================')\n",
    "        \n",
    "  \n",
    "    return new_ner_tags,new_tokens,new_label_dict,converter,index_save,final_label_list,relative_label"
   ]
  },
  {
   "cell_type": "code",
   "execution_count": null,
   "metadata": {
    "id": "Hew23rROpZ11"
   },
   "outputs": [],
   "source": [
    "def convert_labels(ner_tags,converter):\n",
    "    a = copy.deepcopy(ner_tags)\n",
    "    b = []\n",
    "  \n",
    "    for idx,va in enumerate(a):\n",
    "        for index,value in enumerate(va):\n",
    "            va[index] = converter[value]\n",
    "    \n",
    "    return a"
   ]
  },
  {
   "cell_type": "code",
   "execution_count": 13,
   "metadata": {
    "scrolled": false
   },
   "outputs": [
    {
     "name": "stderr",
     "output_type": "stream",
     "text": [
      "INFO:root:********** Scheme: Starting extract database **********\n",
      "INFO:root:********** Scheme: Starting extract database for ShareBasedCompensation train **********\n"
     ]
    },
    {
     "name": "stdout",
     "output_type": "stream",
     "text": [
      "======================================================================================\n",
      "Get train ShareBasedCompensation data\n",
      "Label for dataset ShareBasedCompensation\n",
      "[0, 4, 59, 60, 61, 62, 63, 137, 138, 139, 140, 141, 142, 143, 144, 145, 146, 147, 148, 149, 150, 177, 183, 188, 189, 193, 206, 211, 216, 223, 234, 257, 267]\n",
      "Total number of labels 33\n",
      "Original database label and idx\n",
      "O: 0\n",
      "B-AllocatedShareBasedCompensationExpense: 4\n",
      "B-EmployeeServiceShareBasedCompensationNonvestedAwardsTotalCompensationCostNotYetRecognized: 59\n",
      "B-EmployeeServiceShareBasedCompensationNonvestedAwardsTotalCompensationCostNotYetRecognizedPeriodForRecognition1: 60\n",
      "I-EmployeeServiceShareBasedCompensationNonvestedAwardsTotalCompensationCostNotYetRecognizedPeriodForRecognition1: 61\n",
      "B-EmployeeServiceShareBasedCompensationNonvestedAwardsTotalCompensationCostNotYetRecognizedShareBasedAwardsOtherThanOptions: 62\n",
      "B-EmployeeServiceShareBasedCompensationTaxBenefitFromCompensationExpense: 63\n",
      "B-ShareBasedCompensation: 137\n",
      "B-ShareBasedCompensationArrangementByShareBasedPaymentAwardAwardVestingPeriod1: 138\n",
      "I-ShareBasedCompensationArrangementByShareBasedPaymentAwardAwardVestingPeriod1: 139\n",
      "B-ShareBasedCompensationArrangementByShareBasedPaymentAwardEquityInstrumentsOtherThanOptionsGrantsInPeriod: 140\n",
      "I-ShareBasedCompensationArrangementByShareBasedPaymentAwardEquityInstrumentsOtherThanOptionsGrantsInPeriod: 141\n",
      "B-ShareBasedCompensationArrangementByShareBasedPaymentAwardEquityInstrumentsOtherThanOptionsGrantsInPeriodWeightedAverageGrantDateFairValue: 142\n",
      "B-ShareBasedCompensationArrangementByShareBasedPaymentAwardEquityInstrumentsOtherThanOptionsNonvestedNumber: 143\n",
      "B-ShareBasedCompensationArrangementByShareBasedPaymentAwardEquityInstrumentsOtherThanOptionsVestedInPeriodTotalFairValue: 144\n",
      "B-ShareBasedCompensationArrangementByShareBasedPaymentAwardNumberOfSharesAuthorized: 145\n",
      "I-ShareBasedCompensationArrangementByShareBasedPaymentAwardNumberOfSharesAuthorized: 146\n",
      "B-ShareBasedCompensationArrangementByShareBasedPaymentAwardNumberOfSharesAvailableForGrant: 147\n",
      "B-ShareBasedCompensationArrangementByShareBasedPaymentAwardOptionsExercisesInPeriodTotalIntrinsicValue: 148\n",
      "B-ShareBasedCompensationArrangementByShareBasedPaymentAwardOptionsGrantsInPeriodGross: 149\n",
      "B-ShareBasedCompensationArrangementByShareBasedPaymentAwardOptionsGrantsInPeriodWeightedAverageGrantDateFairValue: 150\n",
      "I-EmployeeServiceShareBasedCompensationNonvestedAwardsTotalCompensationCostNotYetRecognized: 177\n",
      "I-ShareBasedCompensation: 183\n",
      "I-ShareBasedCompensationArrangementByShareBasedPaymentAwardOptionsGrantsInPeriodWeightedAverageGrantDateFairValue: 188\n",
      "I-EmployeeServiceShareBasedCompensationNonvestedAwardsTotalCompensationCostNotYetRecognizedShareBasedAwardsOtherThanOptions: 189\n",
      "I-ShareBasedCompensationArrangementByShareBasedPaymentAwardNumberOfSharesAvailableForGrant: 193\n",
      "I-ShareBasedCompensationArrangementByShareBasedPaymentAwardOptionsGrantsInPeriodGross: 206\n",
      "I-ShareBasedCompensationArrangementByShareBasedPaymentAwardEquityInstrumentsOtherThanOptionsNonvestedNumber: 211\n",
      "I-ShareBasedCompensationArrangementByShareBasedPaymentAwardEquityInstrumentsOtherThanOptionsVestedInPeriodTotalFairValue: 216\n",
      "I-ShareBasedCompensationArrangementByShareBasedPaymentAwardEquityInstrumentsOtherThanOptionsGrantsInPeriodWeightedAverageGrantDateFairValue: 223\n",
      "I-AllocatedShareBasedCompensationExpense: 234\n",
      "I-EmployeeServiceShareBasedCompensationTaxBenefitFromCompensationExpense: 257\n",
      "I-ShareBasedCompensationArrangementByShareBasedPaymentAwardOptionsExercisesInPeriodTotalIntrinsicValue: 267\n",
      "New label contain in this dataset\n",
      "{0, 4, 137, 138, 139, 140, 141, 142, 143, 144, 145, 146, 147, 148, 149, 150, 59, 60, 61, 62, 63}\n",
      "New label for dataset ShareBasedCompensation\n",
      "New database label and idx\n",
      "O: 0\n",
      "B-AllocatedShareBasedCompensationExpense: 1\n",
      "B-EmployeeServiceShareBasedCompensationNonvestedAwardsTotalCompensationCostNotYetRecognized: 2\n",
      "B-EmployeeServiceShareBasedCompensationNonvestedAwardsTotalCompensationCostNotYetRecognizedPeriodForRecognition1: 3\n",
      "I-EmployeeServiceShareBasedCompensationNonvestedAwardsTotalCompensationCostNotYetRecognizedPeriodForRecognition1: 4\n",
      "B-EmployeeServiceShareBasedCompensationNonvestedAwardsTotalCompensationCostNotYetRecognizedShareBasedAwardsOtherThanOptions: 5\n",
      "B-EmployeeServiceShareBasedCompensationTaxBenefitFromCompensationExpense: 6\n",
      "B-ShareBasedCompensation: 7\n",
      "B-ShareBasedCompensationArrangementByShareBasedPaymentAwardAwardVestingPeriod1: 8\n",
      "I-ShareBasedCompensationArrangementByShareBasedPaymentAwardAwardVestingPeriod1: 9\n",
      "B-ShareBasedCompensationArrangementByShareBasedPaymentAwardEquityInstrumentsOtherThanOptionsGrantsInPeriod: 10\n",
      "I-ShareBasedCompensationArrangementByShareBasedPaymentAwardEquityInstrumentsOtherThanOptionsGrantsInPeriod: 11\n",
      "B-ShareBasedCompensationArrangementByShareBasedPaymentAwardEquityInstrumentsOtherThanOptionsGrantsInPeriodWeightedAverageGrantDateFairValue: 12\n",
      "B-ShareBasedCompensationArrangementByShareBasedPaymentAwardEquityInstrumentsOtherThanOptionsNonvestedNumber: 13\n",
      "B-ShareBasedCompensationArrangementByShareBasedPaymentAwardEquityInstrumentsOtherThanOptionsVestedInPeriodTotalFairValue: 14\n",
      "B-ShareBasedCompensationArrangementByShareBasedPaymentAwardNumberOfSharesAuthorized: 15\n",
      "I-ShareBasedCompensationArrangementByShareBasedPaymentAwardNumberOfSharesAuthorized: 16\n",
      "B-ShareBasedCompensationArrangementByShareBasedPaymentAwardNumberOfSharesAvailableForGrant: 17\n",
      "B-ShareBasedCompensationArrangementByShareBasedPaymentAwardOptionsExercisesInPeriodTotalIntrinsicValue: 18\n",
      "B-ShareBasedCompensationArrangementByShareBasedPaymentAwardOptionsGrantsInPeriodGross: 19\n",
      "B-ShareBasedCompensationArrangementByShareBasedPaymentAwardOptionsGrantsInPeriodWeightedAverageGrantDateFairValue: 20\n",
      "I-EmployeeServiceShareBasedCompensationNonvestedAwardsTotalCompensationCostNotYetRecognized: 21\n",
      "I-ShareBasedCompensation: 22\n",
      "I-ShareBasedCompensationArrangementByShareBasedPaymentAwardOptionsGrantsInPeriodWeightedAverageGrantDateFairValue: 23\n",
      "I-EmployeeServiceShareBasedCompensationNonvestedAwardsTotalCompensationCostNotYetRecognizedShareBasedAwardsOtherThanOptions: 24\n",
      "I-ShareBasedCompensationArrangementByShareBasedPaymentAwardNumberOfSharesAvailableForGrant: 25\n",
      "I-ShareBasedCompensationArrangementByShareBasedPaymentAwardOptionsGrantsInPeriodGross: 26\n",
      "I-ShareBasedCompensationArrangementByShareBasedPaymentAwardEquityInstrumentsOtherThanOptionsNonvestedNumber: 27\n",
      "I-ShareBasedCompensationArrangementByShareBasedPaymentAwardEquityInstrumentsOtherThanOptionsVestedInPeriodTotalFairValue: 28\n",
      "I-ShareBasedCompensationArrangementByShareBasedPaymentAwardEquityInstrumentsOtherThanOptionsGrantsInPeriodWeightedAverageGrantDateFairValue: 29\n",
      "I-AllocatedShareBasedCompensationExpense: 30\n",
      "I-EmployeeServiceShareBasedCompensationTaxBenefitFromCompensationExpense: 31\n",
      "I-ShareBasedCompensationArrangementByShareBasedPaymentAwardOptionsExercisesInPeriodTotalIntrinsicValue: 32\n",
      "Total number of this database 22768\n",
      "=============================================================\n"
     ]
    },
    {
     "name": "stderr",
     "output_type": "stream",
     "text": [
      "INFO:root:********** Sampling....... **********\n",
      "INFO:root:********** Producing train number database **********\n"
     ]
    },
    {
     "data": {
      "application/vnd.jupyter.widget-view+json": {
       "model_id": "6c4be9e145374e28861564cbee44effe",
       "version_major": 2,
       "version_minor": 0
      },
      "text/plain": [
       "Flattening the indices:   0%|          | 0/23 [00:00<?, ?ba/s]"
      ]
     },
     "metadata": {},
     "output_type": "display_data"
    },
    {
     "name": "stderr",
     "output_type": "stream",
     "text": [
      "INFO:root:********** Producing train str database **********\n"
     ]
    },
    {
     "data": {
      "application/vnd.jupyter.widget-view+json": {
       "model_id": "cbabf9b22c8b481191c71f42367043c0",
       "version_major": 2,
       "version_minor": 0
      },
      "text/plain": [
       "Flattening the indices:   0%|          | 0/23 [00:00<?, ?ba/s]"
      ]
     },
     "metadata": {},
     "output_type": "display_data"
    },
    {
     "name": "stderr",
     "output_type": "stream",
     "text": [
      "INFO:root:********** Finishing save the database **********\n",
      "INFO:root:********** Finishing extracting database for ShareBasedCompensation train **********\n",
      "INFO:root:********** Scheme: Starting extract database for ShareBasedCompensation validation **********\n"
     ]
    },
    {
     "name": "stdout",
     "output_type": "stream",
     "text": [
      "================================================================================================\n",
      "Get validation ShareBasedCompensation data\n",
      "Label for dataset ShareBasedCompensation\n",
      "[0, 4, 59, 60, 61, 62, 63, 137, 138, 139, 140, 141, 142, 143, 144, 145, 146, 147, 148, 149, 150, 177, 183, 188, 189, 193, 206, 211, 216, 223, 234, 257, 267]\n",
      "Total number of labels 33\n",
      "Original database label and idx\n",
      "O: 0\n",
      "B-AllocatedShareBasedCompensationExpense: 4\n",
      "B-EmployeeServiceShareBasedCompensationNonvestedAwardsTotalCompensationCostNotYetRecognized: 59\n",
      "B-EmployeeServiceShareBasedCompensationNonvestedAwardsTotalCompensationCostNotYetRecognizedPeriodForRecognition1: 60\n",
      "I-EmployeeServiceShareBasedCompensationNonvestedAwardsTotalCompensationCostNotYetRecognizedPeriodForRecognition1: 61\n",
      "B-EmployeeServiceShareBasedCompensationNonvestedAwardsTotalCompensationCostNotYetRecognizedShareBasedAwardsOtherThanOptions: 62\n",
      "B-EmployeeServiceShareBasedCompensationTaxBenefitFromCompensationExpense: 63\n",
      "B-ShareBasedCompensation: 137\n",
      "B-ShareBasedCompensationArrangementByShareBasedPaymentAwardAwardVestingPeriod1: 138\n",
      "I-ShareBasedCompensationArrangementByShareBasedPaymentAwardAwardVestingPeriod1: 139\n",
      "B-ShareBasedCompensationArrangementByShareBasedPaymentAwardEquityInstrumentsOtherThanOptionsGrantsInPeriod: 140\n",
      "I-ShareBasedCompensationArrangementByShareBasedPaymentAwardEquityInstrumentsOtherThanOptionsGrantsInPeriod: 141\n",
      "B-ShareBasedCompensationArrangementByShareBasedPaymentAwardEquityInstrumentsOtherThanOptionsGrantsInPeriodWeightedAverageGrantDateFairValue: 142\n",
      "B-ShareBasedCompensationArrangementByShareBasedPaymentAwardEquityInstrumentsOtherThanOptionsNonvestedNumber: 143\n",
      "B-ShareBasedCompensationArrangementByShareBasedPaymentAwardEquityInstrumentsOtherThanOptionsVestedInPeriodTotalFairValue: 144\n",
      "B-ShareBasedCompensationArrangementByShareBasedPaymentAwardNumberOfSharesAuthorized: 145\n",
      "I-ShareBasedCompensationArrangementByShareBasedPaymentAwardNumberOfSharesAuthorized: 146\n",
      "B-ShareBasedCompensationArrangementByShareBasedPaymentAwardNumberOfSharesAvailableForGrant: 147\n",
      "B-ShareBasedCompensationArrangementByShareBasedPaymentAwardOptionsExercisesInPeriodTotalIntrinsicValue: 148\n",
      "B-ShareBasedCompensationArrangementByShareBasedPaymentAwardOptionsGrantsInPeriodGross: 149\n",
      "B-ShareBasedCompensationArrangementByShareBasedPaymentAwardOptionsGrantsInPeriodWeightedAverageGrantDateFairValue: 150\n",
      "I-EmployeeServiceShareBasedCompensationNonvestedAwardsTotalCompensationCostNotYetRecognized: 177\n",
      "I-ShareBasedCompensation: 183\n",
      "I-ShareBasedCompensationArrangementByShareBasedPaymentAwardOptionsGrantsInPeriodWeightedAverageGrantDateFairValue: 188\n",
      "I-EmployeeServiceShareBasedCompensationNonvestedAwardsTotalCompensationCostNotYetRecognizedShareBasedAwardsOtherThanOptions: 189\n",
      "I-ShareBasedCompensationArrangementByShareBasedPaymentAwardNumberOfSharesAvailableForGrant: 193\n",
      "I-ShareBasedCompensationArrangementByShareBasedPaymentAwardOptionsGrantsInPeriodGross: 206\n",
      "I-ShareBasedCompensationArrangementByShareBasedPaymentAwardEquityInstrumentsOtherThanOptionsNonvestedNumber: 211\n",
      "I-ShareBasedCompensationArrangementByShareBasedPaymentAwardEquityInstrumentsOtherThanOptionsVestedInPeriodTotalFairValue: 216\n",
      "I-ShareBasedCompensationArrangementByShareBasedPaymentAwardEquityInstrumentsOtherThanOptionsGrantsInPeriodWeightedAverageGrantDateFairValue: 223\n",
      "I-AllocatedShareBasedCompensationExpense: 234\n",
      "I-EmployeeServiceShareBasedCompensationTaxBenefitFromCompensationExpense: 257\n",
      "I-ShareBasedCompensationArrangementByShareBasedPaymentAwardOptionsExercisesInPeriodTotalIntrinsicValue: 267\n",
      "New label contain in this dataset\n",
      "{0, 4, 137, 138, 139, 140, 142, 143, 144, 145, 147, 148, 149, 150, 59, 60, 61, 62, 63}\n",
      "New label for dataset ShareBasedCompensation\n",
      "New database label and idx\n",
      "O: 0\n",
      "B-AllocatedShareBasedCompensationExpense: 1\n",
      "B-EmployeeServiceShareBasedCompensationNonvestedAwardsTotalCompensationCostNotYetRecognized: 2\n",
      "B-EmployeeServiceShareBasedCompensationNonvestedAwardsTotalCompensationCostNotYetRecognizedPeriodForRecognition1: 3\n",
      "I-EmployeeServiceShareBasedCompensationNonvestedAwardsTotalCompensationCostNotYetRecognizedPeriodForRecognition1: 4\n",
      "B-EmployeeServiceShareBasedCompensationNonvestedAwardsTotalCompensationCostNotYetRecognizedShareBasedAwardsOtherThanOptions: 5\n",
      "B-EmployeeServiceShareBasedCompensationTaxBenefitFromCompensationExpense: 6\n",
      "B-ShareBasedCompensation: 7\n",
      "B-ShareBasedCompensationArrangementByShareBasedPaymentAwardAwardVestingPeriod1: 8\n",
      "I-ShareBasedCompensationArrangementByShareBasedPaymentAwardAwardVestingPeriod1: 9\n",
      "B-ShareBasedCompensationArrangementByShareBasedPaymentAwardEquityInstrumentsOtherThanOptionsGrantsInPeriod: 10\n",
      "I-ShareBasedCompensationArrangementByShareBasedPaymentAwardEquityInstrumentsOtherThanOptionsGrantsInPeriod: 11\n",
      "B-ShareBasedCompensationArrangementByShareBasedPaymentAwardEquityInstrumentsOtherThanOptionsGrantsInPeriodWeightedAverageGrantDateFairValue: 12\n",
      "B-ShareBasedCompensationArrangementByShareBasedPaymentAwardEquityInstrumentsOtherThanOptionsNonvestedNumber: 13\n",
      "B-ShareBasedCompensationArrangementByShareBasedPaymentAwardEquityInstrumentsOtherThanOptionsVestedInPeriodTotalFairValue: 14\n",
      "B-ShareBasedCompensationArrangementByShareBasedPaymentAwardNumberOfSharesAuthorized: 15\n",
      "I-ShareBasedCompensationArrangementByShareBasedPaymentAwardNumberOfSharesAuthorized: 16\n",
      "B-ShareBasedCompensationArrangementByShareBasedPaymentAwardNumberOfSharesAvailableForGrant: 17\n",
      "B-ShareBasedCompensationArrangementByShareBasedPaymentAwardOptionsExercisesInPeriodTotalIntrinsicValue: 18\n",
      "B-ShareBasedCompensationArrangementByShareBasedPaymentAwardOptionsGrantsInPeriodGross: 19\n",
      "B-ShareBasedCompensationArrangementByShareBasedPaymentAwardOptionsGrantsInPeriodWeightedAverageGrantDateFairValue: 20\n",
      "I-EmployeeServiceShareBasedCompensationNonvestedAwardsTotalCompensationCostNotYetRecognized: 21\n",
      "I-ShareBasedCompensation: 22\n",
      "I-ShareBasedCompensationArrangementByShareBasedPaymentAwardOptionsGrantsInPeriodWeightedAverageGrantDateFairValue: 23\n",
      "I-EmployeeServiceShareBasedCompensationNonvestedAwardsTotalCompensationCostNotYetRecognizedShareBasedAwardsOtherThanOptions: 24\n",
      "I-ShareBasedCompensationArrangementByShareBasedPaymentAwardNumberOfSharesAvailableForGrant: 25\n",
      "I-ShareBasedCompensationArrangementByShareBasedPaymentAwardOptionsGrantsInPeriodGross: 26\n",
      "I-ShareBasedCompensationArrangementByShareBasedPaymentAwardEquityInstrumentsOtherThanOptionsNonvestedNumber: 27\n",
      "I-ShareBasedCompensationArrangementByShareBasedPaymentAwardEquityInstrumentsOtherThanOptionsVestedInPeriodTotalFairValue: 28\n",
      "I-ShareBasedCompensationArrangementByShareBasedPaymentAwardEquityInstrumentsOtherThanOptionsGrantsInPeriodWeightedAverageGrantDateFairValue: 29\n",
      "I-AllocatedShareBasedCompensationExpense: 30\n",
      "I-EmployeeServiceShareBasedCompensationTaxBenefitFromCompensationExpense: 31\n",
      "I-ShareBasedCompensationArrangementByShareBasedPaymentAwardOptionsExercisesInPeriodTotalIntrinsicValue: 32\n",
      "Total number of this database 2644\n",
      "=============================================================\n"
     ]
    },
    {
     "name": "stderr",
     "output_type": "stream",
     "text": [
      "INFO:root:********** Sampling....... **********\n",
      "INFO:root:********** Producing validation number database **********\n"
     ]
    },
    {
     "data": {
      "application/vnd.jupyter.widget-view+json": {
       "model_id": "ee0766ebadc846f3aec5f0de2e01d7b5",
       "version_major": 2,
       "version_minor": 0
      },
      "text/plain": [
       "Flattening the indices:   0%|          | 0/3 [00:00<?, ?ba/s]"
      ]
     },
     "metadata": {},
     "output_type": "display_data"
    },
    {
     "name": "stderr",
     "output_type": "stream",
     "text": [
      "INFO:root:********** Producing validation str database **********\n"
     ]
    },
    {
     "data": {
      "application/vnd.jupyter.widget-view+json": {
       "model_id": "9df09076eeb94fa397d9617e0223febb",
       "version_major": 2,
       "version_minor": 0
      },
      "text/plain": [
       "Flattening the indices:   0%|          | 0/3 [00:00<?, ?ba/s]"
      ]
     },
     "metadata": {},
     "output_type": "display_data"
    },
    {
     "name": "stderr",
     "output_type": "stream",
     "text": [
      "INFO:root:********** Finishing save the database **********\n",
      "INFO:root:********** Finishing extracting database for ShareBasedCompensation validation **********\n",
      "INFO:root:********** Scheme: Starting extract database for ShareBasedCompensation test **********\n"
     ]
    },
    {
     "name": "stdout",
     "output_type": "stream",
     "text": [
      "================================================================================================\n",
      "Get test ShareBasedCompensation data\n",
      "Label for dataset ShareBasedCompensation\n",
      "[0, 4, 59, 60, 61, 62, 63, 137, 138, 139, 140, 141, 142, 143, 144, 145, 146, 147, 148, 149, 150, 177, 183, 188, 189, 193, 206, 211, 216, 223, 234, 257, 267]\n",
      "Total number of labels 33\n",
      "Original database label and idx\n",
      "O: 0\n",
      "B-AllocatedShareBasedCompensationExpense: 4\n",
      "B-EmployeeServiceShareBasedCompensationNonvestedAwardsTotalCompensationCostNotYetRecognized: 59\n",
      "B-EmployeeServiceShareBasedCompensationNonvestedAwardsTotalCompensationCostNotYetRecognizedPeriodForRecognition1: 60\n",
      "I-EmployeeServiceShareBasedCompensationNonvestedAwardsTotalCompensationCostNotYetRecognizedPeriodForRecognition1: 61\n",
      "B-EmployeeServiceShareBasedCompensationNonvestedAwardsTotalCompensationCostNotYetRecognizedShareBasedAwardsOtherThanOptions: 62\n",
      "B-EmployeeServiceShareBasedCompensationTaxBenefitFromCompensationExpense: 63\n",
      "B-ShareBasedCompensation: 137\n",
      "B-ShareBasedCompensationArrangementByShareBasedPaymentAwardAwardVestingPeriod1: 138\n",
      "I-ShareBasedCompensationArrangementByShareBasedPaymentAwardAwardVestingPeriod1: 139\n",
      "B-ShareBasedCompensationArrangementByShareBasedPaymentAwardEquityInstrumentsOtherThanOptionsGrantsInPeriod: 140\n",
      "I-ShareBasedCompensationArrangementByShareBasedPaymentAwardEquityInstrumentsOtherThanOptionsGrantsInPeriod: 141\n",
      "B-ShareBasedCompensationArrangementByShareBasedPaymentAwardEquityInstrumentsOtherThanOptionsGrantsInPeriodWeightedAverageGrantDateFairValue: 142\n",
      "B-ShareBasedCompensationArrangementByShareBasedPaymentAwardEquityInstrumentsOtherThanOptionsNonvestedNumber: 143\n",
      "B-ShareBasedCompensationArrangementByShareBasedPaymentAwardEquityInstrumentsOtherThanOptionsVestedInPeriodTotalFairValue: 144\n",
      "B-ShareBasedCompensationArrangementByShareBasedPaymentAwardNumberOfSharesAuthorized: 145\n",
      "I-ShareBasedCompensationArrangementByShareBasedPaymentAwardNumberOfSharesAuthorized: 146\n",
      "B-ShareBasedCompensationArrangementByShareBasedPaymentAwardNumberOfSharesAvailableForGrant: 147\n",
      "B-ShareBasedCompensationArrangementByShareBasedPaymentAwardOptionsExercisesInPeriodTotalIntrinsicValue: 148\n",
      "B-ShareBasedCompensationArrangementByShareBasedPaymentAwardOptionsGrantsInPeriodGross: 149\n",
      "B-ShareBasedCompensationArrangementByShareBasedPaymentAwardOptionsGrantsInPeriodWeightedAverageGrantDateFairValue: 150\n",
      "I-EmployeeServiceShareBasedCompensationNonvestedAwardsTotalCompensationCostNotYetRecognized: 177\n",
      "I-ShareBasedCompensation: 183\n",
      "I-ShareBasedCompensationArrangementByShareBasedPaymentAwardOptionsGrantsInPeriodWeightedAverageGrantDateFairValue: 188\n",
      "I-EmployeeServiceShareBasedCompensationNonvestedAwardsTotalCompensationCostNotYetRecognizedShareBasedAwardsOtherThanOptions: 189\n",
      "I-ShareBasedCompensationArrangementByShareBasedPaymentAwardNumberOfSharesAvailableForGrant: 193\n",
      "I-ShareBasedCompensationArrangementByShareBasedPaymentAwardOptionsGrantsInPeriodGross: 206\n",
      "I-ShareBasedCompensationArrangementByShareBasedPaymentAwardEquityInstrumentsOtherThanOptionsNonvestedNumber: 211\n",
      "I-ShareBasedCompensationArrangementByShareBasedPaymentAwardEquityInstrumentsOtherThanOptionsVestedInPeriodTotalFairValue: 216\n",
      "I-ShareBasedCompensationArrangementByShareBasedPaymentAwardEquityInstrumentsOtherThanOptionsGrantsInPeriodWeightedAverageGrantDateFairValue: 223\n",
      "I-AllocatedShareBasedCompensationExpense: 234\n",
      "I-EmployeeServiceShareBasedCompensationTaxBenefitFromCompensationExpense: 257\n",
      "I-ShareBasedCompensationArrangementByShareBasedPaymentAwardOptionsExercisesInPeriodTotalIntrinsicValue: 267\n"
     ]
    },
    {
     "name": "stderr",
     "output_type": "stream",
     "text": [
      "INFO:root:********** Sampling....... **********\n"
     ]
    },
    {
     "name": "stdout",
     "output_type": "stream",
     "text": [
      "New label contain in this dataset\n",
      "{0, 4, 137, 138, 139, 140, 142, 143, 144, 145, 147, 148, 149, 150, 59, 60, 61, 62, 63}\n",
      "New label for dataset ShareBasedCompensation\n",
      "New database label and idx\n",
      "O: 0\n",
      "B-AllocatedShareBasedCompensationExpense: 1\n",
      "B-EmployeeServiceShareBasedCompensationNonvestedAwardsTotalCompensationCostNotYetRecognized: 2\n",
      "B-EmployeeServiceShareBasedCompensationNonvestedAwardsTotalCompensationCostNotYetRecognizedPeriodForRecognition1: 3\n",
      "I-EmployeeServiceShareBasedCompensationNonvestedAwardsTotalCompensationCostNotYetRecognizedPeriodForRecognition1: 4\n",
      "B-EmployeeServiceShareBasedCompensationNonvestedAwardsTotalCompensationCostNotYetRecognizedShareBasedAwardsOtherThanOptions: 5\n",
      "B-EmployeeServiceShareBasedCompensationTaxBenefitFromCompensationExpense: 6\n",
      "B-ShareBasedCompensation: 7\n",
      "B-ShareBasedCompensationArrangementByShareBasedPaymentAwardAwardVestingPeriod1: 8\n",
      "I-ShareBasedCompensationArrangementByShareBasedPaymentAwardAwardVestingPeriod1: 9\n",
      "B-ShareBasedCompensationArrangementByShareBasedPaymentAwardEquityInstrumentsOtherThanOptionsGrantsInPeriod: 10\n",
      "I-ShareBasedCompensationArrangementByShareBasedPaymentAwardEquityInstrumentsOtherThanOptionsGrantsInPeriod: 11\n",
      "B-ShareBasedCompensationArrangementByShareBasedPaymentAwardEquityInstrumentsOtherThanOptionsGrantsInPeriodWeightedAverageGrantDateFairValue: 12\n",
      "B-ShareBasedCompensationArrangementByShareBasedPaymentAwardEquityInstrumentsOtherThanOptionsNonvestedNumber: 13\n",
      "B-ShareBasedCompensationArrangementByShareBasedPaymentAwardEquityInstrumentsOtherThanOptionsVestedInPeriodTotalFairValue: 14\n",
      "B-ShareBasedCompensationArrangementByShareBasedPaymentAwardNumberOfSharesAuthorized: 15\n",
      "I-ShareBasedCompensationArrangementByShareBasedPaymentAwardNumberOfSharesAuthorized: 16\n",
      "B-ShareBasedCompensationArrangementByShareBasedPaymentAwardNumberOfSharesAvailableForGrant: 17\n",
      "B-ShareBasedCompensationArrangementByShareBasedPaymentAwardOptionsExercisesInPeriodTotalIntrinsicValue: 18\n",
      "B-ShareBasedCompensationArrangementByShareBasedPaymentAwardOptionsGrantsInPeriodGross: 19\n",
      "B-ShareBasedCompensationArrangementByShareBasedPaymentAwardOptionsGrantsInPeriodWeightedAverageGrantDateFairValue: 20\n",
      "I-EmployeeServiceShareBasedCompensationNonvestedAwardsTotalCompensationCostNotYetRecognized: 21\n",
      "I-ShareBasedCompensation: 22\n",
      "I-ShareBasedCompensationArrangementByShareBasedPaymentAwardOptionsGrantsInPeriodWeightedAverageGrantDateFairValue: 23\n",
      "I-EmployeeServiceShareBasedCompensationNonvestedAwardsTotalCompensationCostNotYetRecognizedShareBasedAwardsOtherThanOptions: 24\n",
      "I-ShareBasedCompensationArrangementByShareBasedPaymentAwardNumberOfSharesAvailableForGrant: 25\n",
      "I-ShareBasedCompensationArrangementByShareBasedPaymentAwardOptionsGrantsInPeriodGross: 26\n",
      "I-ShareBasedCompensationArrangementByShareBasedPaymentAwardEquityInstrumentsOtherThanOptionsNonvestedNumber: 27\n",
      "I-ShareBasedCompensationArrangementByShareBasedPaymentAwardEquityInstrumentsOtherThanOptionsVestedInPeriodTotalFairValue: 28\n",
      "I-ShareBasedCompensationArrangementByShareBasedPaymentAwardEquityInstrumentsOtherThanOptionsGrantsInPeriodWeightedAverageGrantDateFairValue: 29\n",
      "I-AllocatedShareBasedCompensationExpense: 30\n",
      "I-EmployeeServiceShareBasedCompensationTaxBenefitFromCompensationExpense: 31\n",
      "I-ShareBasedCompensationArrangementByShareBasedPaymentAwardOptionsExercisesInPeriodTotalIntrinsicValue: 32\n",
      "Total number of this database 2392\n",
      "=============================================================\n"
     ]
    },
    {
     "name": "stderr",
     "output_type": "stream",
     "text": [
      "INFO:root:********** Producing test number database **********\n"
     ]
    },
    {
     "data": {
      "application/vnd.jupyter.widget-view+json": {
       "model_id": "a8b3a7fa5d1d438ea580080f635e762b",
       "version_major": 2,
       "version_minor": 0
      },
      "text/plain": [
       "Flattening the indices:   0%|          | 0/3 [00:00<?, ?ba/s]"
      ]
     },
     "metadata": {},
     "output_type": "display_data"
    },
    {
     "name": "stderr",
     "output_type": "stream",
     "text": [
      "INFO:root:********** Producing test str database **********\n"
     ]
    },
    {
     "data": {
      "application/vnd.jupyter.widget-view+json": {
       "model_id": "6127039bb154464788f9c643c5551d9d",
       "version_major": 2,
       "version_minor": 0
      },
      "text/plain": [
       "Flattening the indices:   0%|          | 0/3 [00:00<?, ?ba/s]"
      ]
     },
     "metadata": {},
     "output_type": "display_data"
    },
    {
     "name": "stderr",
     "output_type": "stream",
     "text": [
      "INFO:root:********** Finishing save the database **********\n",
      "INFO:root:********** Finishing extracting database for ShareBasedCompensation test **********\n",
      "INFO:root:********** Finishing extracting all database for ShareBasedCompensation **********\n",
      "INFO:root:********** Scheme: Starting extract database for Amortization train **********\n"
     ]
    },
    {
     "name": "stdout",
     "output_type": "stream",
     "text": [
      "================================================================================================\n",
      "======================================================================================\n",
      "Get train Amortization data\n",
      "Label for dataset Amortization\n",
      "[0, 5, 6, 7, 21, 208, 214]\n",
      "Total number of labels 7\n",
      "Original database label and idx\n",
      "O: 0\n",
      "B-AmortizationOfFinancingCosts: 5\n",
      "B-AmortizationOfIntangibleAssets: 6\n",
      "I-AmortizationOfIntangibleAssets: 7\n",
      "B-CapitalizedContractCostAmortization: 21\n",
      "I-AmortizationOfFinancingCosts: 208\n",
      "I-CapitalizedContractCostAmortization: 214\n",
      "New label contain in this dataset\n",
      "{0, 21, 5, 6}\n",
      "New label for dataset Amortization\n",
      "New database label and idx\n",
      "O: 0\n",
      "B-AmortizationOfFinancingCosts: 1\n",
      "B-AmortizationOfIntangibleAssets: 2\n",
      "I-AmortizationOfIntangibleAssets: 3\n",
      "B-CapitalizedContractCostAmortization: 4\n",
      "I-AmortizationOfFinancingCosts: 5\n",
      "I-CapitalizedContractCostAmortization: 6\n",
      "Total number of this database 3518\n",
      "=============================================================\n"
     ]
    },
    {
     "name": "stderr",
     "output_type": "stream",
     "text": [
      "INFO:root:********** Sampling....... **********\n",
      "INFO:root:********** Producing train number database **********\n"
     ]
    },
    {
     "data": {
      "application/vnd.jupyter.widget-view+json": {
       "model_id": "8bfbe78c1c3945c1a131f0990bb695cc",
       "version_major": 2,
       "version_minor": 0
      },
      "text/plain": [
       "Flattening the indices:   0%|          | 0/4 [00:00<?, ?ba/s]"
      ]
     },
     "metadata": {},
     "output_type": "display_data"
    },
    {
     "name": "stderr",
     "output_type": "stream",
     "text": [
      "INFO:root:********** Producing train str database **********\n"
     ]
    },
    {
     "data": {
      "application/vnd.jupyter.widget-view+json": {
       "model_id": "d5caa46038614820a06cef2a1866d4a9",
       "version_major": 2,
       "version_minor": 0
      },
      "text/plain": [
       "Flattening the indices:   0%|          | 0/4 [00:00<?, ?ba/s]"
      ]
     },
     "metadata": {},
     "output_type": "display_data"
    },
    {
     "name": "stderr",
     "output_type": "stream",
     "text": [
      "INFO:root:********** Finishing save the database **********\n",
      "INFO:root:********** Finishing extracting database for Amortization train **********\n",
      "INFO:root:********** Scheme: Starting extract database for Amortization validation **********\n"
     ]
    },
    {
     "name": "stdout",
     "output_type": "stream",
     "text": [
      "================================================================================================\n",
      "Get validation Amortization data\n",
      "Label for dataset Amortization\n",
      "[0, 5, 6, 7, 21, 208, 214]\n",
      "Total number of labels 7\n",
      "Original database label and idx\n",
      "O: 0\n",
      "B-AmortizationOfFinancingCosts: 5\n",
      "B-AmortizationOfIntangibleAssets: 6\n",
      "I-AmortizationOfIntangibleAssets: 7\n",
      "B-CapitalizedContractCostAmortization: 21\n",
      "I-AmortizationOfFinancingCosts: 208\n",
      "I-CapitalizedContractCostAmortization: 214\n"
     ]
    },
    {
     "name": "stderr",
     "output_type": "stream",
     "text": [
      "INFO:root:********** Sampling....... **********\n",
      "INFO:root:********** Producing validation number database **********\n"
     ]
    },
    {
     "name": "stdout",
     "output_type": "stream",
     "text": [
      "New label contain in this dataset\n",
      "{0, 5, 6, 7, 21}\n",
      "New label for dataset Amortization\n",
      "New database label and idx\n",
      "O: 0\n",
      "B-AmortizationOfFinancingCosts: 1\n",
      "B-AmortizationOfIntangibleAssets: 2\n",
      "I-AmortizationOfIntangibleAssets: 3\n",
      "B-CapitalizedContractCostAmortization: 4\n",
      "I-AmortizationOfFinancingCosts: 5\n",
      "I-CapitalizedContractCostAmortization: 6\n",
      "Total number of this database 386\n",
      "=============================================================\n"
     ]
    },
    {
     "data": {
      "application/vnd.jupyter.widget-view+json": {
       "model_id": "a74922e91b5140c9ac351768e5d9bb10",
       "version_major": 2,
       "version_minor": 0
      },
      "text/plain": [
       "Flattening the indices:   0%|          | 0/1 [00:00<?, ?ba/s]"
      ]
     },
     "metadata": {},
     "output_type": "display_data"
    },
    {
     "name": "stderr",
     "output_type": "stream",
     "text": [
      "INFO:root:********** Producing validation str database **********\n"
     ]
    },
    {
     "data": {
      "application/vnd.jupyter.widget-view+json": {
       "model_id": "d9e439f1092548c79871094c018d2097",
       "version_major": 2,
       "version_minor": 0
      },
      "text/plain": [
       "Flattening the indices:   0%|          | 0/1 [00:00<?, ?ba/s]"
      ]
     },
     "metadata": {},
     "output_type": "display_data"
    },
    {
     "name": "stderr",
     "output_type": "stream",
     "text": [
      "INFO:root:********** Finishing save the database **********\n",
      "INFO:root:********** Finishing extracting database for Amortization validation **********\n",
      "INFO:root:********** Scheme: Starting extract database for Amortization test **********\n"
     ]
    },
    {
     "name": "stdout",
     "output_type": "stream",
     "text": [
      "================================================================================================\n",
      "Get test Amortization data\n",
      "Label for dataset Amortization\n",
      "[0, 5, 6, 7, 21, 208, 214]\n",
      "Total number of labels 7\n",
      "Original database label and idx\n",
      "O: 0\n",
      "B-AmortizationOfFinancingCosts: 5\n",
      "B-AmortizationOfIntangibleAssets: 6\n",
      "I-AmortizationOfIntangibleAssets: 7\n",
      "B-CapitalizedContractCostAmortization: 21\n",
      "I-AmortizationOfFinancingCosts: 208\n",
      "I-CapitalizedContractCostAmortization: 214\n"
     ]
    },
    {
     "name": "stderr",
     "output_type": "stream",
     "text": [
      "INFO:root:********** Sampling....... **********\n",
      "INFO:root:********** Producing test number database **********\n"
     ]
    },
    {
     "name": "stdout",
     "output_type": "stream",
     "text": [
      "New label contain in this dataset\n",
      "{0, 5, 6, 7, 21}\n",
      "New label for dataset Amortization\n",
      "New database label and idx\n",
      "O: 0\n",
      "B-AmortizationOfFinancingCosts: 1\n",
      "B-AmortizationOfIntangibleAssets: 2\n",
      "I-AmortizationOfIntangibleAssets: 3\n",
      "B-CapitalizedContractCostAmortization: 4\n",
      "I-AmortizationOfFinancingCosts: 5\n",
      "I-CapitalizedContractCostAmortization: 6\n",
      "Total number of this database 327\n",
      "=============================================================\n"
     ]
    },
    {
     "data": {
      "application/vnd.jupyter.widget-view+json": {
       "model_id": "58d052af511e4c17a2c6b8e3c1a9f607",
       "version_major": 2,
       "version_minor": 0
      },
      "text/plain": [
       "Flattening the indices:   0%|          | 0/1 [00:00<?, ?ba/s]"
      ]
     },
     "metadata": {},
     "output_type": "display_data"
    },
    {
     "name": "stderr",
     "output_type": "stream",
     "text": [
      "INFO:root:********** Producing test str database **********\n"
     ]
    },
    {
     "data": {
      "application/vnd.jupyter.widget-view+json": {
       "model_id": "4d9dd72fa44746e0b38a8f043f5c2519",
       "version_major": 2,
       "version_minor": 0
      },
      "text/plain": [
       "Flattening the indices:   0%|          | 0/1 [00:00<?, ?ba/s]"
      ]
     },
     "metadata": {},
     "output_type": "display_data"
    },
    {
     "name": "stderr",
     "output_type": "stream",
     "text": [
      "INFO:root:********** Finishing save the database **********\n",
      "INFO:root:********** Finishing extracting database for Amortization test **********\n",
      "INFO:root:********** Finishing extracting all database for Amortization **********\n",
      "INFO:root:********** Scheme: Starting extract database for BusinessCombination train **********\n"
     ]
    },
    {
     "name": "stdout",
     "output_type": "stream",
     "text": [
      "================================================================================================\n",
      "======================================================================================\n",
      "Get train BusinessCombination data\n",
      "Label for dataset BusinessCombination\n",
      "[0, 16, 17, 18, 19, 20, 194, 202, 221, 241, 246]\n",
      "Total number of labels 11\n",
      "Original database label and idx\n",
      "O: 0\n",
      "B-BusinessCombinationAcquisitionRelatedCosts: 16\n",
      "B-BusinessCombinationConsiderationTransferred1: 17\n",
      "B-BusinessCombinationContingentConsiderationLiability: 18\n",
      "B-BusinessCombinationRecognizedIdentifiableAssetsAcquiredAndLiabilitiesAssumedIntangibleAssetsOtherThanGoodwill: 19\n",
      "B-BusinessCombinationRecognizedIdentifiableAssetsAcquiredAndLiabilitiesAssumedIntangibles: 20\n",
      "I-BusinessCombinationRecognizedIdentifiableAssetsAcquiredAndLiabilitiesAssumedIntangibleAssetsOtherThanGoodwill: 194\n",
      "I-BusinessCombinationConsiderationTransferred1: 202\n",
      "I-BusinessCombinationRecognizedIdentifiableAssetsAcquiredAndLiabilitiesAssumedIntangibles: 221\n",
      "I-BusinessCombinationContingentConsiderationLiability: 241\n",
      "I-BusinessCombinationAcquisitionRelatedCosts: 246\n",
      "New label contain in this dataset\n",
      "{0, 16, 17, 18, 19, 20}\n",
      "New label for dataset BusinessCombination\n",
      "New database label and idx\n",
      "O: 0\n",
      "B-BusinessCombinationAcquisitionRelatedCosts: 1\n",
      "B-BusinessCombinationConsiderationTransferred1: 2\n",
      "B-BusinessCombinationContingentConsiderationLiability: 3\n",
      "B-BusinessCombinationRecognizedIdentifiableAssetsAcquiredAndLiabilitiesAssumedIntangibleAssetsOtherThanGoodwill: 4\n",
      "B-BusinessCombinationRecognizedIdentifiableAssetsAcquiredAndLiabilitiesAssumedIntangibles: 5\n",
      "I-BusinessCombinationRecognizedIdentifiableAssetsAcquiredAndLiabilitiesAssumedIntangibleAssetsOtherThanGoodwill: 6\n",
      "I-BusinessCombinationConsiderationTransferred1: 7\n",
      "I-BusinessCombinationRecognizedIdentifiableAssetsAcquiredAndLiabilitiesAssumedIntangibles: 8\n",
      "I-BusinessCombinationContingentConsiderationLiability: 9\n",
      "I-BusinessCombinationAcquisitionRelatedCosts: 10\n",
      "Total number of this database 6517\n",
      "=============================================================\n"
     ]
    },
    {
     "name": "stderr",
     "output_type": "stream",
     "text": [
      "INFO:root:********** Sampling....... **********\n",
      "INFO:root:********** Producing train number database **********\n"
     ]
    },
    {
     "data": {
      "application/vnd.jupyter.widget-view+json": {
       "model_id": "955383b64e5a4cf092c84524b47d123d",
       "version_major": 2,
       "version_minor": 0
      },
      "text/plain": [
       "Flattening the indices:   0%|          | 0/7 [00:00<?, ?ba/s]"
      ]
     },
     "metadata": {},
     "output_type": "display_data"
    },
    {
     "name": "stderr",
     "output_type": "stream",
     "text": [
      "INFO:root:********** Producing train str database **********\n"
     ]
    },
    {
     "data": {
      "application/vnd.jupyter.widget-view+json": {
       "model_id": "6d0120b015be443db76e478fbfd71d63",
       "version_major": 2,
       "version_minor": 0
      },
      "text/plain": [
       "Flattening the indices:   0%|          | 0/7 [00:00<?, ?ba/s]"
      ]
     },
     "metadata": {},
     "output_type": "display_data"
    },
    {
     "name": "stderr",
     "output_type": "stream",
     "text": [
      "INFO:root:********** Finishing save the database **********\n",
      "INFO:root:********** Finishing extracting database for BusinessCombination train **********\n",
      "INFO:root:********** Scheme: Starting extract database for BusinessCombination validation **********\n"
     ]
    },
    {
     "name": "stdout",
     "output_type": "stream",
     "text": [
      "================================================================================================\n",
      "Get validation BusinessCombination data\n",
      "Label for dataset BusinessCombination\n",
      "[0, 16, 17, 18, 19, 20, 194, 202, 221, 241, 246]\n",
      "Total number of labels 11\n",
      "Original database label and idx\n",
      "O: 0\n",
      "B-BusinessCombinationAcquisitionRelatedCosts: 16\n",
      "B-BusinessCombinationConsiderationTransferred1: 17\n",
      "B-BusinessCombinationContingentConsiderationLiability: 18\n",
      "B-BusinessCombinationRecognizedIdentifiableAssetsAcquiredAndLiabilitiesAssumedIntangibleAssetsOtherThanGoodwill: 19\n",
      "B-BusinessCombinationRecognizedIdentifiableAssetsAcquiredAndLiabilitiesAssumedIntangibles: 20\n",
      "I-BusinessCombinationRecognizedIdentifiableAssetsAcquiredAndLiabilitiesAssumedIntangibleAssetsOtherThanGoodwill: 194\n",
      "I-BusinessCombinationConsiderationTransferred1: 202\n",
      "I-BusinessCombinationRecognizedIdentifiableAssetsAcquiredAndLiabilitiesAssumedIntangibles: 221\n",
      "I-BusinessCombinationContingentConsiderationLiability: 241\n",
      "I-BusinessCombinationAcquisitionRelatedCosts: 246\n"
     ]
    },
    {
     "name": "stderr",
     "output_type": "stream",
     "text": [
      "INFO:root:********** Sampling....... **********\n",
      "INFO:root:********** Producing validation number database **********\n"
     ]
    },
    {
     "name": "stdout",
     "output_type": "stream",
     "text": [
      "New label contain in this dataset\n",
      "{0, 16, 17, 18, 19, 20}\n",
      "New label for dataset BusinessCombination\n",
      "New database label and idx\n",
      "O: 0\n",
      "B-BusinessCombinationAcquisitionRelatedCosts: 1\n",
      "B-BusinessCombinationConsiderationTransferred1: 2\n",
      "B-BusinessCombinationContingentConsiderationLiability: 3\n",
      "B-BusinessCombinationRecognizedIdentifiableAssetsAcquiredAndLiabilitiesAssumedIntangibleAssetsOtherThanGoodwill: 4\n",
      "B-BusinessCombinationRecognizedIdentifiableAssetsAcquiredAndLiabilitiesAssumedIntangibles: 5\n",
      "I-BusinessCombinationRecognizedIdentifiableAssetsAcquiredAndLiabilitiesAssumedIntangibleAssetsOtherThanGoodwill: 6\n",
      "I-BusinessCombinationConsiderationTransferred1: 7\n",
      "I-BusinessCombinationRecognizedIdentifiableAssetsAcquiredAndLiabilitiesAssumedIntangibles: 8\n",
      "I-BusinessCombinationContingentConsiderationLiability: 9\n",
      "I-BusinessCombinationAcquisitionRelatedCosts: 10\n",
      "Total number of this database 570\n",
      "=============================================================\n"
     ]
    },
    {
     "data": {
      "application/vnd.jupyter.widget-view+json": {
       "model_id": "212510672e1b4d7c8656eaf377b42cb4",
       "version_major": 2,
       "version_minor": 0
      },
      "text/plain": [
       "Flattening the indices:   0%|          | 0/1 [00:00<?, ?ba/s]"
      ]
     },
     "metadata": {},
     "output_type": "display_data"
    },
    {
     "name": "stderr",
     "output_type": "stream",
     "text": [
      "INFO:root:********** Producing validation str database **********\n"
     ]
    },
    {
     "data": {
      "application/vnd.jupyter.widget-view+json": {
       "model_id": "7514982998924338960a9460e60faaa5",
       "version_major": 2,
       "version_minor": 0
      },
      "text/plain": [
       "Flattening the indices:   0%|          | 0/1 [00:00<?, ?ba/s]"
      ]
     },
     "metadata": {},
     "output_type": "display_data"
    },
    {
     "name": "stderr",
     "output_type": "stream",
     "text": [
      "INFO:root:********** Finishing save the database **********\n",
      "INFO:root:********** Finishing extracting database for BusinessCombination validation **********\n",
      "INFO:root:********** Scheme: Starting extract database for BusinessCombination test **********\n"
     ]
    },
    {
     "name": "stdout",
     "output_type": "stream",
     "text": [
      "================================================================================================\n",
      "Get test BusinessCombination data\n",
      "Label for dataset BusinessCombination\n",
      "[0, 16, 17, 18, 19, 20, 194, 202, 221, 241, 246]\n",
      "Total number of labels 11\n",
      "Original database label and idx\n",
      "O: 0\n",
      "B-BusinessCombinationAcquisitionRelatedCosts: 16\n",
      "B-BusinessCombinationConsiderationTransferred1: 17\n",
      "B-BusinessCombinationContingentConsiderationLiability: 18\n",
      "B-BusinessCombinationRecognizedIdentifiableAssetsAcquiredAndLiabilitiesAssumedIntangibleAssetsOtherThanGoodwill: 19\n",
      "B-BusinessCombinationRecognizedIdentifiableAssetsAcquiredAndLiabilitiesAssumedIntangibles: 20\n",
      "I-BusinessCombinationRecognizedIdentifiableAssetsAcquiredAndLiabilitiesAssumedIntangibleAssetsOtherThanGoodwill: 194\n",
      "I-BusinessCombinationConsiderationTransferred1: 202\n",
      "I-BusinessCombinationRecognizedIdentifiableAssetsAcquiredAndLiabilitiesAssumedIntangibles: 221\n",
      "I-BusinessCombinationContingentConsiderationLiability: 241\n",
      "I-BusinessCombinationAcquisitionRelatedCosts: 246\n"
     ]
    },
    {
     "name": "stderr",
     "output_type": "stream",
     "text": [
      "INFO:root:********** Sampling....... **********\n",
      "INFO:root:********** Producing test number database **********\n"
     ]
    },
    {
     "name": "stdout",
     "output_type": "stream",
     "text": [
      "New label contain in this dataset\n",
      "{0, 16, 17, 18, 19, 20}\n",
      "New label for dataset BusinessCombination\n",
      "New database label and idx\n",
      "O: 0\n",
      "B-BusinessCombinationAcquisitionRelatedCosts: 1\n",
      "B-BusinessCombinationConsiderationTransferred1: 2\n",
      "B-BusinessCombinationContingentConsiderationLiability: 3\n",
      "B-BusinessCombinationRecognizedIdentifiableAssetsAcquiredAndLiabilitiesAssumedIntangibleAssetsOtherThanGoodwill: 4\n",
      "B-BusinessCombinationRecognizedIdentifiableAssetsAcquiredAndLiabilitiesAssumedIntangibles: 5\n",
      "I-BusinessCombinationRecognizedIdentifiableAssetsAcquiredAndLiabilitiesAssumedIntangibleAssetsOtherThanGoodwill: 6\n",
      "I-BusinessCombinationConsiderationTransferred1: 7\n",
      "I-BusinessCombinationRecognizedIdentifiableAssetsAcquiredAndLiabilitiesAssumedIntangibles: 8\n",
      "I-BusinessCombinationContingentConsiderationLiability: 9\n",
      "I-BusinessCombinationAcquisitionRelatedCosts: 10\n",
      "Total number of this database 577\n",
      "=============================================================\n"
     ]
    },
    {
     "data": {
      "application/vnd.jupyter.widget-view+json": {
       "model_id": "72a1e6183005474faec7537e310c358b",
       "version_major": 2,
       "version_minor": 0
      },
      "text/plain": [
       "Flattening the indices:   0%|          | 0/1 [00:00<?, ?ba/s]"
      ]
     },
     "metadata": {},
     "output_type": "display_data"
    },
    {
     "name": "stderr",
     "output_type": "stream",
     "text": [
      "INFO:root:********** Producing test str database **********\n"
     ]
    },
    {
     "data": {
      "application/vnd.jupyter.widget-view+json": {
       "model_id": "abfca13451b94b8584c52cb7eefe31c1",
       "version_major": 2,
       "version_minor": 0
      },
      "text/plain": [
       "Flattening the indices:   0%|          | 0/1 [00:00<?, ?ba/s]"
      ]
     },
     "metadata": {},
     "output_type": "display_data"
    },
    {
     "name": "stderr",
     "output_type": "stream",
     "text": [
      "INFO:root:********** Finishing save the database **********\n",
      "INFO:root:********** Finishing extracting database for BusinessCombination test **********\n",
      "INFO:root:********** Finishing extracting all database for BusinessCombination **********\n",
      "INFO:root:********** Scheme: Starting extract database for Stock train **********\n"
     ]
    },
    {
     "name": "stdout",
     "output_type": "stream",
     "text": [
      "================================================================================================\n",
      "======================================================================================\n",
      "Get train Stock data\n",
      "Label for dataset Stock\n",
      "[0, 24, 25, 26, 27, 28, 29, 115, 116, 117, 118, 134, 135, 136, 156, 157, 158, 159, 160, 161, 162, 164, 165, 166, 167, 171, 195, 203, 207, 210, 213, 219, 227, 229, 255, 256, 270]\n",
      "Total number of labels 37\n",
      "Original database label and idx\n",
      "O: 0\n",
      "B-CommonStockCapitalSharesReservedForFutureIssuance: 24\n",
      "B-CommonStockDividendsPerShareDeclared: 25\n",
      "B-CommonStockParOrStatedValuePerShare: 26\n",
      "B-CommonStockSharesAuthorized: 27\n",
      "I-CommonStockSharesAuthorized: 28\n",
      "B-CommonStockSharesOutstanding: 29\n",
      "B-PreferredStockDividendRatePercentage: 115\n",
      "B-PreferredStockSharesAuthorized: 116\n",
      "I-PreferredStockSharesAuthorized: 117\n",
      "B-ProceedsFromIssuanceOfCommonStock: 118\n",
      "B-SaleOfStockNumberOfSharesIssuedInTransaction: 134\n",
      "I-SaleOfStockNumberOfSharesIssuedInTransaction: 135\n",
      "B-SaleOfStockPricePerShare: 136\n",
      "B-StockIssuedDuringPeriodSharesNewIssues: 156\n",
      "I-StockIssuedDuringPeriodSharesNewIssues: 157\n",
      "B-StockRepurchaseProgramAuthorizedAmount1: 158\n",
      "B-StockRepurchaseProgramRemainingAuthorizedRepurchaseAmount1: 159\n",
      "B-StockRepurchasedAndRetiredDuringPeriodShares: 160\n",
      "B-StockRepurchasedDuringPeriodShares: 161\n",
      "I-StockRepurchasedDuringPeriodShares: 162\n",
      "B-TreasuryStockAcquiredAverageCostPerShare: 164\n",
      "B-TreasuryStockSharesAcquired: 165\n",
      "I-TreasuryStockSharesAcquired: 166\n",
      "B-TreasuryStockValueAcquiredCostMethod: 167\n",
      "I-CommonStockParOrStatedValuePerShare: 171\n",
      "I-PreferredStockDividendRatePercentage: 195\n",
      "I-CommonStockDividendsPerShareDeclared: 203\n",
      "I-CommonStockSharesOutstanding: 207\n",
      "I-TreasuryStockValueAcquiredCostMethod: 210\n",
      "I-SaleOfStockPricePerShare: 213\n",
      "I-ProceedsFromIssuanceOfCommonStock: 219\n",
      "I-TreasuryStockAcquiredAverageCostPerShare: 227\n",
      "I-StockRepurchaseProgramAuthorizedAmount1: 229\n",
      "I-CommonStockCapitalSharesReservedForFutureIssuance: 255\n",
      "I-StockRepurchasedAndRetiredDuringPeriodShares: 256\n",
      "I-StockRepurchaseProgramRemainingAuthorizedRepurchaseAmount1: 270\n",
      "New label contain in this dataset\n",
      "{0, 134, 135, 136, 24, 25, 26, 27, 28, 156, 29, 158, 160, 159, 161, 157, 164, 165, 162, 167, 166, 115, 116, 117, 118}\n",
      "New label for dataset Stock\n",
      "New database label and idx\n",
      "O: 0\n",
      "B-CommonStockCapitalSharesReservedForFutureIssuance: 1\n",
      "B-CommonStockDividendsPerShareDeclared: 2\n",
      "B-CommonStockParOrStatedValuePerShare: 3\n",
      "B-CommonStockSharesAuthorized: 4\n",
      "I-CommonStockSharesAuthorized: 5\n",
      "B-CommonStockSharesOutstanding: 6\n",
      "B-PreferredStockDividendRatePercentage: 7\n",
      "B-PreferredStockSharesAuthorized: 8\n",
      "I-PreferredStockSharesAuthorized: 9\n",
      "B-ProceedsFromIssuanceOfCommonStock: 10\n",
      "B-SaleOfStockNumberOfSharesIssuedInTransaction: 11\n",
      "I-SaleOfStockNumberOfSharesIssuedInTransaction: 12\n",
      "B-SaleOfStockPricePerShare: 13\n",
      "B-StockIssuedDuringPeriodSharesNewIssues: 14\n",
      "I-StockIssuedDuringPeriodSharesNewIssues: 15\n",
      "B-StockRepurchaseProgramAuthorizedAmount1: 16\n",
      "B-StockRepurchaseProgramRemainingAuthorizedRepurchaseAmount1: 17\n",
      "B-StockRepurchasedAndRetiredDuringPeriodShares: 18\n",
      "B-StockRepurchasedDuringPeriodShares: 19\n",
      "I-StockRepurchasedDuringPeriodShares: 20\n",
      "B-TreasuryStockAcquiredAverageCostPerShare: 21\n",
      "B-TreasuryStockSharesAcquired: 22\n",
      "I-TreasuryStockSharesAcquired: 23\n",
      "B-TreasuryStockValueAcquiredCostMethod: 24\n",
      "I-CommonStockParOrStatedValuePerShare: 25\n",
      "I-PreferredStockDividendRatePercentage: 26\n",
      "I-CommonStockDividendsPerShareDeclared: 27\n",
      "I-CommonStockSharesOutstanding: 28\n",
      "I-TreasuryStockValueAcquiredCostMethod: 29\n",
      "I-SaleOfStockPricePerShare: 30\n",
      "I-ProceedsFromIssuanceOfCommonStock: 31\n",
      "I-TreasuryStockAcquiredAverageCostPerShare: 32\n",
      "I-StockRepurchaseProgramAuthorizedAmount1: 33\n",
      "I-CommonStockCapitalSharesReservedForFutureIssuance: 34\n",
      "I-StockRepurchasedAndRetiredDuringPeriodShares: 35\n",
      "I-StockRepurchaseProgramRemainingAuthorizedRepurchaseAmount1: 36\n",
      "Total number of this database 15239\n",
      "=============================================================\n"
     ]
    },
    {
     "name": "stderr",
     "output_type": "stream",
     "text": [
      "INFO:root:********** Sampling....... **********\n",
      "INFO:root:********** Producing train number database **********\n"
     ]
    },
    {
     "data": {
      "application/vnd.jupyter.widget-view+json": {
       "model_id": "8312051323e34ac9a364ab1450e2da0e",
       "version_major": 2,
       "version_minor": 0
      },
      "text/plain": [
       "Flattening the indices:   0%|          | 0/16 [00:00<?, ?ba/s]"
      ]
     },
     "metadata": {},
     "output_type": "display_data"
    },
    {
     "name": "stderr",
     "output_type": "stream",
     "text": [
      "INFO:root:********** Producing train str database **********\n"
     ]
    },
    {
     "data": {
      "application/vnd.jupyter.widget-view+json": {
       "model_id": "2271be790add43318ba0633477423f5b",
       "version_major": 2,
       "version_minor": 0
      },
      "text/plain": [
       "Flattening the indices:   0%|          | 0/16 [00:00<?, ?ba/s]"
      ]
     },
     "metadata": {},
     "output_type": "display_data"
    },
    {
     "name": "stderr",
     "output_type": "stream",
     "text": [
      "INFO:root:********** Finishing save the database **********\n",
      "INFO:root:********** Finishing extracting database for Stock train **********\n",
      "INFO:root:********** Scheme: Starting extract database for Stock validation **********\n"
     ]
    },
    {
     "name": "stdout",
     "output_type": "stream",
     "text": [
      "================================================================================================\n",
      "Get validation Stock data\n",
      "Label for dataset Stock\n",
      "[0, 24, 25, 26, 27, 28, 29, 115, 116, 117, 118, 134, 135, 136, 156, 157, 158, 159, 160, 161, 162, 164, 165, 166, 167, 171, 195, 203, 207, 210, 213, 219, 227, 229, 255, 256, 270]\n",
      "Total number of labels 37\n",
      "Original database label and idx\n",
      "O: 0\n",
      "B-CommonStockCapitalSharesReservedForFutureIssuance: 24\n",
      "B-CommonStockDividendsPerShareDeclared: 25\n",
      "B-CommonStockParOrStatedValuePerShare: 26\n",
      "B-CommonStockSharesAuthorized: 27\n",
      "I-CommonStockSharesAuthorized: 28\n",
      "B-CommonStockSharesOutstanding: 29\n",
      "B-PreferredStockDividendRatePercentage: 115\n",
      "B-PreferredStockSharesAuthorized: 116\n",
      "I-PreferredStockSharesAuthorized: 117\n",
      "B-ProceedsFromIssuanceOfCommonStock: 118\n",
      "B-SaleOfStockNumberOfSharesIssuedInTransaction: 134\n",
      "I-SaleOfStockNumberOfSharesIssuedInTransaction: 135\n",
      "B-SaleOfStockPricePerShare: 136\n",
      "B-StockIssuedDuringPeriodSharesNewIssues: 156\n",
      "I-StockIssuedDuringPeriodSharesNewIssues: 157\n",
      "B-StockRepurchaseProgramAuthorizedAmount1: 158\n",
      "B-StockRepurchaseProgramRemainingAuthorizedRepurchaseAmount1: 159\n",
      "B-StockRepurchasedAndRetiredDuringPeriodShares: 160\n",
      "B-StockRepurchasedDuringPeriodShares: 161\n",
      "I-StockRepurchasedDuringPeriodShares: 162\n",
      "B-TreasuryStockAcquiredAverageCostPerShare: 164\n",
      "B-TreasuryStockSharesAcquired: 165\n",
      "I-TreasuryStockSharesAcquired: 166\n",
      "B-TreasuryStockValueAcquiredCostMethod: 167\n",
      "I-CommonStockParOrStatedValuePerShare: 171\n",
      "I-PreferredStockDividendRatePercentage: 195\n",
      "I-CommonStockDividendsPerShareDeclared: 203\n",
      "I-CommonStockSharesOutstanding: 207\n",
      "I-TreasuryStockValueAcquiredCostMethod: 210\n",
      "I-SaleOfStockPricePerShare: 213\n",
      "I-ProceedsFromIssuanceOfCommonStock: 219\n",
      "I-TreasuryStockAcquiredAverageCostPerShare: 227\n",
      "I-StockRepurchaseProgramAuthorizedAmount1: 229\n",
      "I-CommonStockCapitalSharesReservedForFutureIssuance: 255\n",
      "I-StockRepurchasedAndRetiredDuringPeriodShares: 256\n",
      "I-StockRepurchaseProgramRemainingAuthorizedRepurchaseAmount1: 270\n"
     ]
    },
    {
     "name": "stderr",
     "output_type": "stream",
     "text": [
      "INFO:root:********** Sampling....... **********\n"
     ]
    },
    {
     "name": "stdout",
     "output_type": "stream",
     "text": [
      "New label contain in this dataset\n",
      "{0, 134, 136, 24, 25, 26, 27, 28, 157, 156, 29, 158, 159, 160, 161, 164, 165, 167, 115, 116, 117, 118}\n",
      "New label for dataset Stock\n",
      "New database label and idx\n",
      "O: 0\n",
      "B-CommonStockCapitalSharesReservedForFutureIssuance: 1\n",
      "B-CommonStockDividendsPerShareDeclared: 2\n",
      "B-CommonStockParOrStatedValuePerShare: 3\n",
      "B-CommonStockSharesAuthorized: 4\n",
      "I-CommonStockSharesAuthorized: 5\n",
      "B-CommonStockSharesOutstanding: 6\n",
      "B-PreferredStockDividendRatePercentage: 7\n",
      "B-PreferredStockSharesAuthorized: 8\n",
      "I-PreferredStockSharesAuthorized: 9\n",
      "B-ProceedsFromIssuanceOfCommonStock: 10\n",
      "B-SaleOfStockNumberOfSharesIssuedInTransaction: 11\n",
      "I-SaleOfStockNumberOfSharesIssuedInTransaction: 12\n",
      "B-SaleOfStockPricePerShare: 13\n",
      "B-StockIssuedDuringPeriodSharesNewIssues: 14\n",
      "I-StockIssuedDuringPeriodSharesNewIssues: 15\n",
      "B-StockRepurchaseProgramAuthorizedAmount1: 16\n",
      "B-StockRepurchaseProgramRemainingAuthorizedRepurchaseAmount1: 17\n",
      "B-StockRepurchasedAndRetiredDuringPeriodShares: 18\n",
      "B-StockRepurchasedDuringPeriodShares: 19\n",
      "I-StockRepurchasedDuringPeriodShares: 20\n",
      "B-TreasuryStockAcquiredAverageCostPerShare: 21\n",
      "B-TreasuryStockSharesAcquired: 22\n",
      "I-TreasuryStockSharesAcquired: 23\n",
      "B-TreasuryStockValueAcquiredCostMethod: 24\n",
      "I-CommonStockParOrStatedValuePerShare: 25\n",
      "I-PreferredStockDividendRatePercentage: 26\n",
      "I-CommonStockDividendsPerShareDeclared: 27\n",
      "I-CommonStockSharesOutstanding: 28\n",
      "I-TreasuryStockValueAcquiredCostMethod: 29\n",
      "I-SaleOfStockPricePerShare: 30\n",
      "I-ProceedsFromIssuanceOfCommonStock: 31\n",
      "I-TreasuryStockAcquiredAverageCostPerShare: 32\n",
      "I-StockRepurchaseProgramAuthorizedAmount1: 33\n",
      "I-CommonStockCapitalSharesReservedForFutureIssuance: 34\n",
      "I-StockRepurchasedAndRetiredDuringPeriodShares: 35\n",
      "I-StockRepurchaseProgramRemainingAuthorizedRepurchaseAmount1: 36\n",
      "Total number of this database 1842\n",
      "=============================================================\n"
     ]
    },
    {
     "name": "stderr",
     "output_type": "stream",
     "text": [
      "INFO:root:********** Producing validation number database **********\n"
     ]
    },
    {
     "data": {
      "application/vnd.jupyter.widget-view+json": {
       "model_id": "42e69728511e45f3ab7ea935640e6170",
       "version_major": 2,
       "version_minor": 0
      },
      "text/plain": [
       "Flattening the indices:   0%|          | 0/2 [00:00<?, ?ba/s]"
      ]
     },
     "metadata": {},
     "output_type": "display_data"
    },
    {
     "name": "stderr",
     "output_type": "stream",
     "text": [
      "INFO:root:********** Producing validation str database **********\n"
     ]
    },
    {
     "data": {
      "application/vnd.jupyter.widget-view+json": {
       "model_id": "a52e1d67041f49fcbd63bdb6c48c4859",
       "version_major": 2,
       "version_minor": 0
      },
      "text/plain": [
       "Flattening the indices:   0%|          | 0/2 [00:00<?, ?ba/s]"
      ]
     },
     "metadata": {},
     "output_type": "display_data"
    },
    {
     "name": "stderr",
     "output_type": "stream",
     "text": [
      "INFO:root:********** Finishing save the database **********\n",
      "INFO:root:********** Finishing extracting database for Stock validation **********\n",
      "INFO:root:********** Scheme: Starting extract database for Stock test **********\n"
     ]
    },
    {
     "name": "stdout",
     "output_type": "stream",
     "text": [
      "================================================================================================\n",
      "Get test Stock data\n",
      "Label for dataset Stock\n",
      "[0, 24, 25, 26, 27, 28, 29, 115, 116, 117, 118, 134, 135, 136, 156, 157, 158, 159, 160, 161, 162, 164, 165, 166, 167, 171, 195, 203, 207, 210, 213, 219, 227, 229, 255, 256, 270]\n",
      "Total number of labels 37\n",
      "Original database label and idx\n",
      "O: 0\n",
      "B-CommonStockCapitalSharesReservedForFutureIssuance: 24\n",
      "B-CommonStockDividendsPerShareDeclared: 25\n",
      "B-CommonStockParOrStatedValuePerShare: 26\n",
      "B-CommonStockSharesAuthorized: 27\n",
      "I-CommonStockSharesAuthorized: 28\n",
      "B-CommonStockSharesOutstanding: 29\n",
      "B-PreferredStockDividendRatePercentage: 115\n",
      "B-PreferredStockSharesAuthorized: 116\n",
      "I-PreferredStockSharesAuthorized: 117\n",
      "B-ProceedsFromIssuanceOfCommonStock: 118\n",
      "B-SaleOfStockNumberOfSharesIssuedInTransaction: 134\n",
      "I-SaleOfStockNumberOfSharesIssuedInTransaction: 135\n",
      "B-SaleOfStockPricePerShare: 136\n",
      "B-StockIssuedDuringPeriodSharesNewIssues: 156\n",
      "I-StockIssuedDuringPeriodSharesNewIssues: 157\n",
      "B-StockRepurchaseProgramAuthorizedAmount1: 158\n",
      "B-StockRepurchaseProgramRemainingAuthorizedRepurchaseAmount1: 159\n",
      "B-StockRepurchasedAndRetiredDuringPeriodShares: 160\n",
      "B-StockRepurchasedDuringPeriodShares: 161\n",
      "I-StockRepurchasedDuringPeriodShares: 162\n",
      "B-TreasuryStockAcquiredAverageCostPerShare: 164\n",
      "B-TreasuryStockSharesAcquired: 165\n",
      "I-TreasuryStockSharesAcquired: 166\n",
      "B-TreasuryStockValueAcquiredCostMethod: 167\n",
      "I-CommonStockParOrStatedValuePerShare: 171\n",
      "I-PreferredStockDividendRatePercentage: 195\n",
      "I-CommonStockDividendsPerShareDeclared: 203\n",
      "I-CommonStockSharesOutstanding: 207\n",
      "I-TreasuryStockValueAcquiredCostMethod: 210\n",
      "I-SaleOfStockPricePerShare: 213\n",
      "I-ProceedsFromIssuanceOfCommonStock: 219\n",
      "I-TreasuryStockAcquiredAverageCostPerShare: 227\n",
      "I-StockRepurchaseProgramAuthorizedAmount1: 229\n",
      "I-CommonStockCapitalSharesReservedForFutureIssuance: 255\n",
      "I-StockRepurchasedAndRetiredDuringPeriodShares: 256\n",
      "I-StockRepurchaseProgramRemainingAuthorizedRepurchaseAmount1: 270\n"
     ]
    },
    {
     "name": "stderr",
     "output_type": "stream",
     "text": [
      "INFO:root:********** Sampling....... **********\n"
     ]
    },
    {
     "name": "stdout",
     "output_type": "stream",
     "text": [
      "New label contain in this dataset\n",
      "{0, 134, 136, 24, 25, 26, 27, 156, 28, 29, 158, 160, 161, 159, 164, 165, 167, 115, 116, 118}\n",
      "New label for dataset Stock\n",
      "New database label and idx\n",
      "O: 0\n",
      "B-CommonStockCapitalSharesReservedForFutureIssuance: 1\n",
      "B-CommonStockDividendsPerShareDeclared: 2\n",
      "B-CommonStockParOrStatedValuePerShare: 3\n",
      "B-CommonStockSharesAuthorized: 4\n",
      "I-CommonStockSharesAuthorized: 5\n",
      "B-CommonStockSharesOutstanding: 6\n",
      "B-PreferredStockDividendRatePercentage: 7\n",
      "B-PreferredStockSharesAuthorized: 8\n",
      "I-PreferredStockSharesAuthorized: 9\n",
      "B-ProceedsFromIssuanceOfCommonStock: 10\n",
      "B-SaleOfStockNumberOfSharesIssuedInTransaction: 11\n",
      "I-SaleOfStockNumberOfSharesIssuedInTransaction: 12\n",
      "B-SaleOfStockPricePerShare: 13\n",
      "B-StockIssuedDuringPeriodSharesNewIssues: 14\n",
      "I-StockIssuedDuringPeriodSharesNewIssues: 15\n",
      "B-StockRepurchaseProgramAuthorizedAmount1: 16\n",
      "B-StockRepurchaseProgramRemainingAuthorizedRepurchaseAmount1: 17\n",
      "B-StockRepurchasedAndRetiredDuringPeriodShares: 18\n",
      "B-StockRepurchasedDuringPeriodShares: 19\n",
      "I-StockRepurchasedDuringPeriodShares: 20\n",
      "B-TreasuryStockAcquiredAverageCostPerShare: 21\n",
      "B-TreasuryStockSharesAcquired: 22\n",
      "I-TreasuryStockSharesAcquired: 23\n",
      "B-TreasuryStockValueAcquiredCostMethod: 24\n",
      "I-CommonStockParOrStatedValuePerShare: 25\n",
      "I-PreferredStockDividendRatePercentage: 26\n",
      "I-CommonStockDividendsPerShareDeclared: 27\n",
      "I-CommonStockSharesOutstanding: 28\n",
      "I-TreasuryStockValueAcquiredCostMethod: 29\n",
      "I-SaleOfStockPricePerShare: 30\n",
      "I-ProceedsFromIssuanceOfCommonStock: 31\n",
      "I-TreasuryStockAcquiredAverageCostPerShare: 32\n",
      "I-StockRepurchaseProgramAuthorizedAmount1: 33\n",
      "I-CommonStockCapitalSharesReservedForFutureIssuance: 34\n",
      "I-StockRepurchasedAndRetiredDuringPeriodShares: 35\n",
      "I-StockRepurchaseProgramRemainingAuthorizedRepurchaseAmount1: 36\n",
      "Total number of this database 1742\n",
      "=============================================================\n"
     ]
    },
    {
     "name": "stderr",
     "output_type": "stream",
     "text": [
      "INFO:root:********** Producing test number database **********\n"
     ]
    },
    {
     "data": {
      "application/vnd.jupyter.widget-view+json": {
       "model_id": "de4dbaa645fb4707b21fd646eca52c53",
       "version_major": 2,
       "version_minor": 0
      },
      "text/plain": [
       "Flattening the indices:   0%|          | 0/2 [00:00<?, ?ba/s]"
      ]
     },
     "metadata": {},
     "output_type": "display_data"
    },
    {
     "name": "stderr",
     "output_type": "stream",
     "text": [
      "INFO:root:********** Producing test str database **********\n"
     ]
    },
    {
     "data": {
      "application/vnd.jupyter.widget-view+json": {
       "model_id": "51b79ff635474e568c958fdfac68200b",
       "version_major": 2,
       "version_minor": 0
      },
      "text/plain": [
       "Flattening the indices:   0%|          | 0/2 [00:00<?, ?ba/s]"
      ]
     },
     "metadata": {},
     "output_type": "display_data"
    },
    {
     "name": "stderr",
     "output_type": "stream",
     "text": [
      "INFO:root:********** Finishing save the database **********\n",
      "INFO:root:********** Finishing extracting database for Stock test **********\n",
      "INFO:root:********** Finishing extracting all database for Stock **********\n",
      "INFO:root:********** Scheme: Starting extract database for DebtInstrument train **********\n"
     ]
    },
    {
     "name": "stdout",
     "output_type": "stream",
     "text": [
      "================================================================================================\n",
      "======================================================================================\n",
      "Get train DebtInstrument data\n",
      "Label for dataset DebtInstrument\n",
      "[0, 34, 35, 36, 37, 38, 39, 40, 41, 42, 43, 44, 45, 46, 47, 174, 178, 185, 186, 191, 204, 212, 263]\n",
      "Total number of labels 23\n",
      "Original database label and idx\n",
      "O: 0\n",
      "B-DebtInstrumentBasisSpreadOnVariableRate1: 34\n",
      "B-DebtInstrumentCarryingAmount: 35\n",
      "B-DebtInstrumentConvertibleConversionPrice1: 36\n",
      "B-DebtInstrumentFaceAmount: 37\n",
      "I-DebtInstrumentFaceAmount: 38\n",
      "B-DebtInstrumentFairValue: 39\n",
      "B-DebtInstrumentInterestRateEffectivePercentage: 40\n",
      "B-DebtInstrumentInterestRateStatedPercentage: 41\n",
      "B-DebtInstrumentMaturityDate: 42\n",
      "I-DebtInstrumentMaturityDate: 43\n",
      "B-DebtInstrumentRedemptionPricePercentage: 44\n",
      "B-DebtInstrumentTerm: 45\n",
      "I-DebtInstrumentTerm: 46\n",
      "B-DebtInstrumentUnamortizedDiscount: 47\n",
      "I-DebtInstrumentFairValue: 174\n",
      "I-DebtInstrumentInterestRateStatedPercentage: 178\n",
      "I-DebtInstrumentCarryingAmount: 185\n",
      "I-DebtInstrumentConvertibleConversionPrice1: 186\n",
      "I-DebtInstrumentUnamortizedDiscount: 191\n",
      "I-DebtInstrumentBasisSpreadOnVariableRate1: 204\n",
      "I-DebtInstrumentInterestRateEffectivePercentage: 212\n",
      "I-DebtInstrumentRedemptionPricePercentage: 263\n",
      "New label contain in this dataset\n",
      "{0, 34, 35, 36, 37, 38, 39, 40, 41, 42, 43, 44, 45, 46, 47}\n",
      "New label for dataset DebtInstrument\n",
      "New database label and idx\n",
      "O: 0\n",
      "B-DebtInstrumentBasisSpreadOnVariableRate1: 1\n",
      "B-DebtInstrumentCarryingAmount: 2\n",
      "B-DebtInstrumentConvertibleConversionPrice1: 3\n",
      "B-DebtInstrumentFaceAmount: 4\n",
      "I-DebtInstrumentFaceAmount: 5\n",
      "B-DebtInstrumentFairValue: 6\n",
      "B-DebtInstrumentInterestRateEffectivePercentage: 7\n",
      "B-DebtInstrumentInterestRateStatedPercentage: 8\n",
      "B-DebtInstrumentMaturityDate: 9\n",
      "I-DebtInstrumentMaturityDate: 10\n",
      "B-DebtInstrumentRedemptionPricePercentage: 11\n",
      "B-DebtInstrumentTerm: 12\n",
      "I-DebtInstrumentTerm: 13\n",
      "B-DebtInstrumentUnamortizedDiscount: 14\n",
      "I-DebtInstrumentFairValue: 15\n",
      "I-DebtInstrumentInterestRateStatedPercentage: 16\n",
      "I-DebtInstrumentCarryingAmount: 17\n",
      "I-DebtInstrumentConvertibleConversionPrice1: 18\n",
      "I-DebtInstrumentUnamortizedDiscount: 19\n",
      "I-DebtInstrumentBasisSpreadOnVariableRate1: 20\n",
      "I-DebtInstrumentInterestRateEffectivePercentage: 21\n",
      "I-DebtInstrumentRedemptionPricePercentage: 22\n",
      "Total number of this database 28835\n",
      "=============================================================\n"
     ]
    },
    {
     "name": "stderr",
     "output_type": "stream",
     "text": [
      "INFO:root:********** Sampling....... **********\n",
      "INFO:root:********** Producing train number database **********\n"
     ]
    },
    {
     "data": {
      "application/vnd.jupyter.widget-view+json": {
       "model_id": "20603238df41450997c4fe35f5c201a1",
       "version_major": 2,
       "version_minor": 0
      },
      "text/plain": [
       "Flattening the indices:   0%|          | 0/29 [00:00<?, ?ba/s]"
      ]
     },
     "metadata": {},
     "output_type": "display_data"
    },
    {
     "name": "stderr",
     "output_type": "stream",
     "text": [
      "INFO:root:********** Producing train str database **********\n"
     ]
    },
    {
     "data": {
      "application/vnd.jupyter.widget-view+json": {
       "model_id": "b4f7e7c49db14d0b97395175dc5ef83d",
       "version_major": 2,
       "version_minor": 0
      },
      "text/plain": [
       "Flattening the indices:   0%|          | 0/29 [00:00<?, ?ba/s]"
      ]
     },
     "metadata": {},
     "output_type": "display_data"
    },
    {
     "name": "stderr",
     "output_type": "stream",
     "text": [
      "INFO:root:********** Finishing save the database **********\n",
      "INFO:root:********** Finishing extracting database for DebtInstrument train **********\n",
      "INFO:root:********** Scheme: Starting extract database for DebtInstrument validation **********\n"
     ]
    },
    {
     "name": "stdout",
     "output_type": "stream",
     "text": [
      "================================================================================================\n",
      "Get validation DebtInstrument data\n",
      "Label for dataset DebtInstrument\n",
      "[0, 34, 35, 36, 37, 38, 39, 40, 41, 42, 43, 44, 45, 46, 47, 174, 178, 185, 186, 191, 204, 212, 263]\n",
      "Total number of labels 23\n",
      "Original database label and idx\n",
      "O: 0\n",
      "B-DebtInstrumentBasisSpreadOnVariableRate1: 34\n",
      "B-DebtInstrumentCarryingAmount: 35\n",
      "B-DebtInstrumentConvertibleConversionPrice1: 36\n",
      "B-DebtInstrumentFaceAmount: 37\n",
      "I-DebtInstrumentFaceAmount: 38\n",
      "B-DebtInstrumentFairValue: 39\n",
      "B-DebtInstrumentInterestRateEffectivePercentage: 40\n",
      "B-DebtInstrumentInterestRateStatedPercentage: 41\n",
      "B-DebtInstrumentMaturityDate: 42\n",
      "I-DebtInstrumentMaturityDate: 43\n",
      "B-DebtInstrumentRedemptionPricePercentage: 44\n",
      "B-DebtInstrumentTerm: 45\n",
      "I-DebtInstrumentTerm: 46\n",
      "B-DebtInstrumentUnamortizedDiscount: 47\n",
      "I-DebtInstrumentFairValue: 174\n",
      "I-DebtInstrumentInterestRateStatedPercentage: 178\n",
      "I-DebtInstrumentCarryingAmount: 185\n",
      "I-DebtInstrumentConvertibleConversionPrice1: 186\n",
      "I-DebtInstrumentUnamortizedDiscount: 191\n",
      "I-DebtInstrumentBasisSpreadOnVariableRate1: 204\n",
      "I-DebtInstrumentInterestRateEffectivePercentage: 212\n",
      "I-DebtInstrumentRedemptionPricePercentage: 263\n",
      "New label contain in this dataset\n",
      "{0, 34, 35, 36, 37, 39, 40, 41, 42, 43, 44, 45, 46, 47}\n",
      "New label for dataset DebtInstrument\n",
      "New database label and idx\n",
      "O: 0\n",
      "B-DebtInstrumentBasisSpreadOnVariableRate1: 1\n",
      "B-DebtInstrumentCarryingAmount: 2\n",
      "B-DebtInstrumentConvertibleConversionPrice1: 3\n",
      "B-DebtInstrumentFaceAmount: 4\n",
      "I-DebtInstrumentFaceAmount: 5\n",
      "B-DebtInstrumentFairValue: 6\n",
      "B-DebtInstrumentInterestRateEffectivePercentage: 7\n",
      "B-DebtInstrumentInterestRateStatedPercentage: 8\n",
      "B-DebtInstrumentMaturityDate: 9\n",
      "I-DebtInstrumentMaturityDate: 10\n",
      "B-DebtInstrumentRedemptionPricePercentage: 11\n",
      "B-DebtInstrumentTerm: 12\n",
      "I-DebtInstrumentTerm: 13\n",
      "B-DebtInstrumentUnamortizedDiscount: 14\n",
      "I-DebtInstrumentFairValue: 15\n",
      "I-DebtInstrumentInterestRateStatedPercentage: 16\n",
      "I-DebtInstrumentCarryingAmount: 17\n",
      "I-DebtInstrumentConvertibleConversionPrice1: 18\n",
      "I-DebtInstrumentUnamortizedDiscount: 19\n",
      "I-DebtInstrumentBasisSpreadOnVariableRate1: 20\n",
      "I-DebtInstrumentInterestRateEffectivePercentage: 21\n",
      "I-DebtInstrumentRedemptionPricePercentage: 22\n",
      "Total number of this database 3754\n",
      "=============================================================\n"
     ]
    },
    {
     "name": "stderr",
     "output_type": "stream",
     "text": [
      "INFO:root:********** Sampling....... **********\n",
      "INFO:root:********** Producing validation number database **********\n"
     ]
    },
    {
     "data": {
      "application/vnd.jupyter.widget-view+json": {
       "model_id": "ce5f23b7aa994f688028fef14b0ead14",
       "version_major": 2,
       "version_minor": 0
      },
      "text/plain": [
       "Flattening the indices:   0%|          | 0/4 [00:00<?, ?ba/s]"
      ]
     },
     "metadata": {},
     "output_type": "display_data"
    },
    {
     "name": "stderr",
     "output_type": "stream",
     "text": [
      "INFO:root:********** Producing validation str database **********\n"
     ]
    },
    {
     "data": {
      "application/vnd.jupyter.widget-view+json": {
       "model_id": "cb0ab12236f14cfaacb0532795f3aee5",
       "version_major": 2,
       "version_minor": 0
      },
      "text/plain": [
       "Flattening the indices:   0%|          | 0/4 [00:00<?, ?ba/s]"
      ]
     },
     "metadata": {},
     "output_type": "display_data"
    },
    {
     "name": "stderr",
     "output_type": "stream",
     "text": [
      "INFO:root:********** Finishing save the database **********\n",
      "INFO:root:********** Finishing extracting database for DebtInstrument validation **********\n",
      "INFO:root:********** Scheme: Starting extract database for DebtInstrument test **********\n"
     ]
    },
    {
     "name": "stdout",
     "output_type": "stream",
     "text": [
      "================================================================================================\n",
      "Get test DebtInstrument data\n",
      "Label for dataset DebtInstrument\n",
      "[0, 34, 35, 36, 37, 38, 39, 40, 41, 42, 43, 44, 45, 46, 47, 174, 178, 185, 186, 191, 204, 212, 263]\n",
      "Total number of labels 23\n",
      "Original database label and idx\n",
      "O: 0\n",
      "B-DebtInstrumentBasisSpreadOnVariableRate1: 34\n",
      "B-DebtInstrumentCarryingAmount: 35\n",
      "B-DebtInstrumentConvertibleConversionPrice1: 36\n",
      "B-DebtInstrumentFaceAmount: 37\n",
      "I-DebtInstrumentFaceAmount: 38\n",
      "B-DebtInstrumentFairValue: 39\n",
      "B-DebtInstrumentInterestRateEffectivePercentage: 40\n",
      "B-DebtInstrumentInterestRateStatedPercentage: 41\n",
      "B-DebtInstrumentMaturityDate: 42\n",
      "I-DebtInstrumentMaturityDate: 43\n",
      "B-DebtInstrumentRedemptionPricePercentage: 44\n",
      "B-DebtInstrumentTerm: 45\n",
      "I-DebtInstrumentTerm: 46\n",
      "B-DebtInstrumentUnamortizedDiscount: 47\n",
      "I-DebtInstrumentFairValue: 174\n",
      "I-DebtInstrumentInterestRateStatedPercentage: 178\n",
      "I-DebtInstrumentCarryingAmount: 185\n",
      "I-DebtInstrumentConvertibleConversionPrice1: 186\n",
      "I-DebtInstrumentUnamortizedDiscount: 191\n",
      "I-DebtInstrumentBasisSpreadOnVariableRate1: 204\n",
      "I-DebtInstrumentInterestRateEffectivePercentage: 212\n",
      "I-DebtInstrumentRedemptionPricePercentage: 263\n",
      "New label contain in this dataset\n",
      "{0, 34, 35, 36, 37, 39, 40, 41, 42, 43, 44, 45, 46, 47}\n",
      "New label for dataset DebtInstrument\n",
      "New database label and idx\n",
      "O: 0\n",
      "B-DebtInstrumentBasisSpreadOnVariableRate1: 1\n",
      "B-DebtInstrumentCarryingAmount: 2\n",
      "B-DebtInstrumentConvertibleConversionPrice1: 3\n",
      "B-DebtInstrumentFaceAmount: 4\n",
      "I-DebtInstrumentFaceAmount: 5\n",
      "B-DebtInstrumentFairValue: 6\n",
      "B-DebtInstrumentInterestRateEffectivePercentage: 7\n",
      "B-DebtInstrumentInterestRateStatedPercentage: 8\n",
      "B-DebtInstrumentMaturityDate: 9\n",
      "I-DebtInstrumentMaturityDate: 10\n",
      "B-DebtInstrumentRedemptionPricePercentage: 11\n",
      "B-DebtInstrumentTerm: 12\n",
      "I-DebtInstrumentTerm: 13\n",
      "B-DebtInstrumentUnamortizedDiscount: 14\n",
      "I-DebtInstrumentFairValue: 15\n",
      "I-DebtInstrumentInterestRateStatedPercentage: 16\n",
      "I-DebtInstrumentCarryingAmount: 17\n",
      "I-DebtInstrumentConvertibleConversionPrice1: 18\n",
      "I-DebtInstrumentUnamortizedDiscount: 19\n",
      "I-DebtInstrumentBasisSpreadOnVariableRate1: 20\n",
      "I-DebtInstrumentInterestRateEffectivePercentage: 21\n",
      "I-DebtInstrumentRedemptionPricePercentage: 22\n",
      "Total number of this database 3116\n",
      "=============================================================\n"
     ]
    },
    {
     "name": "stderr",
     "output_type": "stream",
     "text": [
      "INFO:root:********** Sampling....... **********\n",
      "INFO:root:********** Producing test number database **********\n"
     ]
    },
    {
     "data": {
      "application/vnd.jupyter.widget-view+json": {
       "model_id": "0a7ba745f47347db89479526d3029971",
       "version_major": 2,
       "version_minor": 0
      },
      "text/plain": [
       "Flattening the indices:   0%|          | 0/4 [00:00<?, ?ba/s]"
      ]
     },
     "metadata": {},
     "output_type": "display_data"
    },
    {
     "name": "stderr",
     "output_type": "stream",
     "text": [
      "INFO:root:********** Producing test str database **********\n"
     ]
    },
    {
     "data": {
      "application/vnd.jupyter.widget-view+json": {
       "model_id": "b244ee9b79334a6cb842b3805c3715f9",
       "version_major": 2,
       "version_minor": 0
      },
      "text/plain": [
       "Flattening the indices:   0%|          | 0/4 [00:00<?, ?ba/s]"
      ]
     },
     "metadata": {},
     "output_type": "display_data"
    },
    {
     "name": "stderr",
     "output_type": "stream",
     "text": [
      "INFO:root:********** Finishing save the database **********\n",
      "INFO:root:********** Finishing extracting database for DebtInstrument test **********\n",
      "INFO:root:********** Finishing extracting all database for DebtInstrument **********\n",
      "INFO:root:********** Scheme: Starting extract database for EmployeeServiceShareBasedCompensation train **********\n"
     ]
    },
    {
     "name": "stdout",
     "output_type": "stream",
     "text": [
      "================================================================================================\n",
      "======================================================================================\n",
      "Get train EmployeeServiceShareBasedCompensation data\n",
      "Label for dataset EmployeeServiceShareBasedCompensation\n",
      "[0, 59, 60, 61, 62, 63, 177, 189, 257]\n",
      "Total number of labels 9\n",
      "Original database label and idx\n",
      "O: 0\n",
      "B-EmployeeServiceShareBasedCompensationNonvestedAwardsTotalCompensationCostNotYetRecognized: 59\n",
      "B-EmployeeServiceShareBasedCompensationNonvestedAwardsTotalCompensationCostNotYetRecognizedPeriodForRecognition1: 60\n",
      "I-EmployeeServiceShareBasedCompensationNonvestedAwardsTotalCompensationCostNotYetRecognizedPeriodForRecognition1: 61\n",
      "B-EmployeeServiceShareBasedCompensationNonvestedAwardsTotalCompensationCostNotYetRecognizedShareBasedAwardsOtherThanOptions: 62\n",
      "B-EmployeeServiceShareBasedCompensationTaxBenefitFromCompensationExpense: 63\n",
      "I-EmployeeServiceShareBasedCompensationNonvestedAwardsTotalCompensationCostNotYetRecognized: 177\n",
      "I-EmployeeServiceShareBasedCompensationNonvestedAwardsTotalCompensationCostNotYetRecognizedShareBasedAwardsOtherThanOptions: 189\n",
      "I-EmployeeServiceShareBasedCompensationTaxBenefitFromCompensationExpense: 257\n",
      "New label contain in this dataset\n",
      "{0, 59, 60, 61, 62, 63}\n",
      "New label for dataset EmployeeServiceShareBasedCompensation\n",
      "New database label and idx\n",
      "O: 0\n",
      "B-EmployeeServiceShareBasedCompensationNonvestedAwardsTotalCompensationCostNotYetRecognized: 1\n",
      "B-EmployeeServiceShareBasedCompensationNonvestedAwardsTotalCompensationCostNotYetRecognizedPeriodForRecognition1: 2\n",
      "I-EmployeeServiceShareBasedCompensationNonvestedAwardsTotalCompensationCostNotYetRecognizedPeriodForRecognition1: 3\n",
      "B-EmployeeServiceShareBasedCompensationNonvestedAwardsTotalCompensationCostNotYetRecognizedShareBasedAwardsOtherThanOptions: 4\n",
      "B-EmployeeServiceShareBasedCompensationTaxBenefitFromCompensationExpense: 5\n",
      "I-EmployeeServiceShareBasedCompensationNonvestedAwardsTotalCompensationCostNotYetRecognized: 6\n",
      "I-EmployeeServiceShareBasedCompensationNonvestedAwardsTotalCompensationCostNotYetRecognizedShareBasedAwardsOtherThanOptions: 7\n",
      "I-EmployeeServiceShareBasedCompensationTaxBenefitFromCompensationExpense: 8\n",
      "Total number of this database 5702\n",
      "=============================================================\n"
     ]
    },
    {
     "name": "stderr",
     "output_type": "stream",
     "text": [
      "INFO:root:********** Sampling....... **********\n",
      "INFO:root:********** Producing train number database **********\n"
     ]
    },
    {
     "data": {
      "application/vnd.jupyter.widget-view+json": {
       "model_id": "329cc4bd02dc4fe48c4516616ce5fc43",
       "version_major": 2,
       "version_minor": 0
      },
      "text/plain": [
       "Flattening the indices:   0%|          | 0/6 [00:00<?, ?ba/s]"
      ]
     },
     "metadata": {},
     "output_type": "display_data"
    },
    {
     "name": "stderr",
     "output_type": "stream",
     "text": [
      "INFO:root:********** Producing train str database **********\n"
     ]
    },
    {
     "data": {
      "application/vnd.jupyter.widget-view+json": {
       "model_id": "932a629c547c4c8bbd637f607fbede96",
       "version_major": 2,
       "version_minor": 0
      },
      "text/plain": [
       "Flattening the indices:   0%|          | 0/6 [00:00<?, ?ba/s]"
      ]
     },
     "metadata": {},
     "output_type": "display_data"
    },
    {
     "name": "stderr",
     "output_type": "stream",
     "text": [
      "INFO:root:********** Finishing save the database **********\n",
      "INFO:root:********** Finishing extracting database for EmployeeServiceShareBasedCompensation train **********\n",
      "INFO:root:********** Scheme: Starting extract database for EmployeeServiceShareBasedCompensation validation **********\n"
     ]
    },
    {
     "name": "stdout",
     "output_type": "stream",
     "text": [
      "================================================================================================\n",
      "Get validation EmployeeServiceShareBasedCompensation data\n",
      "Label for dataset EmployeeServiceShareBasedCompensation\n",
      "[0, 59, 60, 61, 62, 63, 177, 189, 257]\n",
      "Total number of labels 9\n",
      "Original database label and idx\n",
      "O: 0\n",
      "B-EmployeeServiceShareBasedCompensationNonvestedAwardsTotalCompensationCostNotYetRecognized: 59\n",
      "B-EmployeeServiceShareBasedCompensationNonvestedAwardsTotalCompensationCostNotYetRecognizedPeriodForRecognition1: 60\n",
      "I-EmployeeServiceShareBasedCompensationNonvestedAwardsTotalCompensationCostNotYetRecognizedPeriodForRecognition1: 61\n",
      "B-EmployeeServiceShareBasedCompensationNonvestedAwardsTotalCompensationCostNotYetRecognizedShareBasedAwardsOtherThanOptions: 62\n",
      "B-EmployeeServiceShareBasedCompensationTaxBenefitFromCompensationExpense: 63\n",
      "I-EmployeeServiceShareBasedCompensationNonvestedAwardsTotalCompensationCostNotYetRecognized: 177\n",
      "I-EmployeeServiceShareBasedCompensationNonvestedAwardsTotalCompensationCostNotYetRecognizedShareBasedAwardsOtherThanOptions: 189\n",
      "I-EmployeeServiceShareBasedCompensationTaxBenefitFromCompensationExpense: 257\n"
     ]
    },
    {
     "name": "stderr",
     "output_type": "stream",
     "text": [
      "INFO:root:********** Sampling....... **********\n"
     ]
    },
    {
     "name": "stdout",
     "output_type": "stream",
     "text": [
      "New label contain in this dataset\n",
      "{0, 59, 60, 61, 62, 63}\n",
      "New label for dataset EmployeeServiceShareBasedCompensation\n",
      "New database label and idx\n",
      "O: 0\n",
      "B-EmployeeServiceShareBasedCompensationNonvestedAwardsTotalCompensationCostNotYetRecognized: 1\n",
      "B-EmployeeServiceShareBasedCompensationNonvestedAwardsTotalCompensationCostNotYetRecognizedPeriodForRecognition1: 2\n",
      "I-EmployeeServiceShareBasedCompensationNonvestedAwardsTotalCompensationCostNotYetRecognizedPeriodForRecognition1: 3\n",
      "B-EmployeeServiceShareBasedCompensationNonvestedAwardsTotalCompensationCostNotYetRecognizedShareBasedAwardsOtherThanOptions: 4\n",
      "B-EmployeeServiceShareBasedCompensationTaxBenefitFromCompensationExpense: 5\n",
      "I-EmployeeServiceShareBasedCompensationNonvestedAwardsTotalCompensationCostNotYetRecognized: 6\n",
      "I-EmployeeServiceShareBasedCompensationNonvestedAwardsTotalCompensationCostNotYetRecognizedShareBasedAwardsOtherThanOptions: 7\n",
      "I-EmployeeServiceShareBasedCompensationTaxBenefitFromCompensationExpense: 8\n",
      "Total number of this database 690\n",
      "=============================================================\n"
     ]
    },
    {
     "name": "stderr",
     "output_type": "stream",
     "text": [
      "INFO:root:********** Producing validation number database **********\n"
     ]
    },
    {
     "data": {
      "application/vnd.jupyter.widget-view+json": {
       "model_id": "974e00a1cec24868932bcd7666b29ce6",
       "version_major": 2,
       "version_minor": 0
      },
      "text/plain": [
       "Flattening the indices:   0%|          | 0/1 [00:00<?, ?ba/s]"
      ]
     },
     "metadata": {},
     "output_type": "display_data"
    },
    {
     "name": "stderr",
     "output_type": "stream",
     "text": [
      "INFO:root:********** Producing validation str database **********\n"
     ]
    },
    {
     "data": {
      "application/vnd.jupyter.widget-view+json": {
       "model_id": "032b340e72ad41f38883de45d8e2d6f5",
       "version_major": 2,
       "version_minor": 0
      },
      "text/plain": [
       "Flattening the indices:   0%|          | 0/1 [00:00<?, ?ba/s]"
      ]
     },
     "metadata": {},
     "output_type": "display_data"
    },
    {
     "name": "stderr",
     "output_type": "stream",
     "text": [
      "INFO:root:********** Finishing save the database **********\n",
      "INFO:root:********** Finishing extracting database for EmployeeServiceShareBasedCompensation validation **********\n",
      "INFO:root:********** Scheme: Starting extract database for EmployeeServiceShareBasedCompensation test **********\n"
     ]
    },
    {
     "name": "stdout",
     "output_type": "stream",
     "text": [
      "================================================================================================\n",
      "Get test EmployeeServiceShareBasedCompensation data\n",
      "Label for dataset EmployeeServiceShareBasedCompensation\n",
      "[0, 59, 60, 61, 62, 63, 177, 189, 257]\n",
      "Total number of labels 9\n",
      "Original database label and idx\n",
      "O: 0\n",
      "B-EmployeeServiceShareBasedCompensationNonvestedAwardsTotalCompensationCostNotYetRecognized: 59\n",
      "B-EmployeeServiceShareBasedCompensationNonvestedAwardsTotalCompensationCostNotYetRecognizedPeriodForRecognition1: 60\n",
      "I-EmployeeServiceShareBasedCompensationNonvestedAwardsTotalCompensationCostNotYetRecognizedPeriodForRecognition1: 61\n",
      "B-EmployeeServiceShareBasedCompensationNonvestedAwardsTotalCompensationCostNotYetRecognizedShareBasedAwardsOtherThanOptions: 62\n",
      "B-EmployeeServiceShareBasedCompensationTaxBenefitFromCompensationExpense: 63\n",
      "I-EmployeeServiceShareBasedCompensationNonvestedAwardsTotalCompensationCostNotYetRecognized: 177\n",
      "I-EmployeeServiceShareBasedCompensationNonvestedAwardsTotalCompensationCostNotYetRecognizedShareBasedAwardsOtherThanOptions: 189\n",
      "I-EmployeeServiceShareBasedCompensationTaxBenefitFromCompensationExpense: 257\n"
     ]
    },
    {
     "name": "stderr",
     "output_type": "stream",
     "text": [
      "INFO:root:********** Sampling....... **********\n",
      "INFO:root:********** Producing test number database **********\n"
     ]
    },
    {
     "name": "stdout",
     "output_type": "stream",
     "text": [
      "New label contain in this dataset\n",
      "{0, 59, 60, 61, 62, 63}\n",
      "New label for dataset EmployeeServiceShareBasedCompensation\n",
      "New database label and idx\n",
      "O: 0\n",
      "B-EmployeeServiceShareBasedCompensationNonvestedAwardsTotalCompensationCostNotYetRecognized: 1\n",
      "B-EmployeeServiceShareBasedCompensationNonvestedAwardsTotalCompensationCostNotYetRecognizedPeriodForRecognition1: 2\n",
      "I-EmployeeServiceShareBasedCompensationNonvestedAwardsTotalCompensationCostNotYetRecognizedPeriodForRecognition1: 3\n",
      "B-EmployeeServiceShareBasedCompensationNonvestedAwardsTotalCompensationCostNotYetRecognizedShareBasedAwardsOtherThanOptions: 4\n",
      "B-EmployeeServiceShareBasedCompensationTaxBenefitFromCompensationExpense: 5\n",
      "I-EmployeeServiceShareBasedCompensationNonvestedAwardsTotalCompensationCostNotYetRecognized: 6\n",
      "I-EmployeeServiceShareBasedCompensationNonvestedAwardsTotalCompensationCostNotYetRecognizedShareBasedAwardsOtherThanOptions: 7\n",
      "I-EmployeeServiceShareBasedCompensationTaxBenefitFromCompensationExpense: 8\n",
      "Total number of this database 635\n",
      "=============================================================\n"
     ]
    },
    {
     "data": {
      "application/vnd.jupyter.widget-view+json": {
       "model_id": "c48949d1f1ff4e47855ad3d82185fde3",
       "version_major": 2,
       "version_minor": 0
      },
      "text/plain": [
       "Flattening the indices:   0%|          | 0/1 [00:00<?, ?ba/s]"
      ]
     },
     "metadata": {},
     "output_type": "display_data"
    },
    {
     "name": "stderr",
     "output_type": "stream",
     "text": [
      "INFO:root:********** Producing test str database **********\n"
     ]
    },
    {
     "data": {
      "application/vnd.jupyter.widget-view+json": {
       "model_id": "2cd20a15dde84ed0a7180a43b17a883a",
       "version_major": 2,
       "version_minor": 0
      },
      "text/plain": [
       "Flattening the indices:   0%|          | 0/1 [00:00<?, ?ba/s]"
      ]
     },
     "metadata": {},
     "output_type": "display_data"
    },
    {
     "name": "stderr",
     "output_type": "stream",
     "text": [
      "INFO:root:********** Finishing save the database **********\n",
      "INFO:root:********** Finishing extracting database for EmployeeServiceShareBasedCompensation test **********\n",
      "INFO:root:********** Finishing extracting all database for EmployeeServiceShareBasedCompensation **********\n",
      "INFO:root:********** Scheme: Starting extract database for EquityMethodInvestment train **********\n"
     ]
    },
    {
     "name": "stdout",
     "output_type": "stream",
     "text": [
      "================================================================================================\n",
      "======================================================================================\n",
      "Get train EquityMethodInvestment data\n",
      "Label for dataset EquityMethodInvestment\n",
      "[0, 64, 65, 66, 73, 190, 258]\n",
      "Total number of labels 7\n",
      "Original database label and idx\n",
      "O: 0\n",
      "B-EquityMethodInvestmentOwnershipPercentage: 64\n",
      "I-EquityMethodInvestmentOwnershipPercentage: 65\n",
      "B-EquityMethodInvestments: 66\n",
      "B-IncomeLossFromEquityMethodInvestments: 73\n",
      "I-EquityMethodInvestments: 190\n",
      "I-IncomeLossFromEquityMethodInvestments: 258\n",
      "New label contain in this dataset\n",
      "{0, 64, 66, 65, 73}\n",
      "New label for dataset EquityMethodInvestment\n",
      "New database label and idx\n",
      "O: 0\n",
      "B-EquityMethodInvestmentOwnershipPercentage: 1\n",
      "I-EquityMethodInvestmentOwnershipPercentage: 2\n",
      "B-EquityMethodInvestments: 3\n",
      "B-IncomeLossFromEquityMethodInvestments: 4\n",
      "I-EquityMethodInvestments: 5\n",
      "I-IncomeLossFromEquityMethodInvestments: 6\n",
      "Total number of this database 5351\n",
      "=============================================================\n"
     ]
    },
    {
     "name": "stderr",
     "output_type": "stream",
     "text": [
      "INFO:root:********** Sampling....... **********\n",
      "INFO:root:********** Producing train number database **********\n"
     ]
    },
    {
     "data": {
      "application/vnd.jupyter.widget-view+json": {
       "model_id": "08075c76a8fb409fa88b4cc00a699d9f",
       "version_major": 2,
       "version_minor": 0
      },
      "text/plain": [
       "Flattening the indices:   0%|          | 0/6 [00:00<?, ?ba/s]"
      ]
     },
     "metadata": {},
     "output_type": "display_data"
    },
    {
     "name": "stderr",
     "output_type": "stream",
     "text": [
      "INFO:root:********** Producing train str database **********\n"
     ]
    },
    {
     "data": {
      "application/vnd.jupyter.widget-view+json": {
       "model_id": "3b7b5bcfeff24d3988ea577f4e3d0ac6",
       "version_major": 2,
       "version_minor": 0
      },
      "text/plain": [
       "Flattening the indices:   0%|          | 0/6 [00:00<?, ?ba/s]"
      ]
     },
     "metadata": {},
     "output_type": "display_data"
    },
    {
     "name": "stderr",
     "output_type": "stream",
     "text": [
      "INFO:root:********** Finishing save the database **********\n",
      "INFO:root:********** Finishing extracting database for EquityMethodInvestment train **********\n",
      "INFO:root:********** Scheme: Starting extract database for EquityMethodInvestment validation **********\n"
     ]
    },
    {
     "name": "stdout",
     "output_type": "stream",
     "text": [
      "================================================================================================\n",
      "Get validation EquityMethodInvestment data\n",
      "Label for dataset EquityMethodInvestment\n",
      "[0, 64, 65, 66, 73, 190, 258]\n",
      "Total number of labels 7\n",
      "Original database label and idx\n",
      "O: 0\n",
      "B-EquityMethodInvestmentOwnershipPercentage: 64\n",
      "I-EquityMethodInvestmentOwnershipPercentage: 65\n",
      "B-EquityMethodInvestments: 66\n",
      "B-IncomeLossFromEquityMethodInvestments: 73\n",
      "I-EquityMethodInvestments: 190\n",
      "I-IncomeLossFromEquityMethodInvestments: 258\n"
     ]
    },
    {
     "name": "stderr",
     "output_type": "stream",
     "text": [
      "INFO:root:********** Sampling....... **********\n",
      "INFO:root:********** Producing validation number database **********\n"
     ]
    },
    {
     "name": "stdout",
     "output_type": "stream",
     "text": [
      "New label contain in this dataset\n",
      "{0, 73, 66, 64}\n",
      "New label for dataset EquityMethodInvestment\n",
      "New database label and idx\n",
      "O: 0\n",
      "B-EquityMethodInvestmentOwnershipPercentage: 1\n",
      "I-EquityMethodInvestmentOwnershipPercentage: 2\n",
      "B-EquityMethodInvestments: 3\n",
      "B-IncomeLossFromEquityMethodInvestments: 4\n",
      "I-EquityMethodInvestments: 5\n",
      "I-IncomeLossFromEquityMethodInvestments: 6\n",
      "Total number of this database 562\n",
      "=============================================================\n"
     ]
    },
    {
     "data": {
      "application/vnd.jupyter.widget-view+json": {
       "model_id": "7a4713bbbab741bb8349cc4108eef317",
       "version_major": 2,
       "version_minor": 0
      },
      "text/plain": [
       "Flattening the indices:   0%|          | 0/1 [00:00<?, ?ba/s]"
      ]
     },
     "metadata": {},
     "output_type": "display_data"
    },
    {
     "name": "stderr",
     "output_type": "stream",
     "text": [
      "INFO:root:********** Producing validation str database **********\n"
     ]
    },
    {
     "data": {
      "application/vnd.jupyter.widget-view+json": {
       "model_id": "88cba9fa1bdc4872a97339f0d7ce35b5",
       "version_major": 2,
       "version_minor": 0
      },
      "text/plain": [
       "Flattening the indices:   0%|          | 0/1 [00:00<?, ?ba/s]"
      ]
     },
     "metadata": {},
     "output_type": "display_data"
    },
    {
     "name": "stderr",
     "output_type": "stream",
     "text": [
      "INFO:root:********** Finishing save the database **********\n",
      "INFO:root:********** Finishing extracting database for EquityMethodInvestment validation **********\n",
      "INFO:root:********** Scheme: Starting extract database for EquityMethodInvestment test **********\n"
     ]
    },
    {
     "name": "stdout",
     "output_type": "stream",
     "text": [
      "================================================================================================\n",
      "Get test EquityMethodInvestment data\n",
      "Label for dataset EquityMethodInvestment\n",
      "[0, 64, 65, 66, 73, 190, 258]\n",
      "Total number of labels 7\n",
      "Original database label and idx\n",
      "O: 0\n",
      "B-EquityMethodInvestmentOwnershipPercentage: 64\n",
      "I-EquityMethodInvestmentOwnershipPercentage: 65\n",
      "B-EquityMethodInvestments: 66\n",
      "B-IncomeLossFromEquityMethodInvestments: 73\n",
      "I-EquityMethodInvestments: 190\n",
      "I-IncomeLossFromEquityMethodInvestments: 258\n"
     ]
    },
    {
     "name": "stderr",
     "output_type": "stream",
     "text": [
      "INFO:root:********** Sampling....... **********\n",
      "INFO:root:********** Producing test number database **********\n"
     ]
    },
    {
     "name": "stdout",
     "output_type": "stream",
     "text": [
      "New label contain in this dataset\n",
      "{0, 73, 66, 64}\n",
      "New label for dataset EquityMethodInvestment\n",
      "New database label and idx\n",
      "O: 0\n",
      "B-EquityMethodInvestmentOwnershipPercentage: 1\n",
      "I-EquityMethodInvestmentOwnershipPercentage: 2\n",
      "B-EquityMethodInvestments: 3\n",
      "B-IncomeLossFromEquityMethodInvestments: 4\n",
      "I-EquityMethodInvestments: 5\n",
      "I-IncomeLossFromEquityMethodInvestments: 6\n",
      "Total number of this database 519\n",
      "=============================================================\n"
     ]
    },
    {
     "data": {
      "application/vnd.jupyter.widget-view+json": {
       "model_id": "23bd12062472472d80cd3468dcfe4695",
       "version_major": 2,
       "version_minor": 0
      },
      "text/plain": [
       "Flattening the indices:   0%|          | 0/1 [00:00<?, ?ba/s]"
      ]
     },
     "metadata": {},
     "output_type": "display_data"
    },
    {
     "name": "stderr",
     "output_type": "stream",
     "text": [
      "INFO:root:********** Producing test str database **********\n"
     ]
    },
    {
     "data": {
      "application/vnd.jupyter.widget-view+json": {
       "model_id": "d0d39a9f2b324de782f7bd9e8a9bd422",
       "version_major": 2,
       "version_minor": 0
      },
      "text/plain": [
       "Flattening the indices:   0%|          | 0/1 [00:00<?, ?ba/s]"
      ]
     },
     "metadata": {},
     "output_type": "display_data"
    },
    {
     "name": "stderr",
     "output_type": "stream",
     "text": [
      "INFO:root:********** Finishing save the database **********\n",
      "INFO:root:********** Finishing extracting database for EquityMethodInvestment test **********\n",
      "INFO:root:********** Finishing extracting all database for EquityMethodInvestment **********\n",
      "INFO:root:********** Scheme: Starting extract database for LineOfCredit train **********\n"
     ]
    },
    {
     "name": "stdout",
     "output_type": "stream",
     "text": [
      "================================================================================================\n",
      "======================================================================================\n",
      "Get train LineOfCredit data\n",
      "Label for dataset LineOfCredit\n",
      "[0, 83, 84, 85, 86, 87, 88, 89, 198, 199, 201, 209, 225, 236, 271]\n",
      "Total number of labels 15\n",
      "Original database label and idx\n",
      "O: 0\n",
      "B-LineOfCredit: 83\n",
      "B-LineOfCreditFacilityCommitmentFeePercentage: 84\n",
      "B-LineOfCreditFacilityCurrentBorrowingCapacity: 85\n",
      "B-LineOfCreditFacilityInterestRateAtPeriodEnd: 86\n",
      "B-LineOfCreditFacilityMaximumBorrowingCapacity: 87\n",
      "B-LineOfCreditFacilityRemainingBorrowingCapacity: 88\n",
      "B-LineOfCreditFacilityUnusedCapacityCommitmentFeePercentage: 89\n",
      "I-LineOfCredit: 198\n",
      "I-LineOfCreditFacilityMaximumBorrowingCapacity: 199\n",
      "I-LineOfCreditFacilityCommitmentFeePercentage: 201\n",
      "I-LineOfCreditFacilityCurrentBorrowingCapacity: 209\n",
      "I-LineOfCreditFacilityRemainingBorrowingCapacity: 225\n",
      "I-LineOfCreditFacilityUnusedCapacityCommitmentFeePercentage: 236\n",
      "I-LineOfCreditFacilityInterestRateAtPeriodEnd: 271\n",
      "New label contain in this dataset\n",
      "{0, 83, 84, 85, 86, 87, 88, 89}\n",
      "New label for dataset LineOfCredit\n",
      "New database label and idx\n",
      "O: 0\n",
      "B-LineOfCredit: 1\n",
      "B-LineOfCreditFacilityCommitmentFeePercentage: 2\n",
      "B-LineOfCreditFacilityCurrentBorrowingCapacity: 3\n",
      "B-LineOfCreditFacilityInterestRateAtPeriodEnd: 4\n",
      "B-LineOfCreditFacilityMaximumBorrowingCapacity: 5\n",
      "B-LineOfCreditFacilityRemainingBorrowingCapacity: 6\n",
      "B-LineOfCreditFacilityUnusedCapacityCommitmentFeePercentage: 7\n",
      "I-LineOfCredit: 8\n",
      "I-LineOfCreditFacilityMaximumBorrowingCapacity: 9\n",
      "I-LineOfCreditFacilityCommitmentFeePercentage: 10\n",
      "I-LineOfCreditFacilityCurrentBorrowingCapacity: 11\n",
      "I-LineOfCreditFacilityRemainingBorrowingCapacity: 12\n",
      "I-LineOfCreditFacilityUnusedCapacityCommitmentFeePercentage: 13\n",
      "I-LineOfCreditFacilityInterestRateAtPeriodEnd: 14\n",
      "Total number of this database 15951\n",
      "=============================================================\n"
     ]
    },
    {
     "name": "stderr",
     "output_type": "stream",
     "text": [
      "INFO:root:********** Sampling....... **********\n",
      "INFO:root:********** Producing train number database **********\n"
     ]
    },
    {
     "data": {
      "application/vnd.jupyter.widget-view+json": {
       "model_id": "93506adfde10430ca4ebeab38a0625ec",
       "version_major": 2,
       "version_minor": 0
      },
      "text/plain": [
       "Flattening the indices:   0%|          | 0/16 [00:00<?, ?ba/s]"
      ]
     },
     "metadata": {},
     "output_type": "display_data"
    },
    {
     "name": "stderr",
     "output_type": "stream",
     "text": [
      "INFO:root:********** Producing train str database **********\n"
     ]
    },
    {
     "data": {
      "application/vnd.jupyter.widget-view+json": {
       "model_id": "d1bc77272ebb4b1683154f308a353e3f",
       "version_major": 2,
       "version_minor": 0
      },
      "text/plain": [
       "Flattening the indices:   0%|          | 0/16 [00:00<?, ?ba/s]"
      ]
     },
     "metadata": {},
     "output_type": "display_data"
    },
    {
     "name": "stderr",
     "output_type": "stream",
     "text": [
      "INFO:root:********** Finishing save the database **********\n",
      "INFO:root:********** Finishing extracting database for LineOfCredit train **********\n",
      "INFO:root:********** Scheme: Starting extract database for LineOfCredit validation **********\n"
     ]
    },
    {
     "name": "stdout",
     "output_type": "stream",
     "text": [
      "================================================================================================\n",
      "Get validation LineOfCredit data\n",
      "Label for dataset LineOfCredit\n",
      "[0, 83, 84, 85, 86, 87, 88, 89, 198, 199, 201, 209, 225, 236, 271]\n",
      "Total number of labels 15\n",
      "Original database label and idx\n",
      "O: 0\n",
      "B-LineOfCredit: 83\n",
      "B-LineOfCreditFacilityCommitmentFeePercentage: 84\n",
      "B-LineOfCreditFacilityCurrentBorrowingCapacity: 85\n",
      "B-LineOfCreditFacilityInterestRateAtPeriodEnd: 86\n",
      "B-LineOfCreditFacilityMaximumBorrowingCapacity: 87\n",
      "B-LineOfCreditFacilityRemainingBorrowingCapacity: 88\n",
      "B-LineOfCreditFacilityUnusedCapacityCommitmentFeePercentage: 89\n",
      "I-LineOfCredit: 198\n",
      "I-LineOfCreditFacilityMaximumBorrowingCapacity: 199\n",
      "I-LineOfCreditFacilityCommitmentFeePercentage: 201\n",
      "I-LineOfCreditFacilityCurrentBorrowingCapacity: 209\n",
      "I-LineOfCreditFacilityRemainingBorrowingCapacity: 225\n",
      "I-LineOfCreditFacilityUnusedCapacityCommitmentFeePercentage: 236\n",
      "I-LineOfCreditFacilityInterestRateAtPeriodEnd: 271\n",
      "New label contain in this dataset\n",
      "{0, 83, 84, 85, 86, 87, 88, 89}\n",
      "New label for dataset LineOfCredit\n",
      "New database label and idx\n",
      "O: 0\n",
      "B-LineOfCredit: 1\n",
      "B-LineOfCreditFacilityCommitmentFeePercentage: 2\n",
      "B-LineOfCreditFacilityCurrentBorrowingCapacity: 3\n",
      "B-LineOfCreditFacilityInterestRateAtPeriodEnd: 4\n",
      "B-LineOfCreditFacilityMaximumBorrowingCapacity: 5\n",
      "B-LineOfCreditFacilityRemainingBorrowingCapacity: 6\n",
      "B-LineOfCreditFacilityUnusedCapacityCommitmentFeePercentage: 7\n",
      "I-LineOfCredit: 8\n",
      "I-LineOfCreditFacilityMaximumBorrowingCapacity: 9\n",
      "I-LineOfCreditFacilityCommitmentFeePercentage: 10\n",
      "I-LineOfCreditFacilityCurrentBorrowingCapacity: 11\n",
      "I-LineOfCreditFacilityRemainingBorrowingCapacity: 12\n",
      "I-LineOfCreditFacilityUnusedCapacityCommitmentFeePercentage: 13\n",
      "I-LineOfCreditFacilityInterestRateAtPeriodEnd: 14\n",
      "Total number of this database 2262\n",
      "=============================================================\n"
     ]
    },
    {
     "name": "stderr",
     "output_type": "stream",
     "text": [
      "INFO:root:********** Sampling....... **********\n",
      "INFO:root:********** Producing validation number database **********\n"
     ]
    },
    {
     "data": {
      "application/vnd.jupyter.widget-view+json": {
       "model_id": "c672954b7bb94d9c9cf0eff1a362fecd",
       "version_major": 2,
       "version_minor": 0
      },
      "text/plain": [
       "Flattening the indices:   0%|          | 0/3 [00:00<?, ?ba/s]"
      ]
     },
     "metadata": {},
     "output_type": "display_data"
    },
    {
     "name": "stderr",
     "output_type": "stream",
     "text": [
      "INFO:root:********** Producing validation str database **********\n"
     ]
    },
    {
     "data": {
      "application/vnd.jupyter.widget-view+json": {
       "model_id": "c6746ebe0b3d438eb05792c88b9e2af5",
       "version_major": 2,
       "version_minor": 0
      },
      "text/plain": [
       "Flattening the indices:   0%|          | 0/3 [00:00<?, ?ba/s]"
      ]
     },
     "metadata": {},
     "output_type": "display_data"
    },
    {
     "name": "stderr",
     "output_type": "stream",
     "text": [
      "INFO:root:********** Finishing save the database **********\n",
      "INFO:root:********** Finishing extracting database for LineOfCredit validation **********\n",
      "INFO:root:********** Scheme: Starting extract database for LineOfCredit test **********\n"
     ]
    },
    {
     "name": "stdout",
     "output_type": "stream",
     "text": [
      "================================================================================================\n",
      "Get test LineOfCredit data\n",
      "Label for dataset LineOfCredit\n",
      "[0, 83, 84, 85, 86, 87, 88, 89, 198, 199, 201, 209, 225, 236, 271]\n",
      "Total number of labels 15\n",
      "Original database label and idx\n",
      "O: 0\n",
      "B-LineOfCredit: 83\n",
      "B-LineOfCreditFacilityCommitmentFeePercentage: 84\n",
      "B-LineOfCreditFacilityCurrentBorrowingCapacity: 85\n",
      "B-LineOfCreditFacilityInterestRateAtPeriodEnd: 86\n",
      "B-LineOfCreditFacilityMaximumBorrowingCapacity: 87\n",
      "B-LineOfCreditFacilityRemainingBorrowingCapacity: 88\n",
      "B-LineOfCreditFacilityUnusedCapacityCommitmentFeePercentage: 89\n",
      "I-LineOfCredit: 198\n",
      "I-LineOfCreditFacilityMaximumBorrowingCapacity: 199\n",
      "I-LineOfCreditFacilityCommitmentFeePercentage: 201\n",
      "I-LineOfCreditFacilityCurrentBorrowingCapacity: 209\n",
      "I-LineOfCreditFacilityRemainingBorrowingCapacity: 225\n",
      "I-LineOfCreditFacilityUnusedCapacityCommitmentFeePercentage: 236\n",
      "I-LineOfCreditFacilityInterestRateAtPeriodEnd: 271\n"
     ]
    },
    {
     "name": "stderr",
     "output_type": "stream",
     "text": [
      "INFO:root:********** Sampling....... **********\n",
      "INFO:root:********** Producing test number database **********\n"
     ]
    },
    {
     "name": "stdout",
     "output_type": "stream",
     "text": [
      "New label contain in this dataset\n",
      "{0, 83, 84, 85, 86, 87, 88, 89}\n",
      "New label for dataset LineOfCredit\n",
      "New database label and idx\n",
      "O: 0\n",
      "B-LineOfCredit: 1\n",
      "B-LineOfCreditFacilityCommitmentFeePercentage: 2\n",
      "B-LineOfCreditFacilityCurrentBorrowingCapacity: 3\n",
      "B-LineOfCreditFacilityInterestRateAtPeriodEnd: 4\n",
      "B-LineOfCreditFacilityMaximumBorrowingCapacity: 5\n",
      "B-LineOfCreditFacilityRemainingBorrowingCapacity: 6\n",
      "B-LineOfCreditFacilityUnusedCapacityCommitmentFeePercentage: 7\n",
      "I-LineOfCredit: 8\n",
      "I-LineOfCreditFacilityMaximumBorrowingCapacity: 9\n",
      "I-LineOfCreditFacilityCommitmentFeePercentage: 10\n",
      "I-LineOfCreditFacilityCurrentBorrowingCapacity: 11\n",
      "I-LineOfCreditFacilityRemainingBorrowingCapacity: 12\n",
      "I-LineOfCreditFacilityUnusedCapacityCommitmentFeePercentage: 13\n",
      "I-LineOfCreditFacilityInterestRateAtPeriodEnd: 14\n",
      "Total number of this database 1826\n",
      "=============================================================\n"
     ]
    },
    {
     "data": {
      "application/vnd.jupyter.widget-view+json": {
       "model_id": "1883bbb9af5d472d9f9f61b2caca85b1",
       "version_major": 2,
       "version_minor": 0
      },
      "text/plain": [
       "Flattening the indices:   0%|          | 0/2 [00:00<?, ?ba/s]"
      ]
     },
     "metadata": {},
     "output_type": "display_data"
    },
    {
     "name": "stderr",
     "output_type": "stream",
     "text": [
      "INFO:root:********** Producing test str database **********\n"
     ]
    },
    {
     "data": {
      "application/vnd.jupyter.widget-view+json": {
       "model_id": "96728895682c43c49705ba8b05d06ef6",
       "version_major": 2,
       "version_minor": 0
      },
      "text/plain": [
       "Flattening the indices:   0%|          | 0/2 [00:00<?, ?ba/s]"
      ]
     },
     "metadata": {},
     "output_type": "display_data"
    },
    {
     "name": "stderr",
     "output_type": "stream",
     "text": [
      "INFO:root:********** Finishing save the database **********\n",
      "INFO:root:********** Finishing extracting database for LineOfCredit test **********\n",
      "INFO:root:********** Finishing extracting all database for LineOfCredit **********\n",
      "INFO:root:********** Scheme: Starting extract database for LossContingency train **********\n"
     ]
    },
    {
     "name": "stdout",
     "output_type": "stream",
     "text": [
      "================================================================================================\n",
      "======================================================================================\n",
      "Get train LossContingency data\n",
      "Label for dataset LossContingency\n",
      "[0, 92, 93, 94, 95, 96, 172, 235, 242]\n",
      "Total number of labels 9\n",
      "Original database label and idx\n",
      "O: 0\n",
      "B-LossContingencyAccrualAtCarryingValue: 92\n",
      "B-LossContingencyDamagesSoughtValue: 93\n",
      "B-LossContingencyEstimateOfPossibleLoss: 94\n",
      "B-LossContingencyPendingClaimsNumber: 95\n",
      "I-LossContingencyPendingClaimsNumber: 96\n",
      "I-LossContingencyEstimateOfPossibleLoss: 172\n",
      "I-LossContingencyAccrualAtCarryingValue: 235\n",
      "I-LossContingencyDamagesSoughtValue: 242\n",
      "New label contain in this dataset\n",
      "{0, 96, 92, 93, 94, 95}\n",
      "New label for dataset LossContingency\n",
      "New database label and idx\n",
      "O: 0\n",
      "B-LossContingencyAccrualAtCarryingValue: 1\n",
      "B-LossContingencyDamagesSoughtValue: 2\n",
      "B-LossContingencyEstimateOfPossibleLoss: 3\n",
      "B-LossContingencyPendingClaimsNumber: 4\n",
      "I-LossContingencyPendingClaimsNumber: 5\n",
      "I-LossContingencyEstimateOfPossibleLoss: 6\n",
      "I-LossContingencyAccrualAtCarryingValue: 7\n",
      "I-LossContingencyDamagesSoughtValue: 8\n",
      "Total number of this database 3675\n",
      "=============================================================\n"
     ]
    },
    {
     "name": "stderr",
     "output_type": "stream",
     "text": [
      "INFO:root:********** Sampling....... **********\n",
      "INFO:root:********** Producing train number database **********\n"
     ]
    },
    {
     "data": {
      "application/vnd.jupyter.widget-view+json": {
       "model_id": "7ba26a0e89a447a6bb8f398118751fe7",
       "version_major": 2,
       "version_minor": 0
      },
      "text/plain": [
       "Flattening the indices:   0%|          | 0/4 [00:00<?, ?ba/s]"
      ]
     },
     "metadata": {},
     "output_type": "display_data"
    },
    {
     "name": "stderr",
     "output_type": "stream",
     "text": [
      "INFO:root:********** Producing train str database **********\n"
     ]
    },
    {
     "data": {
      "application/vnd.jupyter.widget-view+json": {
       "model_id": "6454c993f74d4adaaa228ba246aeda40",
       "version_major": 2,
       "version_minor": 0
      },
      "text/plain": [
       "Flattening the indices:   0%|          | 0/4 [00:00<?, ?ba/s]"
      ]
     },
     "metadata": {},
     "output_type": "display_data"
    },
    {
     "name": "stderr",
     "output_type": "stream",
     "text": [
      "INFO:root:********** Finishing save the database **********\n",
      "INFO:root:********** Finishing extracting database for LossContingency train **********\n",
      "INFO:root:********** Scheme: Starting extract database for LossContingency validation **********\n"
     ]
    },
    {
     "name": "stdout",
     "output_type": "stream",
     "text": [
      "================================================================================================\n",
      "Get validation LossContingency data\n",
      "Label for dataset LossContingency\n",
      "[0, 92, 93, 94, 95, 96, 172, 235, 242]\n",
      "Total number of labels 9\n",
      "Original database label and idx\n",
      "O: 0\n",
      "B-LossContingencyAccrualAtCarryingValue: 92\n",
      "B-LossContingencyDamagesSoughtValue: 93\n",
      "B-LossContingencyEstimateOfPossibleLoss: 94\n",
      "B-LossContingencyPendingClaimsNumber: 95\n",
      "I-LossContingencyPendingClaimsNumber: 96\n",
      "I-LossContingencyEstimateOfPossibleLoss: 172\n",
      "I-LossContingencyAccrualAtCarryingValue: 235\n",
      "I-LossContingencyDamagesSoughtValue: 242\n"
     ]
    },
    {
     "name": "stderr",
     "output_type": "stream",
     "text": [
      "INFO:root:********** Sampling....... **********\n",
      "INFO:root:********** Producing validation number database **********\n"
     ]
    },
    {
     "name": "stdout",
     "output_type": "stream",
     "text": [
      "New label contain in this dataset\n",
      "{0, 96, 92, 93, 94, 95}\n",
      "New label for dataset LossContingency\n",
      "New database label and idx\n",
      "O: 0\n",
      "B-LossContingencyAccrualAtCarryingValue: 1\n",
      "B-LossContingencyDamagesSoughtValue: 2\n",
      "B-LossContingencyEstimateOfPossibleLoss: 3\n",
      "B-LossContingencyPendingClaimsNumber: 4\n",
      "I-LossContingencyPendingClaimsNumber: 5\n",
      "I-LossContingencyEstimateOfPossibleLoss: 6\n",
      "I-LossContingencyAccrualAtCarryingValue: 7\n",
      "I-LossContingencyDamagesSoughtValue: 8\n",
      "Total number of this database 501\n",
      "=============================================================\n"
     ]
    },
    {
     "data": {
      "application/vnd.jupyter.widget-view+json": {
       "model_id": "27e64b411e5e42bcaa39885bf01334f9",
       "version_major": 2,
       "version_minor": 0
      },
      "text/plain": [
       "Flattening the indices:   0%|          | 0/1 [00:00<?, ?ba/s]"
      ]
     },
     "metadata": {},
     "output_type": "display_data"
    },
    {
     "name": "stderr",
     "output_type": "stream",
     "text": [
      "INFO:root:********** Producing validation str database **********\n"
     ]
    },
    {
     "data": {
      "application/vnd.jupyter.widget-view+json": {
       "model_id": "ed8d0a07bda44b6883bad02a19d0aaaf",
       "version_major": 2,
       "version_minor": 0
      },
      "text/plain": [
       "Flattening the indices:   0%|          | 0/1 [00:00<?, ?ba/s]"
      ]
     },
     "metadata": {},
     "output_type": "display_data"
    },
    {
     "name": "stderr",
     "output_type": "stream",
     "text": [
      "INFO:root:********** Finishing save the database **********\n",
      "INFO:root:********** Finishing extracting database for LossContingency validation **********\n",
      "INFO:root:********** Scheme: Starting extract database for LossContingency test **********\n"
     ]
    },
    {
     "name": "stdout",
     "output_type": "stream",
     "text": [
      "================================================================================================\n",
      "Get test LossContingency data\n",
      "Label for dataset LossContingency\n",
      "[0, 92, 93, 94, 95, 96, 172, 235, 242]\n",
      "Total number of labels 9\n",
      "Original database label and idx\n",
      "O: 0\n",
      "B-LossContingencyAccrualAtCarryingValue: 92\n",
      "B-LossContingencyDamagesSoughtValue: 93\n",
      "B-LossContingencyEstimateOfPossibleLoss: 94\n",
      "B-LossContingencyPendingClaimsNumber: 95\n",
      "I-LossContingencyPendingClaimsNumber: 96\n",
      "I-LossContingencyEstimateOfPossibleLoss: 172\n",
      "I-LossContingencyAccrualAtCarryingValue: 235\n",
      "I-LossContingencyDamagesSoughtValue: 242\n"
     ]
    },
    {
     "name": "stderr",
     "output_type": "stream",
     "text": [
      "INFO:root:********** Sampling....... **********\n",
      "INFO:root:********** Producing test number database **********\n"
     ]
    },
    {
     "name": "stdout",
     "output_type": "stream",
     "text": [
      "New label contain in this dataset\n",
      "{0, 92, 93, 94, 95}\n",
      "New label for dataset LossContingency\n",
      "New database label and idx\n",
      "O: 0\n",
      "B-LossContingencyAccrualAtCarryingValue: 1\n",
      "B-LossContingencyDamagesSoughtValue: 2\n",
      "B-LossContingencyEstimateOfPossibleLoss: 3\n",
      "B-LossContingencyPendingClaimsNumber: 4\n",
      "I-LossContingencyPendingClaimsNumber: 5\n",
      "I-LossContingencyEstimateOfPossibleLoss: 6\n",
      "I-LossContingencyAccrualAtCarryingValue: 7\n",
      "I-LossContingencyDamagesSoughtValue: 8\n",
      "Total number of this database 321\n",
      "=============================================================\n"
     ]
    },
    {
     "data": {
      "application/vnd.jupyter.widget-view+json": {
       "model_id": "f6d34d171a0f4b39b601d3d9584ee824",
       "version_major": 2,
       "version_minor": 0
      },
      "text/plain": [
       "Flattening the indices:   0%|          | 0/1 [00:00<?, ?ba/s]"
      ]
     },
     "metadata": {},
     "output_type": "display_data"
    },
    {
     "name": "stderr",
     "output_type": "stream",
     "text": [
      "INFO:root:********** Producing test str database **********\n"
     ]
    },
    {
     "data": {
      "application/vnd.jupyter.widget-view+json": {
       "model_id": "25999dee65234b8a945a6a4019b673cc",
       "version_major": 2,
       "version_minor": 0
      },
      "text/plain": [
       "Flattening the indices:   0%|          | 0/1 [00:00<?, ?ba/s]"
      ]
     },
     "metadata": {},
     "output_type": "display_data"
    },
    {
     "name": "stderr",
     "output_type": "stream",
     "text": [
      "INFO:root:********** Finishing save the database **********\n",
      "INFO:root:********** Finishing extracting database for LossContingency test **********\n",
      "INFO:root:********** Finishing extracting all database for LossContingency **********\n",
      "INFO:root:********** Scheme: Starting extract database for OperatingLease train **********\n"
     ]
    },
    {
     "name": "stdout",
     "output_type": "stream",
     "text": [
      "================================================================================================\n",
      "======================================================================================\n",
      "Get train OperatingLease data\n",
      "Label for dataset OperatingLease\n",
      "[0, 78, 79, 80, 81, 103, 104, 105, 106, 107, 108, 109, 110, 111, 197, 224, 232, 238, 245, 251, 273]\n",
      "Total number of labels 21\n",
      "Original database label and idx\n",
      "O: 0\n",
      "B-LesseeOperatingLeaseRenewalTerm: 78\n",
      "I-LesseeOperatingLeaseRenewalTerm: 79\n",
      "B-LesseeOperatingLeaseTermOfContract: 80\n",
      "I-LesseeOperatingLeaseTermOfContract: 81\n",
      "B-OperatingLeaseCost: 103\n",
      "B-OperatingLeaseExpense: 104\n",
      "B-OperatingLeaseLiability: 105\n",
      "B-OperatingLeasePayments: 106\n",
      "B-OperatingLeaseRightOfUseAsset: 107\n",
      "B-OperatingLeaseWeightedAverageDiscountRatePercent: 108\n",
      "B-OperatingLeaseWeightedAverageRemainingLeaseTerm1: 109\n",
      "I-OperatingLeaseWeightedAverageRemainingLeaseTerm1: 110\n",
      "B-OperatingLeasesRentExpenseNet: 111\n",
      "I-OperatingLeaseWeightedAverageDiscountRatePercent: 197\n",
      "I-OperatingLeasePayments: 224\n",
      "I-OperatingLeaseExpense: 232\n",
      "I-OperatingLeaseLiability: 238\n",
      "I-OperatingLeaseRightOfUseAsset: 245\n",
      "I-OperatingLeaseCost: 251\n",
      "I-OperatingLeasesRentExpenseNet: 273\n",
      "New label contain in this dataset\n",
      "{0, 103, 104, 105, 106, 107, 108, 109, 78, 79, 80, 81, 110, 111}\n",
      "New label for dataset OperatingLease\n",
      "New database label and idx\n",
      "O: 0\n",
      "B-LesseeOperatingLeaseRenewalTerm: 1\n",
      "I-LesseeOperatingLeaseRenewalTerm: 2\n",
      "B-LesseeOperatingLeaseTermOfContract: 3\n",
      "I-LesseeOperatingLeaseTermOfContract: 4\n",
      "B-OperatingLeaseCost: 5\n",
      "B-OperatingLeaseExpense: 6\n",
      "B-OperatingLeaseLiability: 7\n",
      "B-OperatingLeasePayments: 8\n",
      "B-OperatingLeaseRightOfUseAsset: 9\n",
      "B-OperatingLeaseWeightedAverageDiscountRatePercent: 10\n",
      "B-OperatingLeaseWeightedAverageRemainingLeaseTerm1: 11\n",
      "I-OperatingLeaseWeightedAverageRemainingLeaseTerm1: 12\n",
      "B-OperatingLeasesRentExpenseNet: 13\n",
      "I-OperatingLeaseWeightedAverageDiscountRatePercent: 14\n",
      "I-OperatingLeasePayments: 15\n",
      "I-OperatingLeaseExpense: 16\n",
      "I-OperatingLeaseLiability: 17\n",
      "I-OperatingLeaseRightOfUseAsset: 18\n",
      "I-OperatingLeaseCost: 19\n",
      "I-OperatingLeasesRentExpenseNet: 20\n",
      "Total number of this database 10559\n",
      "=============================================================\n"
     ]
    },
    {
     "name": "stderr",
     "output_type": "stream",
     "text": [
      "INFO:root:********** Sampling....... **********\n",
      "INFO:root:********** Producing train number database **********\n"
     ]
    },
    {
     "data": {
      "application/vnd.jupyter.widget-view+json": {
       "model_id": "43ff438cf23947fa92e65500bb96b596",
       "version_major": 2,
       "version_minor": 0
      },
      "text/plain": [
       "Flattening the indices:   0%|          | 0/11 [00:00<?, ?ba/s]"
      ]
     },
     "metadata": {},
     "output_type": "display_data"
    },
    {
     "name": "stderr",
     "output_type": "stream",
     "text": [
      "INFO:root:********** Producing train str database **********\n"
     ]
    },
    {
     "data": {
      "application/vnd.jupyter.widget-view+json": {
       "model_id": "920048c757274037833c5f8adebed579",
       "version_major": 2,
       "version_minor": 0
      },
      "text/plain": [
       "Flattening the indices:   0%|          | 0/11 [00:00<?, ?ba/s]"
      ]
     },
     "metadata": {},
     "output_type": "display_data"
    },
    {
     "name": "stderr",
     "output_type": "stream",
     "text": [
      "INFO:root:********** Finishing save the database **********\n",
      "INFO:root:********** Finishing extracting database for OperatingLease train **********\n",
      "INFO:root:********** Scheme: Starting extract database for OperatingLease validation **********\n"
     ]
    },
    {
     "name": "stdout",
     "output_type": "stream",
     "text": [
      "================================================================================================\n",
      "Get validation OperatingLease data\n",
      "Label for dataset OperatingLease\n",
      "[0, 78, 79, 80, 81, 103, 104, 105, 106, 107, 108, 109, 110, 111, 197, 224, 232, 238, 245, 251, 273]\n",
      "Total number of labels 21\n",
      "Original database label and idx\n",
      "O: 0\n",
      "B-LesseeOperatingLeaseRenewalTerm: 78\n",
      "I-LesseeOperatingLeaseRenewalTerm: 79\n",
      "B-LesseeOperatingLeaseTermOfContract: 80\n",
      "I-LesseeOperatingLeaseTermOfContract: 81\n",
      "B-OperatingLeaseCost: 103\n",
      "B-OperatingLeaseExpense: 104\n",
      "B-OperatingLeaseLiability: 105\n",
      "B-OperatingLeasePayments: 106\n",
      "B-OperatingLeaseRightOfUseAsset: 107\n",
      "B-OperatingLeaseWeightedAverageDiscountRatePercent: 108\n",
      "B-OperatingLeaseWeightedAverageRemainingLeaseTerm1: 109\n",
      "I-OperatingLeaseWeightedAverageRemainingLeaseTerm1: 110\n",
      "B-OperatingLeasesRentExpenseNet: 111\n",
      "I-OperatingLeaseWeightedAverageDiscountRatePercent: 197\n",
      "I-OperatingLeasePayments: 224\n",
      "I-OperatingLeaseExpense: 232\n",
      "I-OperatingLeaseLiability: 238\n",
      "I-OperatingLeaseRightOfUseAsset: 245\n",
      "I-OperatingLeaseCost: 251\n",
      "I-OperatingLeasesRentExpenseNet: 273\n"
     ]
    },
    {
     "name": "stderr",
     "output_type": "stream",
     "text": [
      "INFO:root:********** Sampling....... **********\n",
      "INFO:root:********** Producing validation number database **********\n"
     ]
    },
    {
     "name": "stdout",
     "output_type": "stream",
     "text": [
      "New label contain in this dataset\n",
      "{0, 103, 104, 105, 106, 107, 108, 109, 78, 79, 80, 81, 110, 111}\n",
      "New label for dataset OperatingLease\n",
      "New database label and idx\n",
      "O: 0\n",
      "B-LesseeOperatingLeaseRenewalTerm: 1\n",
      "I-LesseeOperatingLeaseRenewalTerm: 2\n",
      "B-LesseeOperatingLeaseTermOfContract: 3\n",
      "I-LesseeOperatingLeaseTermOfContract: 4\n",
      "B-OperatingLeaseCost: 5\n",
      "B-OperatingLeaseExpense: 6\n",
      "B-OperatingLeaseLiability: 7\n",
      "B-OperatingLeasePayments: 8\n",
      "B-OperatingLeaseRightOfUseAsset: 9\n",
      "B-OperatingLeaseWeightedAverageDiscountRatePercent: 10\n",
      "B-OperatingLeaseWeightedAverageRemainingLeaseTerm1: 11\n",
      "I-OperatingLeaseWeightedAverageRemainingLeaseTerm1: 12\n",
      "B-OperatingLeasesRentExpenseNet: 13\n",
      "I-OperatingLeaseWeightedAverageDiscountRatePercent: 14\n",
      "I-OperatingLeasePayments: 15\n",
      "I-OperatingLeaseExpense: 16\n",
      "I-OperatingLeaseLiability: 17\n",
      "I-OperatingLeaseRightOfUseAsset: 18\n",
      "I-OperatingLeaseCost: 19\n",
      "I-OperatingLeasesRentExpenseNet: 20\n",
      "Total number of this database 791\n",
      "=============================================================\n"
     ]
    },
    {
     "data": {
      "application/vnd.jupyter.widget-view+json": {
       "model_id": "d9d2eeab54ac4497b51d51f41d1c1db0",
       "version_major": 2,
       "version_minor": 0
      },
      "text/plain": [
       "Flattening the indices:   0%|          | 0/1 [00:00<?, ?ba/s]"
      ]
     },
     "metadata": {},
     "output_type": "display_data"
    },
    {
     "name": "stderr",
     "output_type": "stream",
     "text": [
      "INFO:root:********** Producing validation str database **********\n"
     ]
    },
    {
     "data": {
      "application/vnd.jupyter.widget-view+json": {
       "model_id": "56754ddbf09747c5b98c56da538e7bbd",
       "version_major": 2,
       "version_minor": 0
      },
      "text/plain": [
       "Flattening the indices:   0%|          | 0/1 [00:00<?, ?ba/s]"
      ]
     },
     "metadata": {},
     "output_type": "display_data"
    },
    {
     "name": "stderr",
     "output_type": "stream",
     "text": [
      "INFO:root:********** Finishing save the database **********\n",
      "INFO:root:********** Finishing extracting database for OperatingLease validation **********\n",
      "INFO:root:********** Scheme: Starting extract database for OperatingLease test **********\n"
     ]
    },
    {
     "name": "stdout",
     "output_type": "stream",
     "text": [
      "================================================================================================\n",
      "Get test OperatingLease data\n",
      "Label for dataset OperatingLease\n",
      "[0, 78, 79, 80, 81, 103, 104, 105, 106, 107, 108, 109, 110, 111, 197, 224, 232, 238, 245, 251, 273]\n",
      "Total number of labels 21\n",
      "Original database label and idx\n",
      "O: 0\n",
      "B-LesseeOperatingLeaseRenewalTerm: 78\n",
      "I-LesseeOperatingLeaseRenewalTerm: 79\n",
      "B-LesseeOperatingLeaseTermOfContract: 80\n",
      "I-LesseeOperatingLeaseTermOfContract: 81\n",
      "B-OperatingLeaseCost: 103\n",
      "B-OperatingLeaseExpense: 104\n",
      "B-OperatingLeaseLiability: 105\n",
      "B-OperatingLeasePayments: 106\n",
      "B-OperatingLeaseRightOfUseAsset: 107\n",
      "B-OperatingLeaseWeightedAverageDiscountRatePercent: 108\n",
      "B-OperatingLeaseWeightedAverageRemainingLeaseTerm1: 109\n",
      "I-OperatingLeaseWeightedAverageRemainingLeaseTerm1: 110\n",
      "B-OperatingLeasesRentExpenseNet: 111\n",
      "I-OperatingLeaseWeightedAverageDiscountRatePercent: 197\n",
      "I-OperatingLeasePayments: 224\n",
      "I-OperatingLeaseExpense: 232\n",
      "I-OperatingLeaseLiability: 238\n",
      "I-OperatingLeaseRightOfUseAsset: 245\n",
      "I-OperatingLeaseCost: 251\n",
      "I-OperatingLeasesRentExpenseNet: 273\n"
     ]
    },
    {
     "name": "stderr",
     "output_type": "stream",
     "text": [
      "INFO:root:********** Sampling....... **********\n",
      "INFO:root:********** Producing test number database **********\n"
     ]
    },
    {
     "name": "stdout",
     "output_type": "stream",
     "text": [
      "New label contain in this dataset\n",
      "{0, 103, 104, 105, 106, 107, 108, 109, 78, 79, 80, 81, 111}\n",
      "New label for dataset OperatingLease\n",
      "New database label and idx\n",
      "O: 0\n",
      "B-LesseeOperatingLeaseRenewalTerm: 1\n",
      "I-LesseeOperatingLeaseRenewalTerm: 2\n",
      "B-LesseeOperatingLeaseTermOfContract: 3\n",
      "I-LesseeOperatingLeaseTermOfContract: 4\n",
      "B-OperatingLeaseCost: 5\n",
      "B-OperatingLeaseExpense: 6\n",
      "B-OperatingLeaseLiability: 7\n",
      "B-OperatingLeasePayments: 8\n",
      "B-OperatingLeaseRightOfUseAsset: 9\n",
      "B-OperatingLeaseWeightedAverageDiscountRatePercent: 10\n",
      "B-OperatingLeaseWeightedAverageRemainingLeaseTerm1: 11\n",
      "I-OperatingLeaseWeightedAverageRemainingLeaseTerm1: 12\n",
      "B-OperatingLeasesRentExpenseNet: 13\n",
      "I-OperatingLeaseWeightedAverageDiscountRatePercent: 14\n",
      "I-OperatingLeasePayments: 15\n",
      "I-OperatingLeaseExpense: 16\n",
      "I-OperatingLeaseLiability: 17\n",
      "I-OperatingLeaseRightOfUseAsset: 18\n",
      "I-OperatingLeaseCost: 19\n",
      "I-OperatingLeasesRentExpenseNet: 20\n",
      "Total number of this database 763\n",
      "=============================================================\n"
     ]
    },
    {
     "data": {
      "application/vnd.jupyter.widget-view+json": {
       "model_id": "084aafea00614c878bdafeaf44f85c6c",
       "version_major": 2,
       "version_minor": 0
      },
      "text/plain": [
       "Flattening the indices:   0%|          | 0/1 [00:00<?, ?ba/s]"
      ]
     },
     "metadata": {},
     "output_type": "display_data"
    },
    {
     "name": "stderr",
     "output_type": "stream",
     "text": [
      "INFO:root:********** Producing test str database **********\n"
     ]
    },
    {
     "data": {
      "application/vnd.jupyter.widget-view+json": {
       "model_id": "32498c0271c048b9b5267e7073c6f022",
       "version_major": 2,
       "version_minor": 0
      },
      "text/plain": [
       "Flattening the indices:   0%|          | 0/1 [00:00<?, ?ba/s]"
      ]
     },
     "metadata": {},
     "output_type": "display_data"
    },
    {
     "name": "stderr",
     "output_type": "stream",
     "text": [
      "INFO:root:********** Finishing save the database **********\n",
      "INFO:root:********** Finishing extracting database for OperatingLease test **********\n",
      "INFO:root:********** Finishing extracting all database for OperatingLease **********\n",
      "INFO:root:********** Scheme: Starting extract database for Revenue train **********\n"
     ]
    },
    {
     "name": "stdout",
     "output_type": "stream",
     "text": [
      "================================================================================================\n",
      "======================================================================================\n",
      "Get train Revenue data\n",
      "Label for dataset Revenue\n",
      "[0, 32, 129, 130, 131, 132, 133, 175, 176, 196, 220, 239, 269]\n",
      "Total number of labels 13\n",
      "Original database label and idx\n",
      "O: 0\n",
      "B-ContractWithCustomerLiabilityRevenueRecognized: 32\n",
      "B-RevenueFromContractWithCustomerExcludingAssessedTax: 129\n",
      "B-RevenueFromContractWithCustomerIncludingAssessedTax: 130\n",
      "B-RevenueFromRelatedParties: 131\n",
      "B-RevenueRemainingPerformanceObligation: 132\n",
      "B-Revenues: 133\n",
      "I-ContractWithCustomerLiabilityRevenueRecognized: 175\n",
      "I-RevenueRemainingPerformanceObligation: 176\n",
      "I-RevenueFromContractWithCustomerIncludingAssessedTax: 196\n",
      "I-Revenues: 220\n",
      "I-RevenueFromRelatedParties: 239\n",
      "I-RevenueFromContractWithCustomerExcludingAssessedTax: 269\n",
      "New label contain in this dataset\n",
      "{0, 129, 32, 130, 132, 133, 131}\n",
      "New label for dataset Revenue\n",
      "New database label and idx\n",
      "O: 0\n",
      "B-ContractWithCustomerLiabilityRevenueRecognized: 1\n",
      "B-RevenueFromContractWithCustomerExcludingAssessedTax: 2\n",
      "B-RevenueFromContractWithCustomerIncludingAssessedTax: 3\n",
      "B-RevenueFromRelatedParties: 4\n",
      "B-RevenueRemainingPerformanceObligation: 5\n",
      "B-Revenues: 6\n",
      "I-ContractWithCustomerLiabilityRevenueRecognized: 7\n",
      "I-RevenueRemainingPerformanceObligation: 8\n",
      "I-RevenueFromContractWithCustomerIncludingAssessedTax: 9\n",
      "I-Revenues: 10\n",
      "I-RevenueFromRelatedParties: 11\n",
      "I-RevenueFromContractWithCustomerExcludingAssessedTax: 12\n",
      "Total number of this database 7200\n",
      "=============================================================\n"
     ]
    },
    {
     "name": "stderr",
     "output_type": "stream",
     "text": [
      "INFO:root:********** Sampling....... **********\n",
      "INFO:root:********** Producing train number database **********\n"
     ]
    },
    {
     "data": {
      "application/vnd.jupyter.widget-view+json": {
       "model_id": "ffda0a7fc564434ea3f77ccfc5eb07d4",
       "version_major": 2,
       "version_minor": 0
      },
      "text/plain": [
       "Flattening the indices:   0%|          | 0/8 [00:00<?, ?ba/s]"
      ]
     },
     "metadata": {},
     "output_type": "display_data"
    },
    {
     "name": "stderr",
     "output_type": "stream",
     "text": [
      "INFO:root:********** Producing train str database **********\n"
     ]
    },
    {
     "data": {
      "application/vnd.jupyter.widget-view+json": {
       "model_id": "19b03624af424ff19d7267eb8fb92167",
       "version_major": 2,
       "version_minor": 0
      },
      "text/plain": [
       "Flattening the indices:   0%|          | 0/8 [00:00<?, ?ba/s]"
      ]
     },
     "metadata": {},
     "output_type": "display_data"
    },
    {
     "name": "stderr",
     "output_type": "stream",
     "text": [
      "INFO:root:********** Finishing save the database **********\n",
      "INFO:root:********** Finishing extracting database for Revenue train **********\n",
      "INFO:root:********** Scheme: Starting extract database for Revenue validation **********\n"
     ]
    },
    {
     "name": "stdout",
     "output_type": "stream",
     "text": [
      "================================================================================================\n",
      "Get validation Revenue data\n",
      "Label for dataset Revenue\n",
      "[0, 32, 129, 130, 131, 132, 133, 175, 176, 196, 220, 239, 269]\n",
      "Total number of labels 13\n",
      "Original database label and idx\n",
      "O: 0\n",
      "B-ContractWithCustomerLiabilityRevenueRecognized: 32\n",
      "B-RevenueFromContractWithCustomerExcludingAssessedTax: 129\n",
      "B-RevenueFromContractWithCustomerIncludingAssessedTax: 130\n",
      "B-RevenueFromRelatedParties: 131\n",
      "B-RevenueRemainingPerformanceObligation: 132\n",
      "B-Revenues: 133\n",
      "I-ContractWithCustomerLiabilityRevenueRecognized: 175\n",
      "I-RevenueRemainingPerformanceObligation: 176\n",
      "I-RevenueFromContractWithCustomerIncludingAssessedTax: 196\n",
      "I-Revenues: 220\n",
      "I-RevenueFromRelatedParties: 239\n",
      "I-RevenueFromContractWithCustomerExcludingAssessedTax: 269\n"
     ]
    },
    {
     "name": "stderr",
     "output_type": "stream",
     "text": [
      "INFO:root:********** Sampling....... **********\n",
      "INFO:root:********** Producing validation number database **********\n"
     ]
    },
    {
     "name": "stdout",
     "output_type": "stream",
     "text": [
      "New label contain in this dataset\n",
      "{0, 129, 32, 131, 132, 133, 130}\n",
      "New label for dataset Revenue\n",
      "New database label and idx\n",
      "O: 0\n",
      "B-ContractWithCustomerLiabilityRevenueRecognized: 1\n",
      "B-RevenueFromContractWithCustomerExcludingAssessedTax: 2\n",
      "B-RevenueFromContractWithCustomerIncludingAssessedTax: 3\n",
      "B-RevenueFromRelatedParties: 4\n",
      "B-RevenueRemainingPerformanceObligation: 5\n",
      "B-Revenues: 6\n",
      "I-ContractWithCustomerLiabilityRevenueRecognized: 7\n",
      "I-RevenueRemainingPerformanceObligation: 8\n",
      "I-RevenueFromContractWithCustomerIncludingAssessedTax: 9\n",
      "I-Revenues: 10\n",
      "I-RevenueFromRelatedParties: 11\n",
      "I-RevenueFromContractWithCustomerExcludingAssessedTax: 12\n",
      "Total number of this database 976\n",
      "=============================================================\n"
     ]
    },
    {
     "data": {
      "application/vnd.jupyter.widget-view+json": {
       "model_id": "1868457fe970459799d4dc3b5b05321e",
       "version_major": 2,
       "version_minor": 0
      },
      "text/plain": [
       "Flattening the indices:   0%|          | 0/1 [00:00<?, ?ba/s]"
      ]
     },
     "metadata": {},
     "output_type": "display_data"
    },
    {
     "name": "stderr",
     "output_type": "stream",
     "text": [
      "INFO:root:********** Producing validation str database **********\n"
     ]
    },
    {
     "data": {
      "application/vnd.jupyter.widget-view+json": {
       "model_id": "7ef4e7041fae46a7b046eb65d730ce14",
       "version_major": 2,
       "version_minor": 0
      },
      "text/plain": [
       "Flattening the indices:   0%|          | 0/1 [00:00<?, ?ba/s]"
      ]
     },
     "metadata": {},
     "output_type": "display_data"
    },
    {
     "name": "stderr",
     "output_type": "stream",
     "text": [
      "INFO:root:********** Finishing save the database **********\n",
      "INFO:root:********** Finishing extracting database for Revenue validation **********\n",
      "INFO:root:********** Scheme: Starting extract database for Revenue test **********\n"
     ]
    },
    {
     "name": "stdout",
     "output_type": "stream",
     "text": [
      "================================================================================================\n",
      "Get test Revenue data\n",
      "Label for dataset Revenue\n",
      "[0, 32, 129, 130, 131, 132, 133, 175, 176, 196, 220, 239, 269]\n",
      "Total number of labels 13\n",
      "Original database label and idx\n",
      "O: 0\n",
      "B-ContractWithCustomerLiabilityRevenueRecognized: 32\n",
      "B-RevenueFromContractWithCustomerExcludingAssessedTax: 129\n",
      "B-RevenueFromContractWithCustomerIncludingAssessedTax: 130\n",
      "B-RevenueFromRelatedParties: 131\n",
      "B-RevenueRemainingPerformanceObligation: 132\n",
      "B-Revenues: 133\n",
      "I-ContractWithCustomerLiabilityRevenueRecognized: 175\n",
      "I-RevenueRemainingPerformanceObligation: 176\n",
      "I-RevenueFromContractWithCustomerIncludingAssessedTax: 196\n",
      "I-Revenues: 220\n",
      "I-RevenueFromRelatedParties: 239\n",
      "I-RevenueFromContractWithCustomerExcludingAssessedTax: 269\n"
     ]
    },
    {
     "name": "stderr",
     "output_type": "stream",
     "text": [
      "INFO:root:********** Sampling....... **********\n",
      "INFO:root:********** Producing test number database **********\n"
     ]
    },
    {
     "name": "stdout",
     "output_type": "stream",
     "text": [
      "New label contain in this dataset\n",
      "{0, 129, 32, 130, 132, 131, 133}\n",
      "New label for dataset Revenue\n",
      "New database label and idx\n",
      "O: 0\n",
      "B-ContractWithCustomerLiabilityRevenueRecognized: 1\n",
      "B-RevenueFromContractWithCustomerExcludingAssessedTax: 2\n",
      "B-RevenueFromContractWithCustomerIncludingAssessedTax: 3\n",
      "B-RevenueFromRelatedParties: 4\n",
      "B-RevenueRemainingPerformanceObligation: 5\n",
      "B-Revenues: 6\n",
      "I-ContractWithCustomerLiabilityRevenueRecognized: 7\n",
      "I-RevenueRemainingPerformanceObligation: 8\n",
      "I-RevenueFromContractWithCustomerIncludingAssessedTax: 9\n",
      "I-Revenues: 10\n",
      "I-RevenueFromRelatedParties: 11\n",
      "I-RevenueFromContractWithCustomerExcludingAssessedTax: 12\n",
      "Total number of this database 669\n",
      "=============================================================\n"
     ]
    },
    {
     "data": {
      "application/vnd.jupyter.widget-view+json": {
       "model_id": "215f6bc19b2447a3a7fb1b802e3fdc3c",
       "version_major": 2,
       "version_minor": 0
      },
      "text/plain": [
       "Flattening the indices:   0%|          | 0/1 [00:00<?, ?ba/s]"
      ]
     },
     "metadata": {},
     "output_type": "display_data"
    },
    {
     "name": "stderr",
     "output_type": "stream",
     "text": [
      "INFO:root:********** Producing test str database **********\n"
     ]
    },
    {
     "data": {
      "application/vnd.jupyter.widget-view+json": {
       "model_id": "75aed3ec414c427aba2b6b7ab736a583",
       "version_major": 2,
       "version_minor": 0
      },
      "text/plain": [
       "Flattening the indices:   0%|          | 0/1 [00:00<?, ?ba/s]"
      ]
     },
     "metadata": {},
     "output_type": "display_data"
    },
    {
     "name": "stderr",
     "output_type": "stream",
     "text": [
      "INFO:root:********** Finishing save the database **********\n",
      "INFO:root:********** Finishing extracting database for Revenue test **********\n",
      "INFO:root:********** Finishing extracting all database for Revenue **********\n",
      "INFO:root:********** Scheme: Starting extract database for Tax train **********\n"
     ]
    },
    {
     "name": "stdout",
     "output_type": "stream",
     "text": [
      "================================================================================================\n",
      "======================================================================================\n",
      "Get train Tax data\n",
      "Label for dataset Tax\n",
      "[0, 57, 58, 63, 74, 129, 130, 168, 169, 187, 196, 200, 247, 257, 266, 268, 269]\n",
      "Total number of labels 17\n",
      "Original database label and idx\n",
      "O: 0\n",
      "B-EffectiveIncomeTaxRateContinuingOperations: 57\n",
      "B-EffectiveIncomeTaxRateReconciliationAtFederalStatutoryIncomeTaxRate: 58\n",
      "B-EmployeeServiceShareBasedCompensationTaxBenefitFromCompensationExpense: 63\n",
      "B-IncomeTaxExpenseBenefit: 74\n",
      "B-RevenueFromContractWithCustomerExcludingAssessedTax: 129\n",
      "B-RevenueFromContractWithCustomerIncludingAssessedTax: 130\n",
      "B-UnrecognizedTaxBenefits: 168\n",
      "B-UnrecognizedTaxBenefitsThatWouldImpactEffectiveTaxRate: 169\n",
      "I-IncomeTaxExpenseBenefit: 187\n",
      "I-RevenueFromContractWithCustomerIncludingAssessedTax: 196\n",
      "I-EffectiveIncomeTaxRateReconciliationAtFederalStatutoryIncomeTaxRate: 200\n",
      "I-UnrecognizedTaxBenefits: 247\n",
      "I-EmployeeServiceShareBasedCompensationTaxBenefitFromCompensationExpense: 257\n",
      "I-UnrecognizedTaxBenefitsThatWouldImpactEffectiveTaxRate: 266\n",
      "I-EffectiveIncomeTaxRateContinuingOperations: 268\n",
      "I-RevenueFromContractWithCustomerExcludingAssessedTax: 269\n",
      "New label contain in this dataset\n",
      "{0, 129, 130, 168, 169, 74, 57, 58, 63}\n",
      "New label for dataset Tax\n",
      "New database label and idx\n",
      "O: 0\n",
      "B-EffectiveIncomeTaxRateContinuingOperations: 1\n",
      "B-EffectiveIncomeTaxRateReconciliationAtFederalStatutoryIncomeTaxRate: 2\n",
      "B-EmployeeServiceShareBasedCompensationTaxBenefitFromCompensationExpense: 3\n",
      "B-IncomeTaxExpenseBenefit: 4\n",
      "B-RevenueFromContractWithCustomerExcludingAssessedTax: 5\n",
      "B-RevenueFromContractWithCustomerIncludingAssessedTax: 6\n",
      "B-UnrecognizedTaxBenefits: 7\n",
      "B-UnrecognizedTaxBenefitsThatWouldImpactEffectiveTaxRate: 8\n",
      "I-IncomeTaxExpenseBenefit: 9\n",
      "I-RevenueFromContractWithCustomerIncludingAssessedTax: 10\n",
      "I-EffectiveIncomeTaxRateReconciliationAtFederalStatutoryIncomeTaxRate: 11\n",
      "I-UnrecognizedTaxBenefits: 12\n",
      "I-EmployeeServiceShareBasedCompensationTaxBenefitFromCompensationExpense: 13\n",
      "I-UnrecognizedTaxBenefitsThatWouldImpactEffectiveTaxRate: 14\n",
      "I-EffectiveIncomeTaxRateContinuingOperations: 15\n",
      "I-RevenueFromContractWithCustomerExcludingAssessedTax: 16\n",
      "Total number of this database 11021\n",
      "=============================================================\n"
     ]
    },
    {
     "name": "stderr",
     "output_type": "stream",
     "text": [
      "INFO:root:********** Sampling....... **********\n",
      "INFO:root:********** Producing train number database **********\n"
     ]
    },
    {
     "data": {
      "application/vnd.jupyter.widget-view+json": {
       "model_id": "1f90d99a35c14abf871ff0b9385a5a7e",
       "version_major": 2,
       "version_minor": 0
      },
      "text/plain": [
       "Flattening the indices:   0%|          | 0/12 [00:00<?, ?ba/s]"
      ]
     },
     "metadata": {},
     "output_type": "display_data"
    },
    {
     "name": "stderr",
     "output_type": "stream",
     "text": [
      "INFO:root:********** Producing train str database **********\n"
     ]
    },
    {
     "data": {
      "application/vnd.jupyter.widget-view+json": {
       "model_id": "99f2ee30fe2c4955b42a2268c9514dda",
       "version_major": 2,
       "version_minor": 0
      },
      "text/plain": [
       "Flattening the indices:   0%|          | 0/12 [00:00<?, ?ba/s]"
      ]
     },
     "metadata": {},
     "output_type": "display_data"
    },
    {
     "name": "stderr",
     "output_type": "stream",
     "text": [
      "INFO:root:********** Finishing save the database **********\n",
      "INFO:root:********** Finishing extracting database for Tax train **********\n",
      "INFO:root:********** Scheme: Starting extract database for Tax validation **********\n"
     ]
    },
    {
     "name": "stdout",
     "output_type": "stream",
     "text": [
      "================================================================================================\n",
      "Get validation Tax data\n",
      "Label for dataset Tax\n",
      "[0, 57, 58, 63, 74, 129, 130, 168, 169, 187, 196, 200, 247, 257, 266, 268, 269]\n",
      "Total number of labels 17\n",
      "Original database label and idx\n",
      "O: 0\n",
      "B-EffectiveIncomeTaxRateContinuingOperations: 57\n",
      "B-EffectiveIncomeTaxRateReconciliationAtFederalStatutoryIncomeTaxRate: 58\n",
      "B-EmployeeServiceShareBasedCompensationTaxBenefitFromCompensationExpense: 63\n",
      "B-IncomeTaxExpenseBenefit: 74\n",
      "B-RevenueFromContractWithCustomerExcludingAssessedTax: 129\n",
      "B-RevenueFromContractWithCustomerIncludingAssessedTax: 130\n",
      "B-UnrecognizedTaxBenefits: 168\n",
      "B-UnrecognizedTaxBenefitsThatWouldImpactEffectiveTaxRate: 169\n",
      "I-IncomeTaxExpenseBenefit: 187\n",
      "I-RevenueFromContractWithCustomerIncludingAssessedTax: 196\n",
      "I-EffectiveIncomeTaxRateReconciliationAtFederalStatutoryIncomeTaxRate: 200\n",
      "I-UnrecognizedTaxBenefits: 247\n",
      "I-EmployeeServiceShareBasedCompensationTaxBenefitFromCompensationExpense: 257\n",
      "I-UnrecognizedTaxBenefitsThatWouldImpactEffectiveTaxRate: 266\n",
      "I-EffectiveIncomeTaxRateContinuingOperations: 268\n",
      "I-RevenueFromContractWithCustomerExcludingAssessedTax: 269\n",
      "New label contain in this dataset\n",
      "{0, 129, 130, 168, 169, 74, 57, 58, 63}\n",
      "New label for dataset Tax\n",
      "New database label and idx\n",
      "O: 0\n",
      "B-EffectiveIncomeTaxRateContinuingOperations: 1\n",
      "B-EffectiveIncomeTaxRateReconciliationAtFederalStatutoryIncomeTaxRate: 2\n",
      "B-EmployeeServiceShareBasedCompensationTaxBenefitFromCompensationExpense: 3\n",
      "B-IncomeTaxExpenseBenefit: 4\n",
      "B-RevenueFromContractWithCustomerExcludingAssessedTax: 5\n",
      "B-RevenueFromContractWithCustomerIncludingAssessedTax: 6\n",
      "B-UnrecognizedTaxBenefits: 7\n",
      "B-UnrecognizedTaxBenefitsThatWouldImpactEffectiveTaxRate: 8\n",
      "I-IncomeTaxExpenseBenefit: 9\n",
      "I-RevenueFromContractWithCustomerIncludingAssessedTax: 10\n",
      "I-EffectiveIncomeTaxRateReconciliationAtFederalStatutoryIncomeTaxRate: 11\n",
      "I-UnrecognizedTaxBenefits: 12\n",
      "I-EmployeeServiceShareBasedCompensationTaxBenefitFromCompensationExpense: 13\n",
      "I-UnrecognizedTaxBenefitsThatWouldImpactEffectiveTaxRate: 14\n",
      "I-EffectiveIncomeTaxRateContinuingOperations: 15\n",
      "I-RevenueFromContractWithCustomerExcludingAssessedTax: 16\n",
      "Total number of this database 1274\n",
      "=============================================================\n"
     ]
    },
    {
     "name": "stderr",
     "output_type": "stream",
     "text": [
      "INFO:root:********** Sampling....... **********\n",
      "INFO:root:********** Producing validation number database **********\n"
     ]
    },
    {
     "data": {
      "application/vnd.jupyter.widget-view+json": {
       "model_id": "ac73d08fe04d429597a2dde3578ed880",
       "version_major": 2,
       "version_minor": 0
      },
      "text/plain": [
       "Flattening the indices:   0%|          | 0/2 [00:00<?, ?ba/s]"
      ]
     },
     "metadata": {},
     "output_type": "display_data"
    },
    {
     "name": "stderr",
     "output_type": "stream",
     "text": [
      "INFO:root:********** Producing validation str database **********\n"
     ]
    },
    {
     "data": {
      "application/vnd.jupyter.widget-view+json": {
       "model_id": "d047c627d03e4dd4bd86e0156a526186",
       "version_major": 2,
       "version_minor": 0
      },
      "text/plain": [
       "Flattening the indices:   0%|          | 0/2 [00:00<?, ?ba/s]"
      ]
     },
     "metadata": {},
     "output_type": "display_data"
    },
    {
     "name": "stderr",
     "output_type": "stream",
     "text": [
      "INFO:root:********** Finishing save the database **********\n",
      "INFO:root:********** Finishing extracting database for Tax validation **********\n",
      "INFO:root:********** Scheme: Starting extract database for Tax test **********\n"
     ]
    },
    {
     "name": "stdout",
     "output_type": "stream",
     "text": [
      "================================================================================================\n",
      "Get test Tax data\n",
      "Label for dataset Tax\n",
      "[0, 57, 58, 63, 74, 129, 130, 168, 169, 187, 196, 200, 247, 257, 266, 268, 269]\n",
      "Total number of labels 17\n",
      "Original database label and idx\n",
      "O: 0\n",
      "B-EffectiveIncomeTaxRateContinuingOperations: 57\n",
      "B-EffectiveIncomeTaxRateReconciliationAtFederalStatutoryIncomeTaxRate: 58\n",
      "B-EmployeeServiceShareBasedCompensationTaxBenefitFromCompensationExpense: 63\n",
      "B-IncomeTaxExpenseBenefit: 74\n",
      "B-RevenueFromContractWithCustomerExcludingAssessedTax: 129\n",
      "B-RevenueFromContractWithCustomerIncludingAssessedTax: 130\n",
      "B-UnrecognizedTaxBenefits: 168\n",
      "B-UnrecognizedTaxBenefitsThatWouldImpactEffectiveTaxRate: 169\n",
      "I-IncomeTaxExpenseBenefit: 187\n",
      "I-RevenueFromContractWithCustomerIncludingAssessedTax: 196\n",
      "I-EffectiveIncomeTaxRateReconciliationAtFederalStatutoryIncomeTaxRate: 200\n",
      "I-UnrecognizedTaxBenefits: 247\n",
      "I-EmployeeServiceShareBasedCompensationTaxBenefitFromCompensationExpense: 257\n",
      "I-UnrecognizedTaxBenefitsThatWouldImpactEffectiveTaxRate: 266\n",
      "I-EffectiveIncomeTaxRateContinuingOperations: 268\n",
      "I-RevenueFromContractWithCustomerExcludingAssessedTax: 269\n",
      "New label contain in this dataset\n",
      "{0, 129, 130, 168, 169, 74, 57, 58, 63}\n",
      "New label for dataset Tax\n",
      "New database label and idx\n",
      "O: 0\n",
      "B-EffectiveIncomeTaxRateContinuingOperations: 1\n",
      "B-EffectiveIncomeTaxRateReconciliationAtFederalStatutoryIncomeTaxRate: 2\n",
      "B-EmployeeServiceShareBasedCompensationTaxBenefitFromCompensationExpense: 3\n",
      "B-IncomeTaxExpenseBenefit: 4\n",
      "B-RevenueFromContractWithCustomerExcludingAssessedTax: 5\n",
      "B-RevenueFromContractWithCustomerIncludingAssessedTax: 6\n",
      "B-UnrecognizedTaxBenefits: 7\n",
      "B-UnrecognizedTaxBenefitsThatWouldImpactEffectiveTaxRate: 8\n",
      "I-IncomeTaxExpenseBenefit: 9\n",
      "I-RevenueFromContractWithCustomerIncludingAssessedTax: 10\n",
      "I-EffectiveIncomeTaxRateReconciliationAtFederalStatutoryIncomeTaxRate: 11\n",
      "I-UnrecognizedTaxBenefits: 12\n",
      "I-EmployeeServiceShareBasedCompensationTaxBenefitFromCompensationExpense: 13\n",
      "I-UnrecognizedTaxBenefitsThatWouldImpactEffectiveTaxRate: 14\n",
      "I-EffectiveIncomeTaxRateContinuingOperations: 15\n",
      "I-RevenueFromContractWithCustomerExcludingAssessedTax: 16\n",
      "Total number of this database 1015\n",
      "=============================================================\n"
     ]
    },
    {
     "name": "stderr",
     "output_type": "stream",
     "text": [
      "INFO:root:********** Sampling....... **********\n",
      "INFO:root:********** Producing test number database **********\n"
     ]
    },
    {
     "data": {
      "application/vnd.jupyter.widget-view+json": {
       "model_id": "ef57462a25fc4d77957aa9db394d1491",
       "version_major": 2,
       "version_minor": 0
      },
      "text/plain": [
       "Flattening the indices:   0%|          | 0/2 [00:00<?, ?ba/s]"
      ]
     },
     "metadata": {},
     "output_type": "display_data"
    },
    {
     "name": "stderr",
     "output_type": "stream",
     "text": [
      "INFO:root:********** Producing test str database **********\n"
     ]
    },
    {
     "data": {
      "application/vnd.jupyter.widget-view+json": {
       "model_id": "e300481fd4b5448196d16200c1fe42fa",
       "version_major": 2,
       "version_minor": 0
      },
      "text/plain": [
       "Flattening the indices:   0%|          | 0/2 [00:00<?, ?ba/s]"
      ]
     },
     "metadata": {},
     "output_type": "display_data"
    },
    {
     "name": "stderr",
     "output_type": "stream",
     "text": [
      "INFO:root:********** Finishing save the database **********\n",
      "INFO:root:********** Finishing extracting database for Tax test **********\n",
      "INFO:root:********** Finishing extracting all database for Tax **********\n",
      "INFO:root:********** Scheme: Starting extract database for Equity train **********\n"
     ]
    },
    {
     "name": "stdout",
     "output_type": "stream",
     "text": [
      "================================================================================================\n",
      "======================================================================================\n",
      "Get train Equity data\n",
      "Label for dataset Equity\n",
      "[0, 13, 64, 65, 66, 73, 140, 141, 142, 143, 144, 190, 211, 216, 223, 244, 258]\n",
      "Total number of labels 17\n",
      "Original database label and idx\n",
      "O: 0\n",
      "B-BusinessAcquisitionEquityInterestsIssuedOrIssuableNumberOfSharesIssued: 13\n",
      "B-EquityMethodInvestmentOwnershipPercentage: 64\n",
      "I-EquityMethodInvestmentOwnershipPercentage: 65\n",
      "B-EquityMethodInvestments: 66\n",
      "B-IncomeLossFromEquityMethodInvestments: 73\n",
      "B-ShareBasedCompensationArrangementByShareBasedPaymentAwardEquityInstrumentsOtherThanOptionsGrantsInPeriod: 140\n",
      "I-ShareBasedCompensationArrangementByShareBasedPaymentAwardEquityInstrumentsOtherThanOptionsGrantsInPeriod: 141\n",
      "B-ShareBasedCompensationArrangementByShareBasedPaymentAwardEquityInstrumentsOtherThanOptionsGrantsInPeriodWeightedAverageGrantDateFairValue: 142\n",
      "B-ShareBasedCompensationArrangementByShareBasedPaymentAwardEquityInstrumentsOtherThanOptionsNonvestedNumber: 143\n",
      "B-ShareBasedCompensationArrangementByShareBasedPaymentAwardEquityInstrumentsOtherThanOptionsVestedInPeriodTotalFairValue: 144\n",
      "I-EquityMethodInvestments: 190\n",
      "I-ShareBasedCompensationArrangementByShareBasedPaymentAwardEquityInstrumentsOtherThanOptionsNonvestedNumber: 211\n",
      "I-ShareBasedCompensationArrangementByShareBasedPaymentAwardEquityInstrumentsOtherThanOptionsVestedInPeriodTotalFairValue: 216\n",
      "I-ShareBasedCompensationArrangementByShareBasedPaymentAwardEquityInstrumentsOtherThanOptionsGrantsInPeriodWeightedAverageGrantDateFairValue: 223\n",
      "I-BusinessAcquisitionEquityInterestsIssuedOrIssuableNumberOfSharesIssued: 244\n",
      "I-IncomeLossFromEquityMethodInvestments: 258\n",
      "New label contain in this dataset\n",
      "{0, 64, 66, 65, 73, 140, 13, 142, 143, 144, 141}\n",
      "New label for dataset Equity\n",
      "New database label and idx\n",
      "O: 0\n",
      "B-BusinessAcquisitionEquityInterestsIssuedOrIssuableNumberOfSharesIssued: 1\n",
      "B-EquityMethodInvestmentOwnershipPercentage: 2\n",
      "I-EquityMethodInvestmentOwnershipPercentage: 3\n",
      "B-EquityMethodInvestments: 4\n",
      "B-IncomeLossFromEquityMethodInvestments: 5\n",
      "B-ShareBasedCompensationArrangementByShareBasedPaymentAwardEquityInstrumentsOtherThanOptionsGrantsInPeriod: 6\n",
      "I-ShareBasedCompensationArrangementByShareBasedPaymentAwardEquityInstrumentsOtherThanOptionsGrantsInPeriod: 7\n",
      "B-ShareBasedCompensationArrangementByShareBasedPaymentAwardEquityInstrumentsOtherThanOptionsGrantsInPeriodWeightedAverageGrantDateFairValue: 8\n",
      "B-ShareBasedCompensationArrangementByShareBasedPaymentAwardEquityInstrumentsOtherThanOptionsNonvestedNumber: 9\n",
      "B-ShareBasedCompensationArrangementByShareBasedPaymentAwardEquityInstrumentsOtherThanOptionsVestedInPeriodTotalFairValue: 10\n",
      "I-EquityMethodInvestments: 11\n",
      "I-ShareBasedCompensationArrangementByShareBasedPaymentAwardEquityInstrumentsOtherThanOptionsNonvestedNumber: 12\n",
      "I-ShareBasedCompensationArrangementByShareBasedPaymentAwardEquityInstrumentsOtherThanOptionsVestedInPeriodTotalFairValue: 13\n",
      "I-ShareBasedCompensationArrangementByShareBasedPaymentAwardEquityInstrumentsOtherThanOptionsGrantsInPeriodWeightedAverageGrantDateFairValue: 14\n",
      "I-BusinessAcquisitionEquityInterestsIssuedOrIssuableNumberOfSharesIssued: 15\n",
      "I-IncomeLossFromEquityMethodInvestments: 16\n",
      "Total number of this database 11721\n",
      "=============================================================\n"
     ]
    },
    {
     "name": "stderr",
     "output_type": "stream",
     "text": [
      "INFO:root:********** Sampling....... **********\n",
      "INFO:root:********** Producing train number database **********\n"
     ]
    },
    {
     "data": {
      "application/vnd.jupyter.widget-view+json": {
       "model_id": "98fee7632b3e48f09eee563ddc44ba5d",
       "version_major": 2,
       "version_minor": 0
      },
      "text/plain": [
       "Flattening the indices:   0%|          | 0/12 [00:00<?, ?ba/s]"
      ]
     },
     "metadata": {},
     "output_type": "display_data"
    },
    {
     "name": "stderr",
     "output_type": "stream",
     "text": [
      "INFO:root:********** Producing train str database **********\n"
     ]
    },
    {
     "data": {
      "application/vnd.jupyter.widget-view+json": {
       "model_id": "47c8110e071841529f5d0ba5282f6f57",
       "version_major": 2,
       "version_minor": 0
      },
      "text/plain": [
       "Flattening the indices:   0%|          | 0/12 [00:00<?, ?ba/s]"
      ]
     },
     "metadata": {},
     "output_type": "display_data"
    },
    {
     "name": "stderr",
     "output_type": "stream",
     "text": [
      "INFO:root:********** Finishing save the database **********\n",
      "INFO:root:********** Finishing extracting database for Equity train **********\n",
      "INFO:root:********** Scheme: Starting extract database for Equity validation **********\n"
     ]
    },
    {
     "name": "stdout",
     "output_type": "stream",
     "text": [
      "================================================================================================\n",
      "Get validation Equity data\n",
      "Label for dataset Equity\n",
      "[0, 13, 64, 65, 66, 73, 140, 141, 142, 143, 144, 190, 211, 216, 223, 244, 258]\n",
      "Total number of labels 17\n",
      "Original database label and idx\n",
      "O: 0\n",
      "B-BusinessAcquisitionEquityInterestsIssuedOrIssuableNumberOfSharesIssued: 13\n",
      "B-EquityMethodInvestmentOwnershipPercentage: 64\n",
      "I-EquityMethodInvestmentOwnershipPercentage: 65\n",
      "B-EquityMethodInvestments: 66\n",
      "B-IncomeLossFromEquityMethodInvestments: 73\n",
      "B-ShareBasedCompensationArrangementByShareBasedPaymentAwardEquityInstrumentsOtherThanOptionsGrantsInPeriod: 140\n",
      "I-ShareBasedCompensationArrangementByShareBasedPaymentAwardEquityInstrumentsOtherThanOptionsGrantsInPeriod: 141\n",
      "B-ShareBasedCompensationArrangementByShareBasedPaymentAwardEquityInstrumentsOtherThanOptionsGrantsInPeriodWeightedAverageGrantDateFairValue: 142\n",
      "B-ShareBasedCompensationArrangementByShareBasedPaymentAwardEquityInstrumentsOtherThanOptionsNonvestedNumber: 143\n",
      "B-ShareBasedCompensationArrangementByShareBasedPaymentAwardEquityInstrumentsOtherThanOptionsVestedInPeriodTotalFairValue: 144\n",
      "I-EquityMethodInvestments: 190\n",
      "I-ShareBasedCompensationArrangementByShareBasedPaymentAwardEquityInstrumentsOtherThanOptionsNonvestedNumber: 211\n",
      "I-ShareBasedCompensationArrangementByShareBasedPaymentAwardEquityInstrumentsOtherThanOptionsVestedInPeriodTotalFairValue: 216\n",
      "I-ShareBasedCompensationArrangementByShareBasedPaymentAwardEquityInstrumentsOtherThanOptionsGrantsInPeriodWeightedAverageGrantDateFairValue: 223\n",
      "I-BusinessAcquisitionEquityInterestsIssuedOrIssuableNumberOfSharesIssued: 244\n",
      "I-IncomeLossFromEquityMethodInvestments: 258\n"
     ]
    },
    {
     "name": "stderr",
     "output_type": "stream",
     "text": [
      "INFO:root:********** Sampling....... **********\n"
     ]
    },
    {
     "name": "stdout",
     "output_type": "stream",
     "text": [
      "New label contain in this dataset\n",
      "{0, 64, 66, 73, 140, 13, 142, 143, 144}\n",
      "New label for dataset Equity\n",
      "New database label and idx\n",
      "O: 0\n",
      "B-BusinessAcquisitionEquityInterestsIssuedOrIssuableNumberOfSharesIssued: 1\n",
      "B-EquityMethodInvestmentOwnershipPercentage: 2\n",
      "I-EquityMethodInvestmentOwnershipPercentage: 3\n",
      "B-EquityMethodInvestments: 4\n",
      "B-IncomeLossFromEquityMethodInvestments: 5\n",
      "B-ShareBasedCompensationArrangementByShareBasedPaymentAwardEquityInstrumentsOtherThanOptionsGrantsInPeriod: 6\n",
      "I-ShareBasedCompensationArrangementByShareBasedPaymentAwardEquityInstrumentsOtherThanOptionsGrantsInPeriod: 7\n",
      "B-ShareBasedCompensationArrangementByShareBasedPaymentAwardEquityInstrumentsOtherThanOptionsGrantsInPeriodWeightedAverageGrantDateFairValue: 8\n",
      "B-ShareBasedCompensationArrangementByShareBasedPaymentAwardEquityInstrumentsOtherThanOptionsNonvestedNumber: 9\n",
      "B-ShareBasedCompensationArrangementByShareBasedPaymentAwardEquityInstrumentsOtherThanOptionsVestedInPeriodTotalFairValue: 10\n",
      "I-EquityMethodInvestments: 11\n",
      "I-ShareBasedCompensationArrangementByShareBasedPaymentAwardEquityInstrumentsOtherThanOptionsNonvestedNumber: 12\n",
      "I-ShareBasedCompensationArrangementByShareBasedPaymentAwardEquityInstrumentsOtherThanOptionsVestedInPeriodTotalFairValue: 13\n",
      "I-ShareBasedCompensationArrangementByShareBasedPaymentAwardEquityInstrumentsOtherThanOptionsGrantsInPeriodWeightedAverageGrantDateFairValue: 14\n",
      "I-BusinessAcquisitionEquityInterestsIssuedOrIssuableNumberOfSharesIssued: 15\n",
      "I-IncomeLossFromEquityMethodInvestments: 16\n",
      "Total number of this database 1241\n",
      "=============================================================\n"
     ]
    },
    {
     "name": "stderr",
     "output_type": "stream",
     "text": [
      "INFO:root:********** Producing validation number database **********\n"
     ]
    },
    {
     "data": {
      "application/vnd.jupyter.widget-view+json": {
       "model_id": "1e074421c9ac44838d9371e8175f0a9f",
       "version_major": 2,
       "version_minor": 0
      },
      "text/plain": [
       "Flattening the indices:   0%|          | 0/2 [00:00<?, ?ba/s]"
      ]
     },
     "metadata": {},
     "output_type": "display_data"
    },
    {
     "name": "stderr",
     "output_type": "stream",
     "text": [
      "INFO:root:********** Producing validation str database **********\n"
     ]
    },
    {
     "data": {
      "application/vnd.jupyter.widget-view+json": {
       "model_id": "face49433d584a56b9d958d17f6b96ce",
       "version_major": 2,
       "version_minor": 0
      },
      "text/plain": [
       "Flattening the indices:   0%|          | 0/2 [00:00<?, ?ba/s]"
      ]
     },
     "metadata": {},
     "output_type": "display_data"
    },
    {
     "name": "stderr",
     "output_type": "stream",
     "text": [
      "INFO:root:********** Finishing save the database **********\n",
      "INFO:root:********** Finishing extracting database for Equity validation **********\n",
      "INFO:root:********** Scheme: Starting extract database for Equity test **********\n"
     ]
    },
    {
     "name": "stdout",
     "output_type": "stream",
     "text": [
      "================================================================================================\n",
      "Get test Equity data\n",
      "Label for dataset Equity\n",
      "[0, 13, 64, 65, 66, 73, 140, 141, 142, 143, 144, 190, 211, 216, 223, 244, 258]\n",
      "Total number of labels 17\n",
      "Original database label and idx\n",
      "O: 0\n",
      "B-BusinessAcquisitionEquityInterestsIssuedOrIssuableNumberOfSharesIssued: 13\n",
      "B-EquityMethodInvestmentOwnershipPercentage: 64\n",
      "I-EquityMethodInvestmentOwnershipPercentage: 65\n",
      "B-EquityMethodInvestments: 66\n",
      "B-IncomeLossFromEquityMethodInvestments: 73\n",
      "B-ShareBasedCompensationArrangementByShareBasedPaymentAwardEquityInstrumentsOtherThanOptionsGrantsInPeriod: 140\n",
      "I-ShareBasedCompensationArrangementByShareBasedPaymentAwardEquityInstrumentsOtherThanOptionsGrantsInPeriod: 141\n",
      "B-ShareBasedCompensationArrangementByShareBasedPaymentAwardEquityInstrumentsOtherThanOptionsGrantsInPeriodWeightedAverageGrantDateFairValue: 142\n",
      "B-ShareBasedCompensationArrangementByShareBasedPaymentAwardEquityInstrumentsOtherThanOptionsNonvestedNumber: 143\n",
      "B-ShareBasedCompensationArrangementByShareBasedPaymentAwardEquityInstrumentsOtherThanOptionsVestedInPeriodTotalFairValue: 144\n",
      "I-EquityMethodInvestments: 190\n",
      "I-ShareBasedCompensationArrangementByShareBasedPaymentAwardEquityInstrumentsOtherThanOptionsNonvestedNumber: 211\n",
      "I-ShareBasedCompensationArrangementByShareBasedPaymentAwardEquityInstrumentsOtherThanOptionsVestedInPeriodTotalFairValue: 216\n",
      "I-ShareBasedCompensationArrangementByShareBasedPaymentAwardEquityInstrumentsOtherThanOptionsGrantsInPeriodWeightedAverageGrantDateFairValue: 223\n",
      "I-BusinessAcquisitionEquityInterestsIssuedOrIssuableNumberOfSharesIssued: 244\n",
      "I-IncomeLossFromEquityMethodInvestments: 258\n"
     ]
    },
    {
     "name": "stderr",
     "output_type": "stream",
     "text": [
      "INFO:root:********** Sampling....... **********\n",
      "INFO:root:********** Producing test number database **********\n"
     ]
    },
    {
     "name": "stdout",
     "output_type": "stream",
     "text": [
      "New label contain in this dataset\n",
      "{0, 64, 66, 73, 140, 13, 142, 143, 144}\n",
      "New label for dataset Equity\n",
      "New database label and idx\n",
      "O: 0\n",
      "B-BusinessAcquisitionEquityInterestsIssuedOrIssuableNumberOfSharesIssued: 1\n",
      "B-EquityMethodInvestmentOwnershipPercentage: 2\n",
      "I-EquityMethodInvestmentOwnershipPercentage: 3\n",
      "B-EquityMethodInvestments: 4\n",
      "B-IncomeLossFromEquityMethodInvestments: 5\n",
      "B-ShareBasedCompensationArrangementByShareBasedPaymentAwardEquityInstrumentsOtherThanOptionsGrantsInPeriod: 6\n",
      "I-ShareBasedCompensationArrangementByShareBasedPaymentAwardEquityInstrumentsOtherThanOptionsGrantsInPeriod: 7\n",
      "B-ShareBasedCompensationArrangementByShareBasedPaymentAwardEquityInstrumentsOtherThanOptionsGrantsInPeriodWeightedAverageGrantDateFairValue: 8\n",
      "B-ShareBasedCompensationArrangementByShareBasedPaymentAwardEquityInstrumentsOtherThanOptionsNonvestedNumber: 9\n",
      "B-ShareBasedCompensationArrangementByShareBasedPaymentAwardEquityInstrumentsOtherThanOptionsVestedInPeriodTotalFairValue: 10\n",
      "I-EquityMethodInvestments: 11\n",
      "I-ShareBasedCompensationArrangementByShareBasedPaymentAwardEquityInstrumentsOtherThanOptionsNonvestedNumber: 12\n",
      "I-ShareBasedCompensationArrangementByShareBasedPaymentAwardEquityInstrumentsOtherThanOptionsVestedInPeriodTotalFairValue: 13\n",
      "I-ShareBasedCompensationArrangementByShareBasedPaymentAwardEquityInstrumentsOtherThanOptionsGrantsInPeriodWeightedAverageGrantDateFairValue: 14\n",
      "I-BusinessAcquisitionEquityInterestsIssuedOrIssuableNumberOfSharesIssued: 15\n",
      "I-IncomeLossFromEquityMethodInvestments: 16\n",
      "Total number of this database 1152\n",
      "=============================================================\n"
     ]
    },
    {
     "data": {
      "application/vnd.jupyter.widget-view+json": {
       "model_id": "9ab3fd309b43403fb3789a21663b1a12",
       "version_major": 2,
       "version_minor": 0
      },
      "text/plain": [
       "Flattening the indices:   0%|          | 0/2 [00:00<?, ?ba/s]"
      ]
     },
     "metadata": {},
     "output_type": "display_data"
    },
    {
     "name": "stderr",
     "output_type": "stream",
     "text": [
      "INFO:root:********** Producing test str database **********\n"
     ]
    },
    {
     "data": {
      "application/vnd.jupyter.widget-view+json": {
       "model_id": "ad4249e6c4504ab2963800f96ecc6044",
       "version_major": 2,
       "version_minor": 0
      },
      "text/plain": [
       "Flattening the indices:   0%|          | 0/2 [00:00<?, ?ba/s]"
      ]
     },
     "metadata": {},
     "output_type": "display_data"
    },
    {
     "name": "stderr",
     "output_type": "stream",
     "text": [
      "INFO:root:********** Finishing save the database **********\n",
      "INFO:root:********** Finishing extracting database for Equity test **********\n",
      "INFO:root:********** Finishing extracting all database for Equity **********\n",
      "INFO:root:********** Scheme: Starting extract database for BusinessAcquisition train **********\n"
     ]
    },
    {
     "name": "stdout",
     "output_type": "stream",
     "text": [
      "================================================================================================\n",
      "======================================================================================\n",
      "Get train BusinessAcquisition data\n",
      "Label for dataset BusinessAcquisition\n",
      "[0, 13, 14, 15, 244]\n",
      "Total number of labels 5\n",
      "Original database label and idx\n",
      "O: 0\n",
      "B-BusinessAcquisitionEquityInterestsIssuedOrIssuableNumberOfSharesIssued: 13\n",
      "B-BusinessAcquisitionPercentageOfVotingInterestsAcquired: 14\n",
      "I-BusinessAcquisitionPercentageOfVotingInterestsAcquired: 15\n",
      "I-BusinessAcquisitionEquityInterestsIssuedOrIssuableNumberOfSharesIssued: 244\n",
      "New label contain in this dataset\n",
      "{0, 13, 14, 15}\n",
      "New label for dataset BusinessAcquisition\n",
      "New database label and idx\n",
      "O: 0\n",
      "B-BusinessAcquisitionEquityInterestsIssuedOrIssuableNumberOfSharesIssued: 1\n",
      "B-BusinessAcquisitionPercentageOfVotingInterestsAcquired: 2\n",
      "I-BusinessAcquisitionPercentageOfVotingInterestsAcquired: 3\n",
      "I-BusinessAcquisitionEquityInterestsIssuedOrIssuableNumberOfSharesIssued: 4\n",
      "Total number of this database 2408\n",
      "=============================================================\n"
     ]
    },
    {
     "name": "stderr",
     "output_type": "stream",
     "text": [
      "INFO:root:********** Sampling....... **********\n",
      "INFO:root:********** Producing train number database **********\n"
     ]
    },
    {
     "data": {
      "application/vnd.jupyter.widget-view+json": {
       "model_id": "e5a2bbdb9e1445bc809503672a9abd2b",
       "version_major": 2,
       "version_minor": 0
      },
      "text/plain": [
       "Flattening the indices:   0%|          | 0/3 [00:00<?, ?ba/s]"
      ]
     },
     "metadata": {},
     "output_type": "display_data"
    },
    {
     "name": "stderr",
     "output_type": "stream",
     "text": [
      "INFO:root:********** Producing train str database **********\n"
     ]
    },
    {
     "data": {
      "application/vnd.jupyter.widget-view+json": {
       "model_id": "bddeae7d59e746438381ebdffc2ff7f2",
       "version_major": 2,
       "version_minor": 0
      },
      "text/plain": [
       "Flattening the indices:   0%|          | 0/3 [00:00<?, ?ba/s]"
      ]
     },
     "metadata": {},
     "output_type": "display_data"
    },
    {
     "name": "stderr",
     "output_type": "stream",
     "text": [
      "INFO:root:********** Finishing save the database **********\n",
      "INFO:root:********** Finishing extracting database for BusinessAcquisition train **********\n",
      "INFO:root:********** Scheme: Starting extract database for BusinessAcquisition validation **********\n"
     ]
    },
    {
     "name": "stdout",
     "output_type": "stream",
     "text": [
      "================================================================================================\n",
      "Get validation BusinessAcquisition data\n",
      "Label for dataset BusinessAcquisition\n",
      "[0, 13, 14, 15, 244]\n",
      "Total number of labels 5\n",
      "Original database label and idx\n",
      "O: 0\n",
      "B-BusinessAcquisitionEquityInterestsIssuedOrIssuableNumberOfSharesIssued: 13\n",
      "B-BusinessAcquisitionPercentageOfVotingInterestsAcquired: 14\n",
      "I-BusinessAcquisitionPercentageOfVotingInterestsAcquired: 15\n",
      "I-BusinessAcquisitionEquityInterestsIssuedOrIssuableNumberOfSharesIssued: 244\n"
     ]
    },
    {
     "name": "stderr",
     "output_type": "stream",
     "text": [
      "INFO:root:********** Sampling....... **********\n",
      "INFO:root:********** Producing validation number database **********\n"
     ]
    },
    {
     "name": "stdout",
     "output_type": "stream",
     "text": [
      "New label contain in this dataset\n",
      "{0, 13, 14}\n",
      "New label for dataset BusinessAcquisition\n",
      "New database label and idx\n",
      "O: 0\n",
      "B-BusinessAcquisitionEquityInterestsIssuedOrIssuableNumberOfSharesIssued: 1\n",
      "B-BusinessAcquisitionPercentageOfVotingInterestsAcquired: 2\n",
      "I-BusinessAcquisitionPercentageOfVotingInterestsAcquired: 3\n",
      "I-BusinessAcquisitionEquityInterestsIssuedOrIssuableNumberOfSharesIssued: 4\n",
      "Total number of this database 226\n",
      "=============================================================\n"
     ]
    },
    {
     "data": {
      "application/vnd.jupyter.widget-view+json": {
       "model_id": "04ca73ec342942dda1587c4949565c45",
       "version_major": 2,
       "version_minor": 0
      },
      "text/plain": [
       "Flattening the indices:   0%|          | 0/1 [00:00<?, ?ba/s]"
      ]
     },
     "metadata": {},
     "output_type": "display_data"
    },
    {
     "name": "stderr",
     "output_type": "stream",
     "text": [
      "INFO:root:********** Producing validation str database **********\n"
     ]
    },
    {
     "data": {
      "application/vnd.jupyter.widget-view+json": {
       "model_id": "8dc302b806ba48ebbc073699983c8fb7",
       "version_major": 2,
       "version_minor": 0
      },
      "text/plain": [
       "Flattening the indices:   0%|          | 0/1 [00:00<?, ?ba/s]"
      ]
     },
     "metadata": {},
     "output_type": "display_data"
    },
    {
     "name": "stderr",
     "output_type": "stream",
     "text": [
      "INFO:root:********** Finishing save the database **********\n",
      "INFO:root:********** Finishing extracting database for BusinessAcquisition validation **********\n",
      "INFO:root:********** Scheme: Starting extract database for BusinessAcquisition test **********\n"
     ]
    },
    {
     "name": "stdout",
     "output_type": "stream",
     "text": [
      "================================================================================================\n",
      "Get test BusinessAcquisition data\n",
      "Label for dataset BusinessAcquisition\n",
      "[0, 13, 14, 15, 244]\n",
      "Total number of labels 5\n",
      "Original database label and idx\n",
      "O: 0\n",
      "B-BusinessAcquisitionEquityInterestsIssuedOrIssuableNumberOfSharesIssued: 13\n",
      "B-BusinessAcquisitionPercentageOfVotingInterestsAcquired: 14\n",
      "I-BusinessAcquisitionPercentageOfVotingInterestsAcquired: 15\n",
      "I-BusinessAcquisitionEquityInterestsIssuedOrIssuableNumberOfSharesIssued: 244\n"
     ]
    },
    {
     "name": "stderr",
     "output_type": "stream",
     "text": [
      "INFO:root:********** Sampling....... **********\n",
      "INFO:root:********** Producing test number database **********\n"
     ]
    },
    {
     "name": "stdout",
     "output_type": "stream",
     "text": [
      "New label contain in this dataset\n",
      "{0, 13, 14}\n",
      "New label for dataset BusinessAcquisition\n",
      "New database label and idx\n",
      "O: 0\n",
      "B-BusinessAcquisitionEquityInterestsIssuedOrIssuableNumberOfSharesIssued: 1\n",
      "B-BusinessAcquisitionPercentageOfVotingInterestsAcquired: 2\n",
      "I-BusinessAcquisitionPercentageOfVotingInterestsAcquired: 3\n",
      "I-BusinessAcquisitionEquityInterestsIssuedOrIssuableNumberOfSharesIssued: 4\n",
      "Total number of this database 255\n",
      "=============================================================\n"
     ]
    },
    {
     "data": {
      "application/vnd.jupyter.widget-view+json": {
       "model_id": "c4bdfb7eaf28441bb8179fb55f2d49dc",
       "version_major": 2,
       "version_minor": 0
      },
      "text/plain": [
       "Flattening the indices:   0%|          | 0/1 [00:00<?, ?ba/s]"
      ]
     },
     "metadata": {},
     "output_type": "display_data"
    },
    {
     "name": "stderr",
     "output_type": "stream",
     "text": [
      "INFO:root:********** Producing test str database **********\n"
     ]
    },
    {
     "data": {
      "application/vnd.jupyter.widget-view+json": {
       "model_id": "85e571471c994a1fbc85a525dae3752b",
       "version_major": 2,
       "version_minor": 0
      },
      "text/plain": [
       "Flattening the indices:   0%|          | 0/1 [00:00<?, ?ba/s]"
      ]
     },
     "metadata": {},
     "output_type": "display_data"
    },
    {
     "name": "stderr",
     "output_type": "stream",
     "text": [
      "INFO:root:********** Finishing save the database **********\n",
      "INFO:root:********** Finishing extracting database for BusinessAcquisition test **********\n",
      "INFO:root:********** Finishing extracting all database for BusinessAcquisition **********\n",
      "INFO:root:********** Scheme: Starting extract database for Transaction train **********\n"
     ]
    },
    {
     "name": "stdout",
     "output_type": "stream",
     "text": [
      "================================================================================================\n",
      "======================================================================================\n",
      "Get train Transaction data\n",
      "Label for dataset Transaction\n",
      "[0, 122, 123, 124, 125, 134, 135]\n",
      "Total number of labels 7\n",
      "Original database label and idx\n",
      "O: 0\n",
      "B-RelatedPartyTransactionAmountsOfTransaction: 122\n",
      "I-RelatedPartyTransactionAmountsOfTransaction: 123\n",
      "B-RelatedPartyTransactionExpensesFromTransactionsWithRelatedParty: 124\n",
      "I-RelatedPartyTransactionExpensesFromTransactionsWithRelatedParty: 125\n",
      "B-SaleOfStockNumberOfSharesIssuedInTransaction: 134\n",
      "I-SaleOfStockNumberOfSharesIssuedInTransaction: 135\n",
      "New label contain in this dataset\n",
      "{0, 134, 135, 122, 123, 124}\n",
      "New label for dataset Transaction\n",
      "New database label and idx\n",
      "O: 0\n",
      "B-RelatedPartyTransactionAmountsOfTransaction: 1\n",
      "I-RelatedPartyTransactionAmountsOfTransaction: 2\n",
      "B-RelatedPartyTransactionExpensesFromTransactionsWithRelatedParty: 3\n",
      "I-RelatedPartyTransactionExpensesFromTransactionsWithRelatedParty: 4\n",
      "B-SaleOfStockNumberOfSharesIssuedInTransaction: 5\n",
      "I-SaleOfStockNumberOfSharesIssuedInTransaction: 6\n",
      "Total number of this database 2342\n",
      "=============================================================\n"
     ]
    },
    {
     "name": "stderr",
     "output_type": "stream",
     "text": [
      "INFO:root:********** Sampling....... **********\n",
      "INFO:root:********** Producing train number database **********\n"
     ]
    },
    {
     "data": {
      "application/vnd.jupyter.widget-view+json": {
       "model_id": "484c3acb18fa4156a2dba7f169171329",
       "version_major": 2,
       "version_minor": 0
      },
      "text/plain": [
       "Flattening the indices:   0%|          | 0/3 [00:00<?, ?ba/s]"
      ]
     },
     "metadata": {},
     "output_type": "display_data"
    },
    {
     "name": "stderr",
     "output_type": "stream",
     "text": [
      "INFO:root:********** Producing train str database **********\n"
     ]
    },
    {
     "data": {
      "application/vnd.jupyter.widget-view+json": {
       "model_id": "632bc133010b47c2bd89516657245490",
       "version_major": 2,
       "version_minor": 0
      },
      "text/plain": [
       "Flattening the indices:   0%|          | 0/3 [00:00<?, ?ba/s]"
      ]
     },
     "metadata": {},
     "output_type": "display_data"
    },
    {
     "name": "stderr",
     "output_type": "stream",
     "text": [
      "INFO:root:********** Finishing save the database **********\n",
      "INFO:root:********** Finishing extracting database for Transaction train **********\n",
      "INFO:root:********** Scheme: Starting extract database for Transaction validation **********\n"
     ]
    },
    {
     "name": "stdout",
     "output_type": "stream",
     "text": [
      "================================================================================================\n",
      "Get validation Transaction data\n",
      "Label for dataset Transaction\n",
      "[0, 122, 123, 124, 125, 134, 135]\n",
      "Total number of labels 7\n",
      "Original database label and idx\n",
      "O: 0\n",
      "B-RelatedPartyTransactionAmountsOfTransaction: 122\n",
      "I-RelatedPartyTransactionAmountsOfTransaction: 123\n",
      "B-RelatedPartyTransactionExpensesFromTransactionsWithRelatedParty: 124\n",
      "I-RelatedPartyTransactionExpensesFromTransactionsWithRelatedParty: 125\n",
      "B-SaleOfStockNumberOfSharesIssuedInTransaction: 134\n",
      "I-SaleOfStockNumberOfSharesIssuedInTransaction: 135\n"
     ]
    },
    {
     "name": "stderr",
     "output_type": "stream",
     "text": [
      "INFO:root:********** Sampling....... **********\n",
      "INFO:root:********** Producing validation number database **********\n"
     ]
    },
    {
     "name": "stdout",
     "output_type": "stream",
     "text": [
      "New label contain in this dataset\n",
      "{0, 122, 124, 134}\n",
      "New label for dataset Transaction\n",
      "New database label and idx\n",
      "O: 0\n",
      "B-RelatedPartyTransactionAmountsOfTransaction: 1\n",
      "I-RelatedPartyTransactionAmountsOfTransaction: 2\n",
      "B-RelatedPartyTransactionExpensesFromTransactionsWithRelatedParty: 3\n",
      "I-RelatedPartyTransactionExpensesFromTransactionsWithRelatedParty: 4\n",
      "B-SaleOfStockNumberOfSharesIssuedInTransaction: 5\n",
      "I-SaleOfStockNumberOfSharesIssuedInTransaction: 6\n",
      "Total number of this database 271\n",
      "=============================================================\n"
     ]
    },
    {
     "data": {
      "application/vnd.jupyter.widget-view+json": {
       "model_id": "d4e317ed25a642b9a939d371977a174f",
       "version_major": 2,
       "version_minor": 0
      },
      "text/plain": [
       "Flattening the indices:   0%|          | 0/1 [00:00<?, ?ba/s]"
      ]
     },
     "metadata": {},
     "output_type": "display_data"
    },
    {
     "name": "stderr",
     "output_type": "stream",
     "text": [
      "INFO:root:********** Producing validation str database **********\n"
     ]
    },
    {
     "data": {
      "application/vnd.jupyter.widget-view+json": {
       "model_id": "f9f0577cb7cc4cbebc201303bfac286b",
       "version_major": 2,
       "version_minor": 0
      },
      "text/plain": [
       "Flattening the indices:   0%|          | 0/1 [00:00<?, ?ba/s]"
      ]
     },
     "metadata": {},
     "output_type": "display_data"
    },
    {
     "name": "stderr",
     "output_type": "stream",
     "text": [
      "INFO:root:********** Finishing save the database **********\n",
      "INFO:root:********** Finishing extracting database for Transaction validation **********\n",
      "INFO:root:********** Scheme: Starting extract database for Transaction test **********\n"
     ]
    },
    {
     "name": "stdout",
     "output_type": "stream",
     "text": [
      "================================================================================================\n",
      "Get test Transaction data\n",
      "Label for dataset Transaction\n",
      "[0, 122, 123, 124, 125, 134, 135]\n",
      "Total number of labels 7\n",
      "Original database label and idx\n",
      "O: 0\n",
      "B-RelatedPartyTransactionAmountsOfTransaction: 122\n",
      "I-RelatedPartyTransactionAmountsOfTransaction: 123\n",
      "B-RelatedPartyTransactionExpensesFromTransactionsWithRelatedParty: 124\n",
      "I-RelatedPartyTransactionExpensesFromTransactionsWithRelatedParty: 125\n",
      "B-SaleOfStockNumberOfSharesIssuedInTransaction: 134\n",
      "I-SaleOfStockNumberOfSharesIssuedInTransaction: 135\n"
     ]
    },
    {
     "name": "stderr",
     "output_type": "stream",
     "text": [
      "INFO:root:********** Sampling....... **********\n",
      "INFO:root:********** Producing test number database **********\n"
     ]
    },
    {
     "name": "stdout",
     "output_type": "stream",
     "text": [
      "New label contain in this dataset\n",
      "{0, 134, 122, 124, 125}\n",
      "New label for dataset Transaction\n",
      "New database label and idx\n",
      "O: 0\n",
      "B-RelatedPartyTransactionAmountsOfTransaction: 1\n",
      "I-RelatedPartyTransactionAmountsOfTransaction: 2\n",
      "B-RelatedPartyTransactionExpensesFromTransactionsWithRelatedParty: 3\n",
      "I-RelatedPartyTransactionExpensesFromTransactionsWithRelatedParty: 4\n",
      "B-SaleOfStockNumberOfSharesIssuedInTransaction: 5\n",
      "I-SaleOfStockNumberOfSharesIssuedInTransaction: 6\n",
      "Total number of this database 297\n",
      "=============================================================\n"
     ]
    },
    {
     "data": {
      "application/vnd.jupyter.widget-view+json": {
       "model_id": "cf8e97890d0b4d328ff3e704258b0f35",
       "version_major": 2,
       "version_minor": 0
      },
      "text/plain": [
       "Flattening the indices:   0%|          | 0/1 [00:00<?, ?ba/s]"
      ]
     },
     "metadata": {},
     "output_type": "display_data"
    },
    {
     "name": "stderr",
     "output_type": "stream",
     "text": [
      "INFO:root:********** Producing test str database **********\n"
     ]
    },
    {
     "data": {
      "application/vnd.jupyter.widget-view+json": {
       "model_id": "2061d4d759c84f41a9929888ff213c30",
       "version_major": 2,
       "version_minor": 0
      },
      "text/plain": [
       "Flattening the indices:   0%|          | 0/1 [00:00<?, ?ba/s]"
      ]
     },
     "metadata": {},
     "output_type": "display_data"
    },
    {
     "name": "stderr",
     "output_type": "stream",
     "text": [
      "INFO:root:********** Finishing save the database **********\n",
      "INFO:root:********** Finishing extracting database for Transaction test **********\n",
      "INFO:root:********** Finishing extracting all database for Transaction **********\n",
      "INFO:root:********** Scheme: Starting extract database for Loss train **********\n"
     ]
    },
    {
     "name": "stdout",
     "output_type": "stream",
     "text": [
      "================================================================================================\n",
      "======================================================================================\n",
      "Get train Loss data\n",
      "Label for dataset Loss\n",
      "[0, 1, 69, 71, 73, 92, 93, 94, 95, 96, 112, 172, 179, 192, 217, 235, 242, 254, 258]\n",
      "Total number of labels 19\n",
      "Original database label and idx\n",
      "O: 0\n",
      "B-AccrualForEnvironmentalLossContingencies: 1\n",
      "B-GainsLossesOnExtinguishmentOfDebt: 69\n",
      "B-GoodwillImpairmentLoss: 71\n",
      "B-IncomeLossFromEquityMethodInvestments: 73\n",
      "B-LossContingencyAccrualAtCarryingValue: 92\n",
      "B-LossContingencyDamagesSoughtValue: 93\n",
      "B-LossContingencyEstimateOfPossibleLoss: 94\n",
      "B-LossContingencyPendingClaimsNumber: 95\n",
      "I-LossContingencyPendingClaimsNumber: 96\n",
      "B-OperatingLossCarryforwards: 112\n",
      "I-LossContingencyEstimateOfPossibleLoss: 172\n",
      "I-OperatingLossCarryforwards: 179\n",
      "I-GainsLossesOnExtinguishmentOfDebt: 192\n",
      "I-AccrualForEnvironmentalLossContingencies: 217\n",
      "I-LossContingencyAccrualAtCarryingValue: 235\n",
      "I-LossContingencyDamagesSoughtValue: 242\n",
      "I-GoodwillImpairmentLoss: 254\n",
      "I-IncomeLossFromEquityMethodInvestments: 258\n",
      "New label contain in this dataset\n",
      "{0, 1, 96, 69, 71, 73, 112, 92, 93, 94, 95}\n",
      "New label for dataset Loss\n",
      "New database label and idx\n",
      "O: 0\n",
      "B-AccrualForEnvironmentalLossContingencies: 1\n",
      "B-GainsLossesOnExtinguishmentOfDebt: 2\n",
      "B-GoodwillImpairmentLoss: 3\n",
      "B-IncomeLossFromEquityMethodInvestments: 4\n",
      "B-LossContingencyAccrualAtCarryingValue: 5\n",
      "B-LossContingencyDamagesSoughtValue: 6\n",
      "B-LossContingencyEstimateOfPossibleLoss: 7\n",
      "B-LossContingencyPendingClaimsNumber: 8\n",
      "I-LossContingencyPendingClaimsNumber: 9\n",
      "B-OperatingLossCarryforwards: 10\n",
      "I-LossContingencyEstimateOfPossibleLoss: 11\n",
      "I-OperatingLossCarryforwards: 12\n",
      "I-GainsLossesOnExtinguishmentOfDebt: 13\n",
      "I-AccrualForEnvironmentalLossContingencies: 14\n",
      "I-LossContingencyAccrualAtCarryingValue: 15\n",
      "I-LossContingencyDamagesSoughtValue: 16\n",
      "I-GoodwillImpairmentLoss: 17\n",
      "I-IncomeLossFromEquityMethodInvestments: 18\n",
      "Total number of this database 8030\n",
      "=============================================================\n"
     ]
    },
    {
     "name": "stderr",
     "output_type": "stream",
     "text": [
      "INFO:root:********** Sampling....... **********\n",
      "INFO:root:********** Producing train number database **********\n"
     ]
    },
    {
     "data": {
      "application/vnd.jupyter.widget-view+json": {
       "model_id": "fde16c5d6ca649feb6aece37613ec36a",
       "version_major": 2,
       "version_minor": 0
      },
      "text/plain": [
       "Flattening the indices:   0%|          | 0/9 [00:00<?, ?ba/s]"
      ]
     },
     "metadata": {},
     "output_type": "display_data"
    },
    {
     "name": "stderr",
     "output_type": "stream",
     "text": [
      "INFO:root:********** Producing train str database **********\n"
     ]
    },
    {
     "data": {
      "application/vnd.jupyter.widget-view+json": {
       "model_id": "6919fc0687fc4ae88a41b429a9cdfb7b",
       "version_major": 2,
       "version_minor": 0
      },
      "text/plain": [
       "Flattening the indices:   0%|          | 0/9 [00:00<?, ?ba/s]"
      ]
     },
     "metadata": {},
     "output_type": "display_data"
    },
    {
     "name": "stderr",
     "output_type": "stream",
     "text": [
      "INFO:root:********** Finishing save the database **********\n",
      "INFO:root:********** Finishing extracting database for Loss train **********\n",
      "INFO:root:********** Scheme: Starting extract database for Loss validation **********\n"
     ]
    },
    {
     "name": "stdout",
     "output_type": "stream",
     "text": [
      "================================================================================================\n",
      "Get validation Loss data\n",
      "Label for dataset Loss\n",
      "[0, 1, 69, 71, 73, 92, 93, 94, 95, 96, 112, 172, 179, 192, 217, 235, 242, 254, 258]\n",
      "Total number of labels 19\n",
      "Original database label and idx\n",
      "O: 0\n",
      "B-AccrualForEnvironmentalLossContingencies: 1\n",
      "B-GainsLossesOnExtinguishmentOfDebt: 69\n",
      "B-GoodwillImpairmentLoss: 71\n",
      "B-IncomeLossFromEquityMethodInvestments: 73\n",
      "B-LossContingencyAccrualAtCarryingValue: 92\n",
      "B-LossContingencyDamagesSoughtValue: 93\n",
      "B-LossContingencyEstimateOfPossibleLoss: 94\n",
      "B-LossContingencyPendingClaimsNumber: 95\n",
      "I-LossContingencyPendingClaimsNumber: 96\n",
      "B-OperatingLossCarryforwards: 112\n",
      "I-LossContingencyEstimateOfPossibleLoss: 172\n",
      "I-OperatingLossCarryforwards: 179\n",
      "I-GainsLossesOnExtinguishmentOfDebt: 192\n",
      "I-AccrualForEnvironmentalLossContingencies: 217\n",
      "I-LossContingencyAccrualAtCarryingValue: 235\n",
      "I-LossContingencyDamagesSoughtValue: 242\n",
      "I-GoodwillImpairmentLoss: 254\n",
      "I-IncomeLossFromEquityMethodInvestments: 258\n"
     ]
    },
    {
     "name": "stderr",
     "output_type": "stream",
     "text": [
      "INFO:root:********** Sampling....... **********\n",
      "INFO:root:********** Producing validation number database **********\n"
     ]
    },
    {
     "name": "stdout",
     "output_type": "stream",
     "text": [
      "New label contain in this dataset\n",
      "{0, 1, 96, 69, 71, 73, 112, 92, 93, 94, 95}\n",
      "New label for dataset Loss\n",
      "New database label and idx\n",
      "O: 0\n",
      "B-AccrualForEnvironmentalLossContingencies: 1\n",
      "B-GainsLossesOnExtinguishmentOfDebt: 2\n",
      "B-GoodwillImpairmentLoss: 3\n",
      "B-IncomeLossFromEquityMethodInvestments: 4\n",
      "B-LossContingencyAccrualAtCarryingValue: 5\n",
      "B-LossContingencyDamagesSoughtValue: 6\n",
      "B-LossContingencyEstimateOfPossibleLoss: 7\n",
      "B-LossContingencyPendingClaimsNumber: 8\n",
      "I-LossContingencyPendingClaimsNumber: 9\n",
      "B-OperatingLossCarryforwards: 10\n",
      "I-LossContingencyEstimateOfPossibleLoss: 11\n",
      "I-OperatingLossCarryforwards: 12\n",
      "I-GainsLossesOnExtinguishmentOfDebt: 13\n",
      "I-AccrualForEnvironmentalLossContingencies: 14\n",
      "I-LossContingencyAccrualAtCarryingValue: 15\n",
      "I-LossContingencyDamagesSoughtValue: 16\n",
      "I-GoodwillImpairmentLoss: 17\n",
      "I-IncomeLossFromEquityMethodInvestments: 18\n",
      "Total number of this database 1074\n",
      "=============================================================\n"
     ]
    },
    {
     "data": {
      "application/vnd.jupyter.widget-view+json": {
       "model_id": "ab0ce5bfc08b4f3592e01d4dc5310807",
       "version_major": 2,
       "version_minor": 0
      },
      "text/plain": [
       "Flattening the indices:   0%|          | 0/2 [00:00<?, ?ba/s]"
      ]
     },
     "metadata": {},
     "output_type": "display_data"
    },
    {
     "name": "stderr",
     "output_type": "stream",
     "text": [
      "INFO:root:********** Producing validation str database **********\n"
     ]
    },
    {
     "data": {
      "application/vnd.jupyter.widget-view+json": {
       "model_id": "10a194376e614188acb80cd64d07f28b",
       "version_major": 2,
       "version_minor": 0
      },
      "text/plain": [
       "Flattening the indices:   0%|          | 0/2 [00:00<?, ?ba/s]"
      ]
     },
     "metadata": {},
     "output_type": "display_data"
    },
    {
     "name": "stderr",
     "output_type": "stream",
     "text": [
      "INFO:root:********** Finishing save the database **********\n",
      "INFO:root:********** Finishing extracting database for Loss validation **********\n",
      "INFO:root:********** Scheme: Starting extract database for Loss test **********\n"
     ]
    },
    {
     "name": "stdout",
     "output_type": "stream",
     "text": [
      "================================================================================================\n",
      "Get test Loss data\n",
      "Label for dataset Loss\n",
      "[0, 1, 69, 71, 73, 92, 93, 94, 95, 96, 112, 172, 179, 192, 217, 235, 242, 254, 258]\n",
      "Total number of labels 19\n",
      "Original database label and idx\n",
      "O: 0\n",
      "B-AccrualForEnvironmentalLossContingencies: 1\n",
      "B-GainsLossesOnExtinguishmentOfDebt: 69\n",
      "B-GoodwillImpairmentLoss: 71\n",
      "B-IncomeLossFromEquityMethodInvestments: 73\n",
      "B-LossContingencyAccrualAtCarryingValue: 92\n",
      "B-LossContingencyDamagesSoughtValue: 93\n",
      "B-LossContingencyEstimateOfPossibleLoss: 94\n",
      "B-LossContingencyPendingClaimsNumber: 95\n",
      "I-LossContingencyPendingClaimsNumber: 96\n",
      "B-OperatingLossCarryforwards: 112\n",
      "I-LossContingencyEstimateOfPossibleLoss: 172\n",
      "I-OperatingLossCarryforwards: 179\n",
      "I-GainsLossesOnExtinguishmentOfDebt: 192\n",
      "I-AccrualForEnvironmentalLossContingencies: 217\n",
      "I-LossContingencyAccrualAtCarryingValue: 235\n",
      "I-LossContingencyDamagesSoughtValue: 242\n",
      "I-GoodwillImpairmentLoss: 254\n",
      "I-IncomeLossFromEquityMethodInvestments: 258\n"
     ]
    },
    {
     "name": "stderr",
     "output_type": "stream",
     "text": [
      "INFO:root:********** Sampling....... **********\n",
      "INFO:root:********** Producing test number database **********\n"
     ]
    },
    {
     "name": "stdout",
     "output_type": "stream",
     "text": [
      "New label contain in this dataset\n",
      "{0, 1, 69, 71, 73, 112, 92, 93, 94, 95}\n",
      "New label for dataset Loss\n",
      "New database label and idx\n",
      "O: 0\n",
      "B-AccrualForEnvironmentalLossContingencies: 1\n",
      "B-GainsLossesOnExtinguishmentOfDebt: 2\n",
      "B-GoodwillImpairmentLoss: 3\n",
      "B-IncomeLossFromEquityMethodInvestments: 4\n",
      "B-LossContingencyAccrualAtCarryingValue: 5\n",
      "B-LossContingencyDamagesSoughtValue: 6\n",
      "B-LossContingencyEstimateOfPossibleLoss: 7\n",
      "B-LossContingencyPendingClaimsNumber: 8\n",
      "I-LossContingencyPendingClaimsNumber: 9\n",
      "B-OperatingLossCarryforwards: 10\n",
      "I-LossContingencyEstimateOfPossibleLoss: 11\n",
      "I-OperatingLossCarryforwards: 12\n",
      "I-GainsLossesOnExtinguishmentOfDebt: 13\n",
      "I-AccrualForEnvironmentalLossContingencies: 14\n",
      "I-LossContingencyAccrualAtCarryingValue: 15\n",
      "I-LossContingencyDamagesSoughtValue: 16\n",
      "I-GoodwillImpairmentLoss: 17\n",
      "I-IncomeLossFromEquityMethodInvestments: 18\n",
      "Total number of this database 806\n",
      "=============================================================\n"
     ]
    },
    {
     "data": {
      "application/vnd.jupyter.widget-view+json": {
       "model_id": "1ffa016ecf464f4b97b2f6fc1bba8c11",
       "version_major": 2,
       "version_minor": 0
      },
      "text/plain": [
       "Flattening the indices:   0%|          | 0/1 [00:00<?, ?ba/s]"
      ]
     },
     "metadata": {},
     "output_type": "display_data"
    },
    {
     "name": "stderr",
     "output_type": "stream",
     "text": [
      "INFO:root:********** Producing test str database **********\n"
     ]
    },
    {
     "data": {
      "application/vnd.jupyter.widget-view+json": {
       "model_id": "f16f53f78c144149a95d2654459216cd",
       "version_major": 2,
       "version_minor": 0
      },
      "text/plain": [
       "Flattening the indices:   0%|          | 0/1 [00:00<?, ?ba/s]"
      ]
     },
     "metadata": {},
     "output_type": "display_data"
    },
    {
     "name": "stderr",
     "output_type": "stream",
     "text": [
      "INFO:root:********** Finishing save the database **********\n",
      "INFO:root:********** Finishing extracting database for Loss test **********\n",
      "INFO:root:********** Finishing extracting all database for Loss **********\n"
     ]
    },
    {
     "name": "stdout",
     "output_type": "stream",
     "text": [
      "================================================================================================\n"
     ]
    }
   ],
   "source": [
    "logging.info(\"********** Scheme: Starting extract database **********\")\n",
    "\n",
    "process = ['train','validation','test']\n",
    "sample_num = 5\n",
    "\n",
    "for i in multi_task_dataset:\n",
    "    print('======================================================================================')\n",
    "    os.chdir('D:\\学习相关\\新建文件夹')\n",
    "    os.mkdir(i)\n",
    "    os.chdir(i)\n",
    "     \n",
    "    for j in process:\n",
    "            \n",
    "        logging.info(\"********** Scheme: Starting extract database for \"+ i+\" \"+ j+\" **********\")\n",
    "        \n",
    "        if j == 'train':\n",
    "            new_ner_tags,new_tokens,new_label_dict,converter,index_save,label_list,relative_label = produce_multitask_data(train_ner_tags,train_tokens,i,j)\n",
    "            appeared_labels = \n",
    "        if j == 'validation': \n",
    "            new_ner_tags,new_tokens,new_label_dict,converter,index_save,label_list,relative_label = produce_multitask_data(validation_ner_tags,validation_tokens,i,j)\n",
    "        \n",
    "        if j == 'test':\n",
    "            new_ner_tags,new_tokens,new_label_dict,converter,index_save,label_list,relative_label = produce_multitask_data(test_ner_tags,test_tokens,i,j)\n",
    " \n",
    "        ner_tags_strlabel = convert_labels(new_ner_tags,idx2tag)\n",
    "      \n",
    "        ner_tags_numlabel = convert_labels(new_ner_tags,converter)\n",
    "        \n",
    "        num = {'tokens':new_tokens,'ner_tags':ner_tags_numlabel}\n",
    "        sttr = {'tokens':new_tokens,'ner_tags':ner_tags_strlabel}\n",
    "        \n",
    "        logging.info(\"********** Producing relevant tags **********\")\n",
    "        r_label_df = pd.DataFrame([(k, v) for k, v in relative_label.items()])\n",
    "        r_label_df = r_label_df.sort_values(by = 1,ascending = False)\n",
    "        r_label_df.reset_index(drop=True, inplace=True)\n",
    "        \n",
    "        r_label_df.to_csv(i+'_'+j+ '_relevant_tags'+'.csv')\n",
    "        \n",
    "        logging.info(\"********** Sampling....... **********\")\n",
    "        sampled_data = sampling_data(label_list,sample_num ,new_ner_tags,new_tokens)\n",
    "        sd = pd.DataFrame.from_dict(sampled_data)\n",
    "        sd.to_csv(i+'_'+j+ '_sample'+'.csv')\n",
    "        \n",
    "        logging.info(\"********** Producing \" + j+ \" number database **********\")\n",
    "        df = pd.DataFrame.from_dict(num)\n",
    "        num_database = datasets.Dataset.from_pandas(df)\n",
    "        num_database = num_database.shuffle(seed=42)\n",
    "        \n",
    "        df.to_csv(i+'_'+j+ '_num'+'.csv')\n",
    "        num_database.save_to_disk(i+'_'+j+'_number')\n",
    "        \n",
    "        logging.info(\"********** Producing \" + j+ \" str database **********\")\n",
    "        \n",
    "        df = pd.DataFrame.from_dict(sttr)\n",
    "        str_database = datasets.Dataset.from_pandas(df)\n",
    " \n",
    "        str_database = str_database.shuffle(seed=42)\n",
    "        df.to_csv(i+'_'+j+ '_str '+'.csv')\n",
    "        str_database.save_to_disk(i+'_'+j+'_string')\n",
    "        \n",
    "        logging.info(\"********** Finishing save the database **********\")\n",
    "        \n",
    "        \n",
    "        \n",
    "        new_label_dict = pd.DataFrame([(k, v) for k, v in new_label_dict.items()])\n",
    "        new_label_dict.to_csv(i+'_'+j+'.csv')\n",
    "        \n",
    "        \n",
    "        logging.info(\"********** Finishing extracting database for \" + i+ \" \"+ j+\" **********\")\n",
    "        print('================================================================================================')\n",
    "    logging.info(\"********** Finishing extracting all database for \" + i+ \" **********\")  \n",
    "        \n",
    "\n",
    "    \n",
    "    "
   ]
  },
  {
   "cell_type": "code",
   "execution_count": null,
   "metadata": {},
   "outputs": [],
   "source": []
  }
 ],
 "metadata": {
  "accelerator": "GPU",
  "colab": {
   "collapsed_sections": [],
   "machine_shape": "hm",
   "name": "Untitled2.ipynb",
   "provenance": []
  },
  "gpuClass": "standard",
  "kernelspec": {
   "display_name": "Python 3 (ipykernel)",
   "language": "python",
   "name": "python3"
  },
  "language_info": {
   "codemirror_mode": {
    "name": "ipython",
    "version": 3
   },
   "file_extension": ".py",
   "mimetype": "text/x-python",
   "name": "python",
   "nbconvert_exporter": "python",
   "pygments_lexer": "ipython3",
   "version": "3.10.4"
  },
  "widgets": {
   "application/vnd.jupyter.widget-state+json": {
    "20341133aa2a441bb530be04484fae74": {
     "model_module": "@jupyter-widgets/base",
     "model_module_version": "1.2.0",
     "model_name": "LayoutModel",
     "state": {
      "_model_module": "@jupyter-widgets/base",
      "_model_module_version": "1.2.0",
      "_model_name": "LayoutModel",
      "_view_count": null,
      "_view_module": "@jupyter-widgets/base",
      "_view_module_version": "1.2.0",
      "_view_name": "LayoutView",
      "align_content": null,
      "align_items": null,
      "align_self": null,
      "border": null,
      "bottom": null,
      "display": null,
      "flex": null,
      "flex_flow": null,
      "grid_area": null,
      "grid_auto_columns": null,
      "grid_auto_flow": null,
      "grid_auto_rows": null,
      "grid_column": null,
      "grid_gap": null,
      "grid_row": null,
      "grid_template_areas": null,
      "grid_template_columns": null,
      "grid_template_rows": null,
      "height": null,
      "justify_content": null,
      "justify_items": null,
      "left": null,
      "margin": null,
      "max_height": null,
      "max_width": null,
      "min_height": null,
      "min_width": null,
      "object_fit": null,
      "object_position": null,
      "order": null,
      "overflow": null,
      "overflow_x": null,
      "overflow_y": null,
      "padding": null,
      "right": null,
      "top": null,
      "visibility": null,
      "width": null
     }
    },
    "2344c8d366cc4f45a3137b91fee3dd9b": {
     "model_module": "@jupyter-widgets/controls",
     "model_module_version": "1.5.0",
     "model_name": "ProgressStyleModel",
     "state": {
      "_model_module": "@jupyter-widgets/controls",
      "_model_module_version": "1.5.0",
      "_model_name": "ProgressStyleModel",
      "_view_count": null,
      "_view_module": "@jupyter-widgets/base",
      "_view_module_version": "1.2.0",
      "_view_name": "StyleView",
      "bar_color": null,
      "description_width": ""
     }
    },
    "24ac48ded68d40cbb931b126f972f583": {
     "model_module": "@jupyter-widgets/controls",
     "model_module_version": "1.5.0",
     "model_name": "HTMLModel",
     "state": {
      "_dom_classes": [],
      "_model_module": "@jupyter-widgets/controls",
      "_model_module_version": "1.5.0",
      "_model_name": "HTMLModel",
      "_view_count": null,
      "_view_module": "@jupyter-widgets/controls",
      "_view_module_version": "1.5.0",
      "_view_name": "HTMLView",
      "description": "",
      "description_tooltip": null,
      "layout": "IPY_MODEL_20341133aa2a441bb530be04484fae74",
      "placeholder": "​",
      "style": "IPY_MODEL_8c59ca00e89f4dad909eab2fad74d06d",
      "value": " 15.9k/15.9k [00:00&lt;00:00, 507kB/s]"
     }
    },
    "27aed1713ab7481b8dbe2ed2f75edebe": {
     "model_module": "@jupyter-widgets/base",
     "model_module_version": "1.2.0",
     "model_name": "LayoutModel",
     "state": {
      "_model_module": "@jupyter-widgets/base",
      "_model_module_version": "1.2.0",
      "_model_name": "LayoutModel",
      "_view_count": null,
      "_view_module": "@jupyter-widgets/base",
      "_view_module_version": "1.2.0",
      "_view_name": "LayoutView",
      "align_content": null,
      "align_items": null,
      "align_self": null,
      "border": null,
      "bottom": null,
      "display": null,
      "flex": null,
      "flex_flow": null,
      "grid_area": null,
      "grid_auto_columns": null,
      "grid_auto_flow": null,
      "grid_auto_rows": null,
      "grid_column": null,
      "grid_gap": null,
      "grid_row": null,
      "grid_template_areas": null,
      "grid_template_columns": null,
      "grid_template_rows": null,
      "height": null,
      "justify_content": null,
      "justify_items": null,
      "left": null,
      "margin": null,
      "max_height": null,
      "max_width": null,
      "min_height": null,
      "min_width": null,
      "object_fit": null,
      "object_position": null,
      "order": null,
      "overflow": null,
      "overflow_x": null,
      "overflow_y": null,
      "padding": null,
      "right": null,
      "top": null,
      "visibility": null,
      "width": null
     }
    },
    "2851085bcada45d08ba1b95875304dbf": {
     "model_module": "@jupyter-widgets/controls",
     "model_module_version": "1.5.0",
     "model_name": "HBoxModel",
     "state": {
      "_dom_classes": [],
      "_model_module": "@jupyter-widgets/controls",
      "_model_module_version": "1.5.0",
      "_model_name": "HBoxModel",
      "_view_count": null,
      "_view_module": "@jupyter-widgets/controls",
      "_view_module_version": "1.5.0",
      "_view_name": "HBoxView",
      "box_style": "",
      "children": [
       "IPY_MODEL_71022d3b51d245cab7fd2f6b5015c825",
       "IPY_MODEL_a7ba013d201548fc82f2baa46dce6d00",
       "IPY_MODEL_24ac48ded68d40cbb931b126f972f583"
      ],
      "layout": "IPY_MODEL_88f0fc86ea354b54bc55943a3536dd6e"
     }
    },
    "33e5e37aae44479fabe8a0ba5611a97a": {
     "model_module": "@jupyter-widgets/base",
     "model_module_version": "1.2.0",
     "model_name": "LayoutModel",
     "state": {
      "_model_module": "@jupyter-widgets/base",
      "_model_module_version": "1.2.0",
      "_model_name": "LayoutModel",
      "_view_count": null,
      "_view_module": "@jupyter-widgets/base",
      "_view_module_version": "1.2.0",
      "_view_name": "LayoutView",
      "align_content": null,
      "align_items": null,
      "align_self": null,
      "border": null,
      "bottom": null,
      "display": null,
      "flex": null,
      "flex_flow": null,
      "grid_area": null,
      "grid_auto_columns": null,
      "grid_auto_flow": null,
      "grid_auto_rows": null,
      "grid_column": null,
      "grid_gap": null,
      "grid_row": null,
      "grid_template_areas": null,
      "grid_template_columns": null,
      "grid_template_rows": null,
      "height": null,
      "justify_content": null,
      "justify_items": null,
      "left": null,
      "margin": null,
      "max_height": null,
      "max_width": null,
      "min_height": null,
      "min_width": null,
      "object_fit": null,
      "object_position": null,
      "order": null,
      "overflow": null,
      "overflow_x": null,
      "overflow_y": null,
      "padding": null,
      "right": null,
      "top": null,
      "visibility": null,
      "width": null
     }
    },
    "3f59891fb1814adb956bd5c8dfa79f3b": {
     "model_module": "@jupyter-widgets/controls",
     "model_module_version": "1.5.0",
     "model_name": "HTMLModel",
     "state": {
      "_dom_classes": [],
      "_model_module": "@jupyter-widgets/controls",
      "_model_module_version": "1.5.0",
      "_model_name": "HTMLModel",
      "_view_count": null,
      "_view_module": "@jupyter-widgets/controls",
      "_view_module_version": "1.5.0",
      "_view_name": "HTMLView",
      "description": "",
      "description_tooltip": null,
      "layout": "IPY_MODEL_b76ea5613bb94f0ab41306e25b914350",
      "placeholder": "​",
      "style": "IPY_MODEL_a36b02f1670540dda73fd217cb4a3c6d",
      "value": "Downloading builder script: 100%"
     }
    },
    "47d0fbdf318a40769abcbaa9aa588af0": {
     "model_module": "@jupyter-widgets/base",
     "model_module_version": "1.2.0",
     "model_name": "LayoutModel",
     "state": {
      "_model_module": "@jupyter-widgets/base",
      "_model_module_version": "1.2.0",
      "_model_name": "LayoutModel",
      "_view_count": null,
      "_view_module": "@jupyter-widgets/base",
      "_view_module_version": "1.2.0",
      "_view_name": "LayoutView",
      "align_content": null,
      "align_items": null,
      "align_self": null,
      "border": null,
      "bottom": null,
      "display": null,
      "flex": null,
      "flex_flow": null,
      "grid_area": null,
      "grid_auto_columns": null,
      "grid_auto_flow": null,
      "grid_auto_rows": null,
      "grid_column": null,
      "grid_gap": null,
      "grid_row": null,
      "grid_template_areas": null,
      "grid_template_columns": null,
      "grid_template_rows": null,
      "height": null,
      "justify_content": null,
      "justify_items": null,
      "left": null,
      "margin": null,
      "max_height": null,
      "max_width": null,
      "min_height": null,
      "min_width": null,
      "object_fit": null,
      "object_position": null,
      "order": null,
      "overflow": null,
      "overflow_x": null,
      "overflow_y": null,
      "padding": null,
      "right": null,
      "top": null,
      "visibility": null,
      "width": null
     }
    },
    "4e6de5c89c074e868b4f5495045d0f5a": {
     "model_module": "@jupyter-widgets/controls",
     "model_module_version": "1.5.0",
     "model_name": "HBoxModel",
     "state": {
      "_dom_classes": [],
      "_model_module": "@jupyter-widgets/controls",
      "_model_module_version": "1.5.0",
      "_model_name": "HBoxModel",
      "_view_count": null,
      "_view_module": "@jupyter-widgets/controls",
      "_view_module_version": "1.5.0",
      "_view_name": "HBoxView",
      "box_style": "",
      "children": [
       "IPY_MODEL_3f59891fb1814adb956bd5c8dfa79f3b",
       "IPY_MODEL_f6a650d0121448feb009fccc5a8d71c5",
       "IPY_MODEL_70d4a0613c2e484f8525b6d73e37ff4a"
      ],
      "layout": "IPY_MODEL_33e5e37aae44479fabe8a0ba5611a97a"
     }
    },
    "54ce053ba80d44d7988b2dac7450997d": {
     "model_module": "@jupyter-widgets/controls",
     "model_module_version": "1.5.0",
     "model_name": "ProgressStyleModel",
     "state": {
      "_model_module": "@jupyter-widgets/controls",
      "_model_module_version": "1.5.0",
      "_model_name": "ProgressStyleModel",
      "_view_count": null,
      "_view_module": "@jupyter-widgets/base",
      "_view_module_version": "1.2.0",
      "_view_name": "StyleView",
      "bar_color": null,
      "description_width": ""
     }
    },
    "580a0987cf264102b89c364d0da47509": {
     "model_module": "@jupyter-widgets/base",
     "model_module_version": "1.2.0",
     "model_name": "LayoutModel",
     "state": {
      "_model_module": "@jupyter-widgets/base",
      "_model_module_version": "1.2.0",
      "_model_name": "LayoutModel",
      "_view_count": null,
      "_view_module": "@jupyter-widgets/base",
      "_view_module_version": "1.2.0",
      "_view_name": "LayoutView",
      "align_content": null,
      "align_items": null,
      "align_self": null,
      "border": null,
      "bottom": null,
      "display": null,
      "flex": null,
      "flex_flow": null,
      "grid_area": null,
      "grid_auto_columns": null,
      "grid_auto_flow": null,
      "grid_auto_rows": null,
      "grid_column": null,
      "grid_gap": null,
      "grid_row": null,
      "grid_template_areas": null,
      "grid_template_columns": null,
      "grid_template_rows": null,
      "height": null,
      "justify_content": null,
      "justify_items": null,
      "left": null,
      "margin": null,
      "max_height": null,
      "max_width": null,
      "min_height": null,
      "min_width": null,
      "object_fit": null,
      "object_position": null,
      "order": null,
      "overflow": null,
      "overflow_x": null,
      "overflow_y": null,
      "padding": null,
      "right": null,
      "top": null,
      "visibility": null,
      "width": null
     }
    },
    "66b5c12d1c754602ba0049bb15200972": {
     "model_module": "@jupyter-widgets/controls",
     "model_module_version": "1.5.0",
     "model_name": "DescriptionStyleModel",
     "state": {
      "_model_module": "@jupyter-widgets/controls",
      "_model_module_version": "1.5.0",
      "_model_name": "DescriptionStyleModel",
      "_view_count": null,
      "_view_module": "@jupyter-widgets/base",
      "_view_module_version": "1.2.0",
      "_view_name": "StyleView",
      "description_width": ""
     }
    },
    "6ea597389ea14542958c13e93204153b": {
     "model_module": "@jupyter-widgets/controls",
     "model_module_version": "1.5.0",
     "model_name": "DescriptionStyleModel",
     "state": {
      "_model_module": "@jupyter-widgets/controls",
      "_model_module_version": "1.5.0",
      "_model_name": "DescriptionStyleModel",
      "_view_count": null,
      "_view_module": "@jupyter-widgets/base",
      "_view_module_version": "1.2.0",
      "_view_name": "StyleView",
      "description_width": ""
     }
    },
    "6fe18371778c4cf3b25397d46f7d651d": {
     "model_module": "@jupyter-widgets/base",
     "model_module_version": "1.2.0",
     "model_name": "LayoutModel",
     "state": {
      "_model_module": "@jupyter-widgets/base",
      "_model_module_version": "1.2.0",
      "_model_name": "LayoutModel",
      "_view_count": null,
      "_view_module": "@jupyter-widgets/base",
      "_view_module_version": "1.2.0",
      "_view_name": "LayoutView",
      "align_content": null,
      "align_items": null,
      "align_self": null,
      "border": null,
      "bottom": null,
      "display": null,
      "flex": null,
      "flex_flow": null,
      "grid_area": null,
      "grid_auto_columns": null,
      "grid_auto_flow": null,
      "grid_auto_rows": null,
      "grid_column": null,
      "grid_gap": null,
      "grid_row": null,
      "grid_template_areas": null,
      "grid_template_columns": null,
      "grid_template_rows": null,
      "height": null,
      "justify_content": null,
      "justify_items": null,
      "left": null,
      "margin": null,
      "max_height": null,
      "max_width": null,
      "min_height": null,
      "min_width": null,
      "object_fit": null,
      "object_position": null,
      "order": null,
      "overflow": null,
      "overflow_x": null,
      "overflow_y": null,
      "padding": null,
      "right": null,
      "top": null,
      "visibility": null,
      "width": null
     }
    },
    "70d4a0613c2e484f8525b6d73e37ff4a": {
     "model_module": "@jupyter-widgets/controls",
     "model_module_version": "1.5.0",
     "model_name": "HTMLModel",
     "state": {
      "_dom_classes": [],
      "_model_module": "@jupyter-widgets/controls",
      "_model_module_version": "1.5.0",
      "_model_name": "HTMLModel",
      "_view_count": null,
      "_view_module": "@jupyter-widgets/controls",
      "_view_module_version": "1.5.0",
      "_view_name": "HTMLView",
      "description": "",
      "description_tooltip": null,
      "layout": "IPY_MODEL_580a0987cf264102b89c364d0da47509",
      "placeholder": "​",
      "style": "IPY_MODEL_66b5c12d1c754602ba0049bb15200972",
      "value": " 19.1k/19.1k [00:00&lt;00:00, 223kB/s]"
     }
    },
    "71022d3b51d245cab7fd2f6b5015c825": {
     "model_module": "@jupyter-widgets/controls",
     "model_module_version": "1.5.0",
     "model_name": "HTMLModel",
     "state": {
      "_dom_classes": [],
      "_model_module": "@jupyter-widgets/controls",
      "_model_module_version": "1.5.0",
      "_model_name": "HTMLModel",
      "_view_count": null,
      "_view_module": "@jupyter-widgets/controls",
      "_view_module_version": "1.5.0",
      "_view_name": "HTMLView",
      "description": "",
      "description_tooltip": null,
      "layout": "IPY_MODEL_6fe18371778c4cf3b25397d46f7d651d",
      "placeholder": "​",
      "style": "IPY_MODEL_6ea597389ea14542958c13e93204153b",
      "value": "Downloading metadata: 100%"
     }
    },
    "88f0fc86ea354b54bc55943a3536dd6e": {
     "model_module": "@jupyter-widgets/base",
     "model_module_version": "1.2.0",
     "model_name": "LayoutModel",
     "state": {
      "_model_module": "@jupyter-widgets/base",
      "_model_module_version": "1.2.0",
      "_model_name": "LayoutModel",
      "_view_count": null,
      "_view_module": "@jupyter-widgets/base",
      "_view_module_version": "1.2.0",
      "_view_name": "LayoutView",
      "align_content": null,
      "align_items": null,
      "align_self": null,
      "border": null,
      "bottom": null,
      "display": null,
      "flex": null,
      "flex_flow": null,
      "grid_area": null,
      "grid_auto_columns": null,
      "grid_auto_flow": null,
      "grid_auto_rows": null,
      "grid_column": null,
      "grid_gap": null,
      "grid_row": null,
      "grid_template_areas": null,
      "grid_template_columns": null,
      "grid_template_rows": null,
      "height": null,
      "justify_content": null,
      "justify_items": null,
      "left": null,
      "margin": null,
      "max_height": null,
      "max_width": null,
      "min_height": null,
      "min_width": null,
      "object_fit": null,
      "object_position": null,
      "order": null,
      "overflow": null,
      "overflow_x": null,
      "overflow_y": null,
      "padding": null,
      "right": null,
      "top": null,
      "visibility": null,
      "width": null
     }
    },
    "8c59ca00e89f4dad909eab2fad74d06d": {
     "model_module": "@jupyter-widgets/controls",
     "model_module_version": "1.5.0",
     "model_name": "DescriptionStyleModel",
     "state": {
      "_model_module": "@jupyter-widgets/controls",
      "_model_module_version": "1.5.0",
      "_model_name": "DescriptionStyleModel",
      "_view_count": null,
      "_view_module": "@jupyter-widgets/base",
      "_view_module_version": "1.2.0",
      "_view_name": "StyleView",
      "description_width": ""
     }
    },
    "a36b02f1670540dda73fd217cb4a3c6d": {
     "model_module": "@jupyter-widgets/controls",
     "model_module_version": "1.5.0",
     "model_name": "DescriptionStyleModel",
     "state": {
      "_model_module": "@jupyter-widgets/controls",
      "_model_module_version": "1.5.0",
      "_model_name": "DescriptionStyleModel",
      "_view_count": null,
      "_view_module": "@jupyter-widgets/base",
      "_view_module_version": "1.2.0",
      "_view_name": "StyleView",
      "description_width": ""
     }
    },
    "a7ba013d201548fc82f2baa46dce6d00": {
     "model_module": "@jupyter-widgets/controls",
     "model_module_version": "1.5.0",
     "model_name": "FloatProgressModel",
     "state": {
      "_dom_classes": [],
      "_model_module": "@jupyter-widgets/controls",
      "_model_module_version": "1.5.0",
      "_model_name": "FloatProgressModel",
      "_view_count": null,
      "_view_module": "@jupyter-widgets/controls",
      "_view_module_version": "1.5.0",
      "_view_name": "ProgressView",
      "bar_style": "success",
      "description": "",
      "description_tooltip": null,
      "layout": "IPY_MODEL_47d0fbdf318a40769abcbaa9aa588af0",
      "max": 15860,
      "min": 0,
      "orientation": "horizontal",
      "style": "IPY_MODEL_54ce053ba80d44d7988b2dac7450997d",
      "value": 15860
     }
    },
    "b76ea5613bb94f0ab41306e25b914350": {
     "model_module": "@jupyter-widgets/base",
     "model_module_version": "1.2.0",
     "model_name": "LayoutModel",
     "state": {
      "_model_module": "@jupyter-widgets/base",
      "_model_module_version": "1.2.0",
      "_model_name": "LayoutModel",
      "_view_count": null,
      "_view_module": "@jupyter-widgets/base",
      "_view_module_version": "1.2.0",
      "_view_name": "LayoutView",
      "align_content": null,
      "align_items": null,
      "align_self": null,
      "border": null,
      "bottom": null,
      "display": null,
      "flex": null,
      "flex_flow": null,
      "grid_area": null,
      "grid_auto_columns": null,
      "grid_auto_flow": null,
      "grid_auto_rows": null,
      "grid_column": null,
      "grid_gap": null,
      "grid_row": null,
      "grid_template_areas": null,
      "grid_template_columns": null,
      "grid_template_rows": null,
      "height": null,
      "justify_content": null,
      "justify_items": null,
      "left": null,
      "margin": null,
      "max_height": null,
      "max_width": null,
      "min_height": null,
      "min_width": null,
      "object_fit": null,
      "object_position": null,
      "order": null,
      "overflow": null,
      "overflow_x": null,
      "overflow_y": null,
      "padding": null,
      "right": null,
      "top": null,
      "visibility": null,
      "width": null
     }
    },
    "f6a650d0121448feb009fccc5a8d71c5": {
     "model_module": "@jupyter-widgets/controls",
     "model_module_version": "1.5.0",
     "model_name": "FloatProgressModel",
     "state": {
      "_dom_classes": [],
      "_model_module": "@jupyter-widgets/controls",
      "_model_module_version": "1.5.0",
      "_model_name": "FloatProgressModel",
      "_view_count": null,
      "_view_module": "@jupyter-widgets/controls",
      "_view_module_version": "1.5.0",
      "_view_name": "ProgressView",
      "bar_style": "success",
      "description": "",
      "description_tooltip": null,
      "layout": "IPY_MODEL_27aed1713ab7481b8dbe2ed2f75edebe",
      "max": 19110,
      "min": 0,
      "orientation": "horizontal",
      "style": "IPY_MODEL_2344c8d366cc4f45a3137b91fee3dd9b",
      "value": 19110
     }
    }
   }
  }
 },
 "nbformat": 4,
 "nbformat_minor": 1
}
