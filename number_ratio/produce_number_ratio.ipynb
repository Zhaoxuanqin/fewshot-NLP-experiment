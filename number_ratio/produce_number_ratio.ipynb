{
 "cells": [
  {
   "cell_type": "code",
   "execution_count": 1,
   "id": "ac3aa44c",
   "metadata": {},
   "outputs": [],
   "source": [
    "\n",
    "import datasets\n",
    "\n",
    "import pandas as pd\n",
    "import operator"
   ]
  },
  {
   "cell_type": "code",
   "execution_count": 2,
   "id": "a934c9a0",
   "metadata": {},
   "outputs": [],
   "source": [
    "#load original dataset\n",
    "train_dataset = datasets.load_dataset(path='nlpaueb/finer-139', split='train',streaming = True)\n",
    "test_dataset = datasets.load_dataset(path='nlpaueb/finer-139', split='test',streaming = True)\n",
    "validation_dataset = datasets.load_dataset(path='nlpaueb/finer-139', split='validation',streaming = True)"
   ]
  },
  {
   "cell_type": "code",
   "execution_count": 3,
   "id": "c6cfe13a",
   "metadata": {},
   "outputs": [],
   "source": [
    "# enumerate dataset, each value is a dict data type, each value has to keys which are tokens and ner_tags\n",
    "# i extract the tokens and ner_tags from dataset and put them in two lists.\n",
    "def get_fulldata(dataset):\n",
    "    tokens = []\n",
    "    ner_tags = []\n",
    "    for idx,value in enumerate(dataset):\n",
    "        tokens.append(value['tokens'])\n",
    "        ner_tags.append(value['ner_tags'])\n",
    "    return tokens,ner_tags"
   ]
  },
  {
   "cell_type": "code",
   "execution_count": 4,
   "id": "319dfda9",
   "metadata": {},
   "outputs": [],
   "source": [
    "train_tokens,train_ner_tags = get_fulldata(train_dataset)\n",
    "test_tokens,test_ner_tags = get_fulldata(test_dataset)\n",
    "validation_tokens,validation_ner_tags = get_fulldata(validation_dataset)"
   ]
  },
  {
   "cell_type": "code",
   "execution_count": 5,
   "id": "eb607ddc",
   "metadata": {},
   "outputs": [],
   "source": [
    "def find_label_occurence(ner_tags):\n",
    "    label_occurence = {}\n",
    "    label_list = [x for x in range(1,280)]\n",
    "    for i in label_list:\n",
    "        for index,value in enumerate(ner_tags):\n",
    "            for j in value:\n",
    "                if (j==i):\n",
    "                     label_occurence[i] = label_occurence.get(i, 0.0) + 1.0\n",
    "            \n",
    "    label_occurence = dict(sorted(label_occurence.items(), key=operator.itemgetter(0),reverse=False))           \n",
    "    return label_occurence "
   ]
  },
  {
   "cell_type": "code",
   "execution_count": null,
   "id": "b9848b8d",
   "metadata": {},
   "outputs": [],
   "source": [
    "label_occurence = find_label_occurence(train_ner_tags)"
   ]
  },
  {
   "cell_type": "code",
   "execution_count": null,
   "id": "a21b2701",
   "metadata": {},
   "outputs": [],
   "source": [
    "def find_number_ratio(label_occurence,tokens,ner_tags):\n",
    "    number_occurence = {}\n",
    "    number_ratio = {}\n",
    "    label_list = [x for x in range(1,280)]\n",
    "    #if the token is a number, go to find the corrosponding label in the ner_tags list, and plus 1 for the label\n",
    "    for index,value in enumerate(tokens):\n",
    "        for idx, token in enumerate(value):\n",
    "            if re.fullmatch(r\"(\\d+[\\d,.]*)|([,.]\\d+)\", token):\n",
    "                label = ner_tags[index][idx]\n",
    "                number_occurence[label] = number_occurence.get(label, 0.0) + 1.0\n",
    "    #delete number = 0 key in the dict\n",
    "    del number_occurence[0]\n",
    "    #use the  total label occurence divide the number_occurence          \n",
    "    for key in number_occurence.keys():\n",
    "        number_ratio[key]=str(round(number_occurence[key]/label_occurence[key]*100,3))+'%'\n",
    "    #sort by key\n",
    "    number_ratio = dict(sorted(number_ratio.items(), key=operator.itemgetter(0),reverse=False)) \n",
    "    #convert the dict to dataframe\n",
    "    number = {'label':[],'ratio':[]}\n",
    "    \n",
    "    for key in number_ratio.keys():\n",
    "        number['label'].append(key)\n",
    "        number['ratio'].append(number_ratio[key])\n",
    "        \n",
    "    df = pd.DataFrame.from_dict(number)\n",
    "    \n",
    "    return number_ratio,df"
   ]
  },
  {
   "cell_type": "code",
   "execution_count": null,
   "id": "79bc7653",
   "metadata": {},
   "outputs": [],
   "source": [
    "number_ratio,df= find_number_ratio(label_occurence,train_tokens,train_ner_tags)"
   ]
  },
  {
   "cell_type": "code",
   "execution_count": null,
   "id": "160cae1b",
   "metadata": {},
   "outputs": [],
   "source": []
  },
  {
   "cell_type": "code",
   "execution_count": null,
   "id": "0d4e8d6c",
   "metadata": {},
   "outputs": [],
   "source": [
    "df.to_csv('number_ration.csv')"
   ]
  },
  {
   "cell_type": "code",
   "execution_count": null,
   "id": "fbda4846",
   "metadata": {},
   "outputs": [],
   "source": [
    "df"
   ]
  },
  {
   "cell_type": "code",
   "execution_count": 5,
   "id": "03cb5699",
   "metadata": {},
   "outputs": [],
   "source": [
    "import pandas as pd\n",
    "import datasets"
   ]
  },
  {
   "cell_type": "code",
   "execution_count": 6,
   "id": "f995e461",
   "metadata": {},
   "outputs": [],
   "source": [
    " def load_dataset_tags():\n",
    "\n",
    "        dataset = datasets.load_dataset('nlpaueb/finer-139', split='train', streaming=True)\n",
    "        dataset_tags = dataset.features['ner_tags'].feature.names\n",
    "        tag2idx = {tag: int(i) for i, tag in enumerate(dataset_tags)}\n",
    "        idx2tag = {idx: tag for tag, idx in tag2idx.items()}\n",
    "\n",
    "        return tag2idx, idx2tag"
   ]
  },
  {
   "cell_type": "code",
   "execution_count": 7,
   "id": "6ed7e6a3",
   "metadata": {},
   "outputs": [],
   "source": [
    "tag2idx, idx2tag = load_dataset_tags()"
   ]
  },
  {
   "cell_type": "code",
   "execution_count": 11,
   "id": "d181e297",
   "metadata": {},
   "outputs": [],
   "source": [
    "df = pd.read_csv('number_ration.csv')"
   ]
  },
  {
   "cell_type": "code",
   "execution_count": 12,
   "id": "80e77b47",
   "metadata": {},
   "outputs": [
    {
     "data": {
      "text/html": [
       "<div>\n",
       "<style scoped>\n",
       "    .dataframe tbody tr th:only-of-type {\n",
       "        vertical-align: middle;\n",
       "    }\n",
       "\n",
       "    .dataframe tbody tr th {\n",
       "        vertical-align: top;\n",
       "    }\n",
       "\n",
       "    .dataframe thead th {\n",
       "        text-align: right;\n",
       "    }\n",
       "</style>\n",
       "<table border=\"1\" class=\"dataframe\">\n",
       "  <thead>\n",
       "    <tr style=\"text-align: right;\">\n",
       "      <th></th>\n",
       "      <th>Unnamed: 0</th>\n",
       "      <th>label</th>\n",
       "      <th>ratio</th>\n",
       "    </tr>\n",
       "  </thead>\n",
       "  <tbody>\n",
       "    <tr>\n",
       "      <th>0</th>\n",
       "      <td>0</td>\n",
       "      <td>1</td>\n",
       "      <td>97.946%</td>\n",
       "    </tr>\n",
       "    <tr>\n",
       "      <th>1</th>\n",
       "      <td>1</td>\n",
       "      <td>2</td>\n",
       "      <td>81.941%</td>\n",
       "    </tr>\n",
       "    <tr>\n",
       "      <th>2</th>\n",
       "      <td>2</td>\n",
       "      <td>4</td>\n",
       "      <td>98.668%</td>\n",
       "    </tr>\n",
       "    <tr>\n",
       "      <th>3</th>\n",
       "      <td>3</td>\n",
       "      <td>5</td>\n",
       "      <td>99.368%</td>\n",
       "    </tr>\n",
       "    <tr>\n",
       "      <th>4</th>\n",
       "      <td>4</td>\n",
       "      <td>6</td>\n",
       "      <td>99.704%</td>\n",
       "    </tr>\n",
       "    <tr>\n",
       "      <th>...</th>\n",
       "      <td>...</td>\n",
       "      <td>...</td>\n",
       "      <td>...</td>\n",
       "    </tr>\n",
       "    <tr>\n",
       "      <th>135</th>\n",
       "      <td>135</td>\n",
       "      <td>164</td>\n",
       "      <td>100.0%</td>\n",
       "    </tr>\n",
       "    <tr>\n",
       "      <th>136</th>\n",
       "      <td>136</td>\n",
       "      <td>165</td>\n",
       "      <td>93.075%</td>\n",
       "    </tr>\n",
       "    <tr>\n",
       "      <th>137</th>\n",
       "      <td>137</td>\n",
       "      <td>167</td>\n",
       "      <td>99.451%</td>\n",
       "    </tr>\n",
       "    <tr>\n",
       "      <th>138</th>\n",
       "      <td>138</td>\n",
       "      <td>168</td>\n",
       "      <td>93.676%</td>\n",
       "    </tr>\n",
       "    <tr>\n",
       "      <th>139</th>\n",
       "      <td>139</td>\n",
       "      <td>169</td>\n",
       "      <td>98.66%</td>\n",
       "    </tr>\n",
       "  </tbody>\n",
       "</table>\n",
       "<p>140 rows × 3 columns</p>\n",
       "</div>"
      ],
      "text/plain": [
       "     Unnamed: 0  label    ratio\n",
       "0             0      1  97.946%\n",
       "1             1      2  81.941%\n",
       "2             2      4  98.668%\n",
       "3             3      5  99.368%\n",
       "4             4      6  99.704%\n",
       "..          ...    ...      ...\n",
       "135         135    164   100.0%\n",
       "136         136    165  93.075%\n",
       "137         137    167  99.451%\n",
       "138         138    168  93.676%\n",
       "139         139    169   98.66%\n",
       "\n",
       "[140 rows x 3 columns]"
      ]
     },
     "execution_count": 12,
     "metadata": {},
     "output_type": "execute_result"
    }
   ],
   "source": [
    "df"
   ]
  },
  {
   "cell_type": "code",
   "execution_count": 13,
   "id": "228f4ff8",
   "metadata": {},
   "outputs": [],
   "source": [
    "df['real_label']=df['label'].apply(lambda x:idx2tag[x])"
   ]
  },
  {
   "cell_type": "code",
   "execution_count": 16,
   "id": "89b6152c",
   "metadata": {},
   "outputs": [
    {
     "data": {
      "text/plain": [
       "'B-AcquiredFiniteLivedIntangibleAssetsWeightedAverageUsefulLife'"
      ]
     },
     "execution_count": 16,
     "metadata": {},
     "output_type": "execute_result"
    }
   ],
   "source": [
    "idx2tag[2]"
   ]
  },
  {
   "cell_type": "code",
   "execution_count": 18,
   "id": "e6791acf",
   "metadata": {},
   "outputs": [],
   "source": [
    "df.to_csv('number_ratio.csv')"
   ]
  },
  {
   "cell_type": "code",
   "execution_count": null,
   "id": "e90a4641",
   "metadata": {},
   "outputs": [],
   "source": []
  }
 ],
 "metadata": {
  "kernelspec": {
   "display_name": "Python 3 (ipykernel)",
   "language": "python",
   "name": "python3"
  },
  "language_info": {
   "codemirror_mode": {
    "name": "ipython",
    "version": 3
   },
   "file_extension": ".py",
   "mimetype": "text/x-python",
   "name": "python",
   "nbconvert_exporter": "python",
   "pygments_lexer": "ipython3",
   "version": "3.10.4"
  }
 },
 "nbformat": 4,
 "nbformat_minor": 5
}
